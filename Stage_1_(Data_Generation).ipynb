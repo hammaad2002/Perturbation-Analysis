{
  "metadata": {
    "accelerator": "GPU",
    "colab": {
      "provenance": [],
      "gpuType": "T4",
      "include_colab_link": true
    },
    "kernelspec": {
      "name": "python3",
      "display_name": "Python 3",
      "language": "python"
    },
    "language_info": {
      "name": "python",
      "version": "3.10.10",
      "mimetype": "text/x-python",
      "codemirror_mode": {
        "name": "ipython",
        "version": 3
      },
      "pygments_lexer": "ipython3",
      "nbconvert_exporter": "python",
      "file_extension": ".py"
    },
    "papermill": {
      "default_parameters": {},
      "duration": 207.003959,
      "end_time": "2023-04-23T09:37:09.332615",
      "environment_variables": {},
      "exception": null,
      "input_path": "__notebook__.ipynb",
      "output_path": "__notebook__.ipynb",
      "parameters": {},
      "start_time": "2023-04-23T09:33:42.328656",
      "version": "2.4.0"
    },
    "widgets": {
      "application/vnd.jupyter.widget-state+json": {
        "a1094dccb2364b2789e307d8ddfc56c8": {
          "model_module": "@jupyter-widgets/controls",
          "model_name": "HBoxModel",
          "model_module_version": "1.5.0",
          "state": {
            "_dom_classes": [],
            "_model_module": "@jupyter-widgets/controls",
            "_model_module_version": "1.5.0",
            "_model_name": "HBoxModel",
            "_view_count": null,
            "_view_module": "@jupyter-widgets/controls",
            "_view_module_version": "1.5.0",
            "_view_name": "HBoxView",
            "box_style": "",
            "children": [
              "IPY_MODEL_4ce476bbf7424b1c8aa19326e6c7aba3",
              "IPY_MODEL_981a78c6d06045848ae28fa7c92c7d59",
              "IPY_MODEL_921dcc18c007430f95eec45abf1a5808"
            ],
            "layout": "IPY_MODEL_704ca4b1af5d468fa39c67eadaf12a53"
          }
        },
        "4ce476bbf7424b1c8aa19326e6c7aba3": {
          "model_module": "@jupyter-widgets/controls",
          "model_name": "HTMLModel",
          "model_module_version": "1.5.0",
          "state": {
            "_dom_classes": [],
            "_model_module": "@jupyter-widgets/controls",
            "_model_module_version": "1.5.0",
            "_model_name": "HTMLModel",
            "_view_count": null,
            "_view_module": "@jupyter-widgets/controls",
            "_view_module_version": "1.5.0",
            "_view_name": "HTMLView",
            "description": "",
            "description_tooltip": null,
            "layout": "IPY_MODEL_8cac883adac34d508ebcae3ea8802a80",
            "placeholder": "​",
            "style": "IPY_MODEL_0de30380094a450f93b6163f014d1256",
            "value": "100%"
          }
        },
        "981a78c6d06045848ae28fa7c92c7d59": {
          "model_module": "@jupyter-widgets/controls",
          "model_name": "FloatProgressModel",
          "model_module_version": "1.5.0",
          "state": {
            "_dom_classes": [],
            "_model_module": "@jupyter-widgets/controls",
            "_model_module_version": "1.5.0",
            "_model_name": "FloatProgressModel",
            "_view_count": null,
            "_view_module": "@jupyter-widgets/controls",
            "_view_module_version": "1.5.0",
            "_view_name": "ProgressView",
            "bar_style": "success",
            "description": "",
            "description_tooltip": null,
            "layout": "IPY_MODEL_712e6dca1e674ae8a5909025ba6e78d1",
            "max": 100,
            "min": 0,
            "orientation": "horizontal",
            "style": "IPY_MODEL_6e34c2220ac34ad6983e306fd239ccdb",
            "value": 100
          }
        },
        "921dcc18c007430f95eec45abf1a5808": {
          "model_module": "@jupyter-widgets/controls",
          "model_name": "HTMLModel",
          "model_module_version": "1.5.0",
          "state": {
            "_dom_classes": [],
            "_model_module": "@jupyter-widgets/controls",
            "_model_module_version": "1.5.0",
            "_model_name": "HTMLModel",
            "_view_count": null,
            "_view_module": "@jupyter-widgets/controls",
            "_view_module_version": "1.5.0",
            "_view_name": "HTMLView",
            "description": "",
            "description_tooltip": null,
            "layout": "IPY_MODEL_92cd19bae99b426aade137496157f63f",
            "placeholder": "​",
            "style": "IPY_MODEL_d95137a261c6423694b0c3ed6177d676",
            "value": " 100/100 [03:37&lt;00:00,  2.52s/it]"
          }
        },
        "704ca4b1af5d468fa39c67eadaf12a53": {
          "model_module": "@jupyter-widgets/base",
          "model_name": "LayoutModel",
          "model_module_version": "1.2.0",
          "state": {
            "_model_module": "@jupyter-widgets/base",
            "_model_module_version": "1.2.0",
            "_model_name": "LayoutModel",
            "_view_count": null,
            "_view_module": "@jupyter-widgets/base",
            "_view_module_version": "1.2.0",
            "_view_name": "LayoutView",
            "align_content": null,
            "align_items": null,
            "align_self": null,
            "border": null,
            "bottom": null,
            "display": null,
            "flex": null,
            "flex_flow": null,
            "grid_area": null,
            "grid_auto_columns": null,
            "grid_auto_flow": null,
            "grid_auto_rows": null,
            "grid_column": null,
            "grid_gap": null,
            "grid_row": null,
            "grid_template_areas": null,
            "grid_template_columns": null,
            "grid_template_rows": null,
            "height": null,
            "justify_content": null,
            "justify_items": null,
            "left": null,
            "margin": null,
            "max_height": null,
            "max_width": null,
            "min_height": null,
            "min_width": null,
            "object_fit": null,
            "object_position": null,
            "order": null,
            "overflow": null,
            "overflow_x": null,
            "overflow_y": null,
            "padding": null,
            "right": null,
            "top": null,
            "visibility": null,
            "width": null
          }
        },
        "8cac883adac34d508ebcae3ea8802a80": {
          "model_module": "@jupyter-widgets/base",
          "model_name": "LayoutModel",
          "model_module_version": "1.2.0",
          "state": {
            "_model_module": "@jupyter-widgets/base",
            "_model_module_version": "1.2.0",
            "_model_name": "LayoutModel",
            "_view_count": null,
            "_view_module": "@jupyter-widgets/base",
            "_view_module_version": "1.2.0",
            "_view_name": "LayoutView",
            "align_content": null,
            "align_items": null,
            "align_self": null,
            "border": null,
            "bottom": null,
            "display": null,
            "flex": null,
            "flex_flow": null,
            "grid_area": null,
            "grid_auto_columns": null,
            "grid_auto_flow": null,
            "grid_auto_rows": null,
            "grid_column": null,
            "grid_gap": null,
            "grid_row": null,
            "grid_template_areas": null,
            "grid_template_columns": null,
            "grid_template_rows": null,
            "height": null,
            "justify_content": null,
            "justify_items": null,
            "left": null,
            "margin": null,
            "max_height": null,
            "max_width": null,
            "min_height": null,
            "min_width": null,
            "object_fit": null,
            "object_position": null,
            "order": null,
            "overflow": null,
            "overflow_x": null,
            "overflow_y": null,
            "padding": null,
            "right": null,
            "top": null,
            "visibility": null,
            "width": null
          }
        },
        "0de30380094a450f93b6163f014d1256": {
          "model_module": "@jupyter-widgets/controls",
          "model_name": "DescriptionStyleModel",
          "model_module_version": "1.5.0",
          "state": {
            "_model_module": "@jupyter-widgets/controls",
            "_model_module_version": "1.5.0",
            "_model_name": "DescriptionStyleModel",
            "_view_count": null,
            "_view_module": "@jupyter-widgets/base",
            "_view_module_version": "1.2.0",
            "_view_name": "StyleView",
            "description_width": ""
          }
        },
        "712e6dca1e674ae8a5909025ba6e78d1": {
          "model_module": "@jupyter-widgets/base",
          "model_name": "LayoutModel",
          "model_module_version": "1.2.0",
          "state": {
            "_model_module": "@jupyter-widgets/base",
            "_model_module_version": "1.2.0",
            "_model_name": "LayoutModel",
            "_view_count": null,
            "_view_module": "@jupyter-widgets/base",
            "_view_module_version": "1.2.0",
            "_view_name": "LayoutView",
            "align_content": null,
            "align_items": null,
            "align_self": null,
            "border": null,
            "bottom": null,
            "display": null,
            "flex": null,
            "flex_flow": null,
            "grid_area": null,
            "grid_auto_columns": null,
            "grid_auto_flow": null,
            "grid_auto_rows": null,
            "grid_column": null,
            "grid_gap": null,
            "grid_row": null,
            "grid_template_areas": null,
            "grid_template_columns": null,
            "grid_template_rows": null,
            "height": null,
            "justify_content": null,
            "justify_items": null,
            "left": null,
            "margin": null,
            "max_height": null,
            "max_width": null,
            "min_height": null,
            "min_width": null,
            "object_fit": null,
            "object_position": null,
            "order": null,
            "overflow": null,
            "overflow_x": null,
            "overflow_y": null,
            "padding": null,
            "right": null,
            "top": null,
            "visibility": null,
            "width": null
          }
        },
        "6e34c2220ac34ad6983e306fd239ccdb": {
          "model_module": "@jupyter-widgets/controls",
          "model_name": "ProgressStyleModel",
          "model_module_version": "1.5.0",
          "state": {
            "_model_module": "@jupyter-widgets/controls",
            "_model_module_version": "1.5.0",
            "_model_name": "ProgressStyleModel",
            "_view_count": null,
            "_view_module": "@jupyter-widgets/base",
            "_view_module_version": "1.2.0",
            "_view_name": "StyleView",
            "bar_color": null,
            "description_width": ""
          }
        },
        "92cd19bae99b426aade137496157f63f": {
          "model_module": "@jupyter-widgets/base",
          "model_name": "LayoutModel",
          "model_module_version": "1.2.0",
          "state": {
            "_model_module": "@jupyter-widgets/base",
            "_model_module_version": "1.2.0",
            "_model_name": "LayoutModel",
            "_view_count": null,
            "_view_module": "@jupyter-widgets/base",
            "_view_module_version": "1.2.0",
            "_view_name": "LayoutView",
            "align_content": null,
            "align_items": null,
            "align_self": null,
            "border": null,
            "bottom": null,
            "display": null,
            "flex": null,
            "flex_flow": null,
            "grid_area": null,
            "grid_auto_columns": null,
            "grid_auto_flow": null,
            "grid_auto_rows": null,
            "grid_column": null,
            "grid_gap": null,
            "grid_row": null,
            "grid_template_areas": null,
            "grid_template_columns": null,
            "grid_template_rows": null,
            "height": null,
            "justify_content": null,
            "justify_items": null,
            "left": null,
            "margin": null,
            "max_height": null,
            "max_width": null,
            "min_height": null,
            "min_width": null,
            "object_fit": null,
            "object_position": null,
            "order": null,
            "overflow": null,
            "overflow_x": null,
            "overflow_y": null,
            "padding": null,
            "right": null,
            "top": null,
            "visibility": null,
            "width": null
          }
        },
        "d95137a261c6423694b0c3ed6177d676": {
          "model_module": "@jupyter-widgets/controls",
          "model_name": "DescriptionStyleModel",
          "model_module_version": "1.5.0",
          "state": {
            "_model_module": "@jupyter-widgets/controls",
            "_model_module_version": "1.5.0",
            "_model_name": "DescriptionStyleModel",
            "_view_count": null,
            "_view_module": "@jupyter-widgets/base",
            "_view_module_version": "1.2.0",
            "_view_name": "StyleView",
            "description_width": ""
          }
        },
        "86bd48aa8d494a16b30a0db3742ffcf9": {
          "model_module": "@jupyter-widgets/controls",
          "model_name": "HBoxModel",
          "model_module_version": "1.5.0",
          "state": {
            "_dom_classes": [],
            "_model_module": "@jupyter-widgets/controls",
            "_model_module_version": "1.5.0",
            "_model_name": "HBoxModel",
            "_view_count": null,
            "_view_module": "@jupyter-widgets/controls",
            "_view_module_version": "1.5.0",
            "_view_name": "HBoxView",
            "box_style": "",
            "children": [
              "IPY_MODEL_ff18d6c76d8949ce9588edca69fbfa34",
              "IPY_MODEL_953d2ac1d8584774b62b3b998f26e9a1",
              "IPY_MODEL_dc7bcd51e17b45a5af61915b84409bd2"
            ],
            "layout": "IPY_MODEL_0b130f11b9324cc2a4fc486a51e06366"
          }
        },
        "ff18d6c76d8949ce9588edca69fbfa34": {
          "model_module": "@jupyter-widgets/controls",
          "model_name": "HTMLModel",
          "model_module_version": "1.5.0",
          "state": {
            "_dom_classes": [],
            "_model_module": "@jupyter-widgets/controls",
            "_model_module_version": "1.5.0",
            "_model_name": "HTMLModel",
            "_view_count": null,
            "_view_module": "@jupyter-widgets/controls",
            "_view_module_version": "1.5.0",
            "_view_name": "HTMLView",
            "description": "",
            "description_tooltip": null,
            "layout": "IPY_MODEL_777e99a24843484890264ff6769ec618",
            "placeholder": "​",
            "style": "IPY_MODEL_b18b09c7567f47408054c292e58b69f1",
            "value": "100%"
          }
        },
        "953d2ac1d8584774b62b3b998f26e9a1": {
          "model_module": "@jupyter-widgets/controls",
          "model_name": "FloatProgressModel",
          "model_module_version": "1.5.0",
          "state": {
            "_dom_classes": [],
            "_model_module": "@jupyter-widgets/controls",
            "_model_module_version": "1.5.0",
            "_model_name": "FloatProgressModel",
            "_view_count": null,
            "_view_module": "@jupyter-widgets/controls",
            "_view_module_version": "1.5.0",
            "_view_name": "ProgressView",
            "bar_style": "success",
            "description": "",
            "description_tooltip": null,
            "layout": "IPY_MODEL_5e69b926b1094091b05b93dfbe249e7e",
            "max": 100,
            "min": 0,
            "orientation": "horizontal",
            "style": "IPY_MODEL_6fe9457b285440e982c217a474561d04",
            "value": 100
          }
        },
        "dc7bcd51e17b45a5af61915b84409bd2": {
          "model_module": "@jupyter-widgets/controls",
          "model_name": "HTMLModel",
          "model_module_version": "1.5.0",
          "state": {
            "_dom_classes": [],
            "_model_module": "@jupyter-widgets/controls",
            "_model_module_version": "1.5.0",
            "_model_name": "HTMLModel",
            "_view_count": null,
            "_view_module": "@jupyter-widgets/controls",
            "_view_module_version": "1.5.0",
            "_view_name": "HTMLView",
            "description": "",
            "description_tooltip": null,
            "layout": "IPY_MODEL_e2f05f25d264428fafec9605585b0bdf",
            "placeholder": "​",
            "style": "IPY_MODEL_5c47667d213648e78b846abcbd69f22a",
            "value": " 100/100 [01:08&lt;00:00,  1.35it/s]"
          }
        },
        "0b130f11b9324cc2a4fc486a51e06366": {
          "model_module": "@jupyter-widgets/base",
          "model_name": "LayoutModel",
          "model_module_version": "1.2.0",
          "state": {
            "_model_module": "@jupyter-widgets/base",
            "_model_module_version": "1.2.0",
            "_model_name": "LayoutModel",
            "_view_count": null,
            "_view_module": "@jupyter-widgets/base",
            "_view_module_version": "1.2.0",
            "_view_name": "LayoutView",
            "align_content": null,
            "align_items": null,
            "align_self": null,
            "border": null,
            "bottom": null,
            "display": null,
            "flex": null,
            "flex_flow": null,
            "grid_area": null,
            "grid_auto_columns": null,
            "grid_auto_flow": null,
            "grid_auto_rows": null,
            "grid_column": null,
            "grid_gap": null,
            "grid_row": null,
            "grid_template_areas": null,
            "grid_template_columns": null,
            "grid_template_rows": null,
            "height": null,
            "justify_content": null,
            "justify_items": null,
            "left": null,
            "margin": null,
            "max_height": null,
            "max_width": null,
            "min_height": null,
            "min_width": null,
            "object_fit": null,
            "object_position": null,
            "order": null,
            "overflow": null,
            "overflow_x": null,
            "overflow_y": null,
            "padding": null,
            "right": null,
            "top": null,
            "visibility": null,
            "width": null
          }
        },
        "777e99a24843484890264ff6769ec618": {
          "model_module": "@jupyter-widgets/base",
          "model_name": "LayoutModel",
          "model_module_version": "1.2.0",
          "state": {
            "_model_module": "@jupyter-widgets/base",
            "_model_module_version": "1.2.0",
            "_model_name": "LayoutModel",
            "_view_count": null,
            "_view_module": "@jupyter-widgets/base",
            "_view_module_version": "1.2.0",
            "_view_name": "LayoutView",
            "align_content": null,
            "align_items": null,
            "align_self": null,
            "border": null,
            "bottom": null,
            "display": null,
            "flex": null,
            "flex_flow": null,
            "grid_area": null,
            "grid_auto_columns": null,
            "grid_auto_flow": null,
            "grid_auto_rows": null,
            "grid_column": null,
            "grid_gap": null,
            "grid_row": null,
            "grid_template_areas": null,
            "grid_template_columns": null,
            "grid_template_rows": null,
            "height": null,
            "justify_content": null,
            "justify_items": null,
            "left": null,
            "margin": null,
            "max_height": null,
            "max_width": null,
            "min_height": null,
            "min_width": null,
            "object_fit": null,
            "object_position": null,
            "order": null,
            "overflow": null,
            "overflow_x": null,
            "overflow_y": null,
            "padding": null,
            "right": null,
            "top": null,
            "visibility": null,
            "width": null
          }
        },
        "b18b09c7567f47408054c292e58b69f1": {
          "model_module": "@jupyter-widgets/controls",
          "model_name": "DescriptionStyleModel",
          "model_module_version": "1.5.0",
          "state": {
            "_model_module": "@jupyter-widgets/controls",
            "_model_module_version": "1.5.0",
            "_model_name": "DescriptionStyleModel",
            "_view_count": null,
            "_view_module": "@jupyter-widgets/base",
            "_view_module_version": "1.2.0",
            "_view_name": "StyleView",
            "description_width": ""
          }
        },
        "5e69b926b1094091b05b93dfbe249e7e": {
          "model_module": "@jupyter-widgets/base",
          "model_name": "LayoutModel",
          "model_module_version": "1.2.0",
          "state": {
            "_model_module": "@jupyter-widgets/base",
            "_model_module_version": "1.2.0",
            "_model_name": "LayoutModel",
            "_view_count": null,
            "_view_module": "@jupyter-widgets/base",
            "_view_module_version": "1.2.0",
            "_view_name": "LayoutView",
            "align_content": null,
            "align_items": null,
            "align_self": null,
            "border": null,
            "bottom": null,
            "display": null,
            "flex": null,
            "flex_flow": null,
            "grid_area": null,
            "grid_auto_columns": null,
            "grid_auto_flow": null,
            "grid_auto_rows": null,
            "grid_column": null,
            "grid_gap": null,
            "grid_row": null,
            "grid_template_areas": null,
            "grid_template_columns": null,
            "grid_template_rows": null,
            "height": null,
            "justify_content": null,
            "justify_items": null,
            "left": null,
            "margin": null,
            "max_height": null,
            "max_width": null,
            "min_height": null,
            "min_width": null,
            "object_fit": null,
            "object_position": null,
            "order": null,
            "overflow": null,
            "overflow_x": null,
            "overflow_y": null,
            "padding": null,
            "right": null,
            "top": null,
            "visibility": null,
            "width": null
          }
        },
        "6fe9457b285440e982c217a474561d04": {
          "model_module": "@jupyter-widgets/controls",
          "model_name": "ProgressStyleModel",
          "model_module_version": "1.5.0",
          "state": {
            "_model_module": "@jupyter-widgets/controls",
            "_model_module_version": "1.5.0",
            "_model_name": "ProgressStyleModel",
            "_view_count": null,
            "_view_module": "@jupyter-widgets/base",
            "_view_module_version": "1.2.0",
            "_view_name": "StyleView",
            "bar_color": null,
            "description_width": ""
          }
        },
        "e2f05f25d264428fafec9605585b0bdf": {
          "model_module": "@jupyter-widgets/base",
          "model_name": "LayoutModel",
          "model_module_version": "1.2.0",
          "state": {
            "_model_module": "@jupyter-widgets/base",
            "_model_module_version": "1.2.0",
            "_model_name": "LayoutModel",
            "_view_count": null,
            "_view_module": "@jupyter-widgets/base",
            "_view_module_version": "1.2.0",
            "_view_name": "LayoutView",
            "align_content": null,
            "align_items": null,
            "align_self": null,
            "border": null,
            "bottom": null,
            "display": null,
            "flex": null,
            "flex_flow": null,
            "grid_area": null,
            "grid_auto_columns": null,
            "grid_auto_flow": null,
            "grid_auto_rows": null,
            "grid_column": null,
            "grid_gap": null,
            "grid_row": null,
            "grid_template_areas": null,
            "grid_template_columns": null,
            "grid_template_rows": null,
            "height": null,
            "justify_content": null,
            "justify_items": null,
            "left": null,
            "margin": null,
            "max_height": null,
            "max_width": null,
            "min_height": null,
            "min_width": null,
            "object_fit": null,
            "object_position": null,
            "order": null,
            "overflow": null,
            "overflow_x": null,
            "overflow_y": null,
            "padding": null,
            "right": null,
            "top": null,
            "visibility": null,
            "width": null
          }
        },
        "5c47667d213648e78b846abcbd69f22a": {
          "model_module": "@jupyter-widgets/controls",
          "model_name": "DescriptionStyleModel",
          "model_module_version": "1.5.0",
          "state": {
            "_model_module": "@jupyter-widgets/controls",
            "_model_module_version": "1.5.0",
            "_model_name": "DescriptionStyleModel",
            "_view_count": null,
            "_view_module": "@jupyter-widgets/base",
            "_view_module_version": "1.2.0",
            "_view_name": "StyleView",
            "description_width": ""
          }
        },
        "c9fb2963273a4bb38bac53260714b803": {
          "model_module": "@jupyter-widgets/controls",
          "model_name": "HBoxModel",
          "model_module_version": "1.5.0",
          "state": {
            "_dom_classes": [],
            "_model_module": "@jupyter-widgets/controls",
            "_model_module_version": "1.5.0",
            "_model_name": "HBoxModel",
            "_view_count": null,
            "_view_module": "@jupyter-widgets/controls",
            "_view_module_version": "1.5.0",
            "_view_name": "HBoxView",
            "box_style": "",
            "children": [
              "IPY_MODEL_910e36ddcdbc4ccba6bb8c111007677b",
              "IPY_MODEL_60667a97455a491cb4d3ce1297c9aaed",
              "IPY_MODEL_59d5bf87e9b245538f9428fc28ed667b"
            ],
            "layout": "IPY_MODEL_1a7d6fbb93e9434babd727399ae390b4"
          }
        },
        "910e36ddcdbc4ccba6bb8c111007677b": {
          "model_module": "@jupyter-widgets/controls",
          "model_name": "HTMLModel",
          "model_module_version": "1.5.0",
          "state": {
            "_dom_classes": [],
            "_model_module": "@jupyter-widgets/controls",
            "_model_module_version": "1.5.0",
            "_model_name": "HTMLModel",
            "_view_count": null,
            "_view_module": "@jupyter-widgets/controls",
            "_view_module_version": "1.5.0",
            "_view_name": "HTMLView",
            "description": "",
            "description_tooltip": null,
            "layout": "IPY_MODEL_1b6549bbd741409e8f447a0746bbb971",
            "placeholder": "​",
            "style": "IPY_MODEL_2b0bc722644d4803b6d6ff74f61b9275",
            "value": "100%"
          }
        },
        "60667a97455a491cb4d3ce1297c9aaed": {
          "model_module": "@jupyter-widgets/controls",
          "model_name": "FloatProgressModel",
          "model_module_version": "1.5.0",
          "state": {
            "_dom_classes": [],
            "_model_module": "@jupyter-widgets/controls",
            "_model_module_version": "1.5.0",
            "_model_name": "FloatProgressModel",
            "_view_count": null,
            "_view_module": "@jupyter-widgets/controls",
            "_view_module_version": "1.5.0",
            "_view_name": "ProgressView",
            "bar_style": "success",
            "description": "",
            "description_tooltip": null,
            "layout": "IPY_MODEL_8b6a3a68a6f842be90199e848138b157",
            "max": 100,
            "min": 0,
            "orientation": "horizontal",
            "style": "IPY_MODEL_1b565159a6e642828d4142b7cc2ff869",
            "value": 100
          }
        },
        "59d5bf87e9b245538f9428fc28ed667b": {
          "model_module": "@jupyter-widgets/controls",
          "model_name": "HTMLModel",
          "model_module_version": "1.5.0",
          "state": {
            "_dom_classes": [],
            "_model_module": "@jupyter-widgets/controls",
            "_model_module_version": "1.5.0",
            "_model_name": "HTMLModel",
            "_view_count": null,
            "_view_module": "@jupyter-widgets/controls",
            "_view_module_version": "1.5.0",
            "_view_name": "HTMLView",
            "description": "",
            "description_tooltip": null,
            "layout": "IPY_MODEL_0e43f1056b9a42998cfa9ab447a2a109",
            "placeholder": "​",
            "style": "IPY_MODEL_6d6ab38fe2b54e5e80248d2d5437c8a8",
            "value": " 100/100 [01:07&lt;00:00,  1.27it/s]"
          }
        },
        "1a7d6fbb93e9434babd727399ae390b4": {
          "model_module": "@jupyter-widgets/base",
          "model_name": "LayoutModel",
          "model_module_version": "1.2.0",
          "state": {
            "_model_module": "@jupyter-widgets/base",
            "_model_module_version": "1.2.0",
            "_model_name": "LayoutModel",
            "_view_count": null,
            "_view_module": "@jupyter-widgets/base",
            "_view_module_version": "1.2.0",
            "_view_name": "LayoutView",
            "align_content": null,
            "align_items": null,
            "align_self": null,
            "border": null,
            "bottom": null,
            "display": null,
            "flex": null,
            "flex_flow": null,
            "grid_area": null,
            "grid_auto_columns": null,
            "grid_auto_flow": null,
            "grid_auto_rows": null,
            "grid_column": null,
            "grid_gap": null,
            "grid_row": null,
            "grid_template_areas": null,
            "grid_template_columns": null,
            "grid_template_rows": null,
            "height": null,
            "justify_content": null,
            "justify_items": null,
            "left": null,
            "margin": null,
            "max_height": null,
            "max_width": null,
            "min_height": null,
            "min_width": null,
            "object_fit": null,
            "object_position": null,
            "order": null,
            "overflow": null,
            "overflow_x": null,
            "overflow_y": null,
            "padding": null,
            "right": null,
            "top": null,
            "visibility": null,
            "width": null
          }
        },
        "1b6549bbd741409e8f447a0746bbb971": {
          "model_module": "@jupyter-widgets/base",
          "model_name": "LayoutModel",
          "model_module_version": "1.2.0",
          "state": {
            "_model_module": "@jupyter-widgets/base",
            "_model_module_version": "1.2.0",
            "_model_name": "LayoutModel",
            "_view_count": null,
            "_view_module": "@jupyter-widgets/base",
            "_view_module_version": "1.2.0",
            "_view_name": "LayoutView",
            "align_content": null,
            "align_items": null,
            "align_self": null,
            "border": null,
            "bottom": null,
            "display": null,
            "flex": null,
            "flex_flow": null,
            "grid_area": null,
            "grid_auto_columns": null,
            "grid_auto_flow": null,
            "grid_auto_rows": null,
            "grid_column": null,
            "grid_gap": null,
            "grid_row": null,
            "grid_template_areas": null,
            "grid_template_columns": null,
            "grid_template_rows": null,
            "height": null,
            "justify_content": null,
            "justify_items": null,
            "left": null,
            "margin": null,
            "max_height": null,
            "max_width": null,
            "min_height": null,
            "min_width": null,
            "object_fit": null,
            "object_position": null,
            "order": null,
            "overflow": null,
            "overflow_x": null,
            "overflow_y": null,
            "padding": null,
            "right": null,
            "top": null,
            "visibility": null,
            "width": null
          }
        },
        "2b0bc722644d4803b6d6ff74f61b9275": {
          "model_module": "@jupyter-widgets/controls",
          "model_name": "DescriptionStyleModel",
          "model_module_version": "1.5.0",
          "state": {
            "_model_module": "@jupyter-widgets/controls",
            "_model_module_version": "1.5.0",
            "_model_name": "DescriptionStyleModel",
            "_view_count": null,
            "_view_module": "@jupyter-widgets/base",
            "_view_module_version": "1.2.0",
            "_view_name": "StyleView",
            "description_width": ""
          }
        },
        "8b6a3a68a6f842be90199e848138b157": {
          "model_module": "@jupyter-widgets/base",
          "model_name": "LayoutModel",
          "model_module_version": "1.2.0",
          "state": {
            "_model_module": "@jupyter-widgets/base",
            "_model_module_version": "1.2.0",
            "_model_name": "LayoutModel",
            "_view_count": null,
            "_view_module": "@jupyter-widgets/base",
            "_view_module_version": "1.2.0",
            "_view_name": "LayoutView",
            "align_content": null,
            "align_items": null,
            "align_self": null,
            "border": null,
            "bottom": null,
            "display": null,
            "flex": null,
            "flex_flow": null,
            "grid_area": null,
            "grid_auto_columns": null,
            "grid_auto_flow": null,
            "grid_auto_rows": null,
            "grid_column": null,
            "grid_gap": null,
            "grid_row": null,
            "grid_template_areas": null,
            "grid_template_columns": null,
            "grid_template_rows": null,
            "height": null,
            "justify_content": null,
            "justify_items": null,
            "left": null,
            "margin": null,
            "max_height": null,
            "max_width": null,
            "min_height": null,
            "min_width": null,
            "object_fit": null,
            "object_position": null,
            "order": null,
            "overflow": null,
            "overflow_x": null,
            "overflow_y": null,
            "padding": null,
            "right": null,
            "top": null,
            "visibility": null,
            "width": null
          }
        },
        "1b565159a6e642828d4142b7cc2ff869": {
          "model_module": "@jupyter-widgets/controls",
          "model_name": "ProgressStyleModel",
          "model_module_version": "1.5.0",
          "state": {
            "_model_module": "@jupyter-widgets/controls",
            "_model_module_version": "1.5.0",
            "_model_name": "ProgressStyleModel",
            "_view_count": null,
            "_view_module": "@jupyter-widgets/base",
            "_view_module_version": "1.2.0",
            "_view_name": "StyleView",
            "bar_color": null,
            "description_width": ""
          }
        },
        "0e43f1056b9a42998cfa9ab447a2a109": {
          "model_module": "@jupyter-widgets/base",
          "model_name": "LayoutModel",
          "model_module_version": "1.2.0",
          "state": {
            "_model_module": "@jupyter-widgets/base",
            "_model_module_version": "1.2.0",
            "_model_name": "LayoutModel",
            "_view_count": null,
            "_view_module": "@jupyter-widgets/base",
            "_view_module_version": "1.2.0",
            "_view_name": "LayoutView",
            "align_content": null,
            "align_items": null,
            "align_self": null,
            "border": null,
            "bottom": null,
            "display": null,
            "flex": null,
            "flex_flow": null,
            "grid_area": null,
            "grid_auto_columns": null,
            "grid_auto_flow": null,
            "grid_auto_rows": null,
            "grid_column": null,
            "grid_gap": null,
            "grid_row": null,
            "grid_template_areas": null,
            "grid_template_columns": null,
            "grid_template_rows": null,
            "height": null,
            "justify_content": null,
            "justify_items": null,
            "left": null,
            "margin": null,
            "max_height": null,
            "max_width": null,
            "min_height": null,
            "min_width": null,
            "object_fit": null,
            "object_position": null,
            "order": null,
            "overflow": null,
            "overflow_x": null,
            "overflow_y": null,
            "padding": null,
            "right": null,
            "top": null,
            "visibility": null,
            "width": null
          }
        },
        "6d6ab38fe2b54e5e80248d2d5437c8a8": {
          "model_module": "@jupyter-widgets/controls",
          "model_name": "DescriptionStyleModel",
          "model_module_version": "1.5.0",
          "state": {
            "_model_module": "@jupyter-widgets/controls",
            "_model_module_version": "1.5.0",
            "_model_name": "DescriptionStyleModel",
            "_view_count": null,
            "_view_module": "@jupyter-widgets/base",
            "_view_module_version": "1.2.0",
            "_view_name": "StyleView",
            "description_width": ""
          }
        },
        "0524a27eea7f486db909e90dd0167860": {
          "model_module": "@jupyter-widgets/controls",
          "model_name": "HBoxModel",
          "model_module_version": "1.5.0",
          "state": {
            "_dom_classes": [],
            "_model_module": "@jupyter-widgets/controls",
            "_model_module_version": "1.5.0",
            "_model_name": "HBoxModel",
            "_view_count": null,
            "_view_module": "@jupyter-widgets/controls",
            "_view_module_version": "1.5.0",
            "_view_name": "HBoxView",
            "box_style": "",
            "children": [
              "IPY_MODEL_69637a1736d44ba0b291a3d94b11c645",
              "IPY_MODEL_a5ebd0c854264df5be641b1e05a67fa3",
              "IPY_MODEL_a4608aa0111d4a889c9e2140c0700574"
            ],
            "layout": "IPY_MODEL_5e73ec9a02a14502b2ed096b8342ce15"
          }
        },
        "69637a1736d44ba0b291a3d94b11c645": {
          "model_module": "@jupyter-widgets/controls",
          "model_name": "HTMLModel",
          "model_module_version": "1.5.0",
          "state": {
            "_dom_classes": [],
            "_model_module": "@jupyter-widgets/controls",
            "_model_module_version": "1.5.0",
            "_model_name": "HTMLModel",
            "_view_count": null,
            "_view_module": "@jupyter-widgets/controls",
            "_view_module_version": "1.5.0",
            "_view_name": "HTMLView",
            "description": "",
            "description_tooltip": null,
            "layout": "IPY_MODEL_4c31ffc65a624d4884f968801202fb52",
            "placeholder": "​",
            "style": "IPY_MODEL_d2c5afac94e8424c90d9ffaae01ef462",
            "value": "100%"
          }
        },
        "a5ebd0c854264df5be641b1e05a67fa3": {
          "model_module": "@jupyter-widgets/controls",
          "model_name": "FloatProgressModel",
          "model_module_version": "1.5.0",
          "state": {
            "_dom_classes": [],
            "_model_module": "@jupyter-widgets/controls",
            "_model_module_version": "1.5.0",
            "_model_name": "FloatProgressModel",
            "_view_count": null,
            "_view_module": "@jupyter-widgets/controls",
            "_view_module_version": "1.5.0",
            "_view_name": "ProgressView",
            "bar_style": "success",
            "description": "",
            "description_tooltip": null,
            "layout": "IPY_MODEL_29b9c2e31a43406d9c3efedaa261b24d",
            "max": 100,
            "min": 0,
            "orientation": "horizontal",
            "style": "IPY_MODEL_c08686842dbe45a5a7ed0aaae87b0767",
            "value": 100
          }
        },
        "a4608aa0111d4a889c9e2140c0700574": {
          "model_module": "@jupyter-widgets/controls",
          "model_name": "HTMLModel",
          "model_module_version": "1.5.0",
          "state": {
            "_dom_classes": [],
            "_model_module": "@jupyter-widgets/controls",
            "_model_module_version": "1.5.0",
            "_model_name": "HTMLModel",
            "_view_count": null,
            "_view_module": "@jupyter-widgets/controls",
            "_view_module_version": "1.5.0",
            "_view_name": "HTMLView",
            "description": "",
            "description_tooltip": null,
            "layout": "IPY_MODEL_2dd2d98e88814301bfba2a1e8808e986",
            "placeholder": "​",
            "style": "IPY_MODEL_a0c746c9712b4a4abf0850f9f6fef06a",
            "value": " 100/100 [01:07&lt;00:00,  1.35it/s]"
          }
        },
        "5e73ec9a02a14502b2ed096b8342ce15": {
          "model_module": "@jupyter-widgets/base",
          "model_name": "LayoutModel",
          "model_module_version": "1.2.0",
          "state": {
            "_model_module": "@jupyter-widgets/base",
            "_model_module_version": "1.2.0",
            "_model_name": "LayoutModel",
            "_view_count": null,
            "_view_module": "@jupyter-widgets/base",
            "_view_module_version": "1.2.0",
            "_view_name": "LayoutView",
            "align_content": null,
            "align_items": null,
            "align_self": null,
            "border": null,
            "bottom": null,
            "display": null,
            "flex": null,
            "flex_flow": null,
            "grid_area": null,
            "grid_auto_columns": null,
            "grid_auto_flow": null,
            "grid_auto_rows": null,
            "grid_column": null,
            "grid_gap": null,
            "grid_row": null,
            "grid_template_areas": null,
            "grid_template_columns": null,
            "grid_template_rows": null,
            "height": null,
            "justify_content": null,
            "justify_items": null,
            "left": null,
            "margin": null,
            "max_height": null,
            "max_width": null,
            "min_height": null,
            "min_width": null,
            "object_fit": null,
            "object_position": null,
            "order": null,
            "overflow": null,
            "overflow_x": null,
            "overflow_y": null,
            "padding": null,
            "right": null,
            "top": null,
            "visibility": null,
            "width": null
          }
        },
        "4c31ffc65a624d4884f968801202fb52": {
          "model_module": "@jupyter-widgets/base",
          "model_name": "LayoutModel",
          "model_module_version": "1.2.0",
          "state": {
            "_model_module": "@jupyter-widgets/base",
            "_model_module_version": "1.2.0",
            "_model_name": "LayoutModel",
            "_view_count": null,
            "_view_module": "@jupyter-widgets/base",
            "_view_module_version": "1.2.0",
            "_view_name": "LayoutView",
            "align_content": null,
            "align_items": null,
            "align_self": null,
            "border": null,
            "bottom": null,
            "display": null,
            "flex": null,
            "flex_flow": null,
            "grid_area": null,
            "grid_auto_columns": null,
            "grid_auto_flow": null,
            "grid_auto_rows": null,
            "grid_column": null,
            "grid_gap": null,
            "grid_row": null,
            "grid_template_areas": null,
            "grid_template_columns": null,
            "grid_template_rows": null,
            "height": null,
            "justify_content": null,
            "justify_items": null,
            "left": null,
            "margin": null,
            "max_height": null,
            "max_width": null,
            "min_height": null,
            "min_width": null,
            "object_fit": null,
            "object_position": null,
            "order": null,
            "overflow": null,
            "overflow_x": null,
            "overflow_y": null,
            "padding": null,
            "right": null,
            "top": null,
            "visibility": null,
            "width": null
          }
        },
        "d2c5afac94e8424c90d9ffaae01ef462": {
          "model_module": "@jupyter-widgets/controls",
          "model_name": "DescriptionStyleModel",
          "model_module_version": "1.5.0",
          "state": {
            "_model_module": "@jupyter-widgets/controls",
            "_model_module_version": "1.5.0",
            "_model_name": "DescriptionStyleModel",
            "_view_count": null,
            "_view_module": "@jupyter-widgets/base",
            "_view_module_version": "1.2.0",
            "_view_name": "StyleView",
            "description_width": ""
          }
        },
        "29b9c2e31a43406d9c3efedaa261b24d": {
          "model_module": "@jupyter-widgets/base",
          "model_name": "LayoutModel",
          "model_module_version": "1.2.0",
          "state": {
            "_model_module": "@jupyter-widgets/base",
            "_model_module_version": "1.2.0",
            "_model_name": "LayoutModel",
            "_view_count": null,
            "_view_module": "@jupyter-widgets/base",
            "_view_module_version": "1.2.0",
            "_view_name": "LayoutView",
            "align_content": null,
            "align_items": null,
            "align_self": null,
            "border": null,
            "bottom": null,
            "display": null,
            "flex": null,
            "flex_flow": null,
            "grid_area": null,
            "grid_auto_columns": null,
            "grid_auto_flow": null,
            "grid_auto_rows": null,
            "grid_column": null,
            "grid_gap": null,
            "grid_row": null,
            "grid_template_areas": null,
            "grid_template_columns": null,
            "grid_template_rows": null,
            "height": null,
            "justify_content": null,
            "justify_items": null,
            "left": null,
            "margin": null,
            "max_height": null,
            "max_width": null,
            "min_height": null,
            "min_width": null,
            "object_fit": null,
            "object_position": null,
            "order": null,
            "overflow": null,
            "overflow_x": null,
            "overflow_y": null,
            "padding": null,
            "right": null,
            "top": null,
            "visibility": null,
            "width": null
          }
        },
        "c08686842dbe45a5a7ed0aaae87b0767": {
          "model_module": "@jupyter-widgets/controls",
          "model_name": "ProgressStyleModel",
          "model_module_version": "1.5.0",
          "state": {
            "_model_module": "@jupyter-widgets/controls",
            "_model_module_version": "1.5.0",
            "_model_name": "ProgressStyleModel",
            "_view_count": null,
            "_view_module": "@jupyter-widgets/base",
            "_view_module_version": "1.2.0",
            "_view_name": "StyleView",
            "bar_color": null,
            "description_width": ""
          }
        },
        "2dd2d98e88814301bfba2a1e8808e986": {
          "model_module": "@jupyter-widgets/base",
          "model_name": "LayoutModel",
          "model_module_version": "1.2.0",
          "state": {
            "_model_module": "@jupyter-widgets/base",
            "_model_module_version": "1.2.0",
            "_model_name": "LayoutModel",
            "_view_count": null,
            "_view_module": "@jupyter-widgets/base",
            "_view_module_version": "1.2.0",
            "_view_name": "LayoutView",
            "align_content": null,
            "align_items": null,
            "align_self": null,
            "border": null,
            "bottom": null,
            "display": null,
            "flex": null,
            "flex_flow": null,
            "grid_area": null,
            "grid_auto_columns": null,
            "grid_auto_flow": null,
            "grid_auto_rows": null,
            "grid_column": null,
            "grid_gap": null,
            "grid_row": null,
            "grid_template_areas": null,
            "grid_template_columns": null,
            "grid_template_rows": null,
            "height": null,
            "justify_content": null,
            "justify_items": null,
            "left": null,
            "margin": null,
            "max_height": null,
            "max_width": null,
            "min_height": null,
            "min_width": null,
            "object_fit": null,
            "object_position": null,
            "order": null,
            "overflow": null,
            "overflow_x": null,
            "overflow_y": null,
            "padding": null,
            "right": null,
            "top": null,
            "visibility": null,
            "width": null
          }
        },
        "a0c746c9712b4a4abf0850f9f6fef06a": {
          "model_module": "@jupyter-widgets/controls",
          "model_name": "DescriptionStyleModel",
          "model_module_version": "1.5.0",
          "state": {
            "_model_module": "@jupyter-widgets/controls",
            "_model_module_version": "1.5.0",
            "_model_name": "DescriptionStyleModel",
            "_view_count": null,
            "_view_module": "@jupyter-widgets/base",
            "_view_module_version": "1.2.0",
            "_view_name": "StyleView",
            "description_width": ""
          }
        },
        "b7fc14a605594319845e64f92afb4511": {
          "model_module": "@jupyter-widgets/controls",
          "model_name": "HBoxModel",
          "model_module_version": "1.5.0",
          "state": {
            "_dom_classes": [],
            "_model_module": "@jupyter-widgets/controls",
            "_model_module_version": "1.5.0",
            "_model_name": "HBoxModel",
            "_view_count": null,
            "_view_module": "@jupyter-widgets/controls",
            "_view_module_version": "1.5.0",
            "_view_name": "HBoxView",
            "box_style": "",
            "children": [
              "IPY_MODEL_313ef269aa3d4115bb339701e29c1120",
              "IPY_MODEL_a0dc13d0b6d846ed9eb5a956c957ce25",
              "IPY_MODEL_2e46e0a974c54b7d97249b1aa79b2951"
            ],
            "layout": "IPY_MODEL_014b4705c0f2473da069812b4485acd4"
          }
        },
        "313ef269aa3d4115bb339701e29c1120": {
          "model_module": "@jupyter-widgets/controls",
          "model_name": "HTMLModel",
          "model_module_version": "1.5.0",
          "state": {
            "_dom_classes": [],
            "_model_module": "@jupyter-widgets/controls",
            "_model_module_version": "1.5.0",
            "_model_name": "HTMLModel",
            "_view_count": null,
            "_view_module": "@jupyter-widgets/controls",
            "_view_module_version": "1.5.0",
            "_view_name": "HTMLView",
            "description": "",
            "description_tooltip": null,
            "layout": "IPY_MODEL_86888c1cb73a4a7b83a1502035602c63",
            "placeholder": "​",
            "style": "IPY_MODEL_3edafb7911844157b94e0cda2969e351",
            "value": "100%"
          }
        },
        "a0dc13d0b6d846ed9eb5a956c957ce25": {
          "model_module": "@jupyter-widgets/controls",
          "model_name": "FloatProgressModel",
          "model_module_version": "1.5.0",
          "state": {
            "_dom_classes": [],
            "_model_module": "@jupyter-widgets/controls",
            "_model_module_version": "1.5.0",
            "_model_name": "FloatProgressModel",
            "_view_count": null,
            "_view_module": "@jupyter-widgets/controls",
            "_view_module_version": "1.5.0",
            "_view_name": "ProgressView",
            "bar_style": "success",
            "description": "",
            "description_tooltip": null,
            "layout": "IPY_MODEL_08cba7a44c5f4632beffe4efb4db2b67",
            "max": 100,
            "min": 0,
            "orientation": "horizontal",
            "style": "IPY_MODEL_6e7d28ac831643c1a8167d4e88010b6f",
            "value": 100
          }
        },
        "2e46e0a974c54b7d97249b1aa79b2951": {
          "model_module": "@jupyter-widgets/controls",
          "model_name": "HTMLModel",
          "model_module_version": "1.5.0",
          "state": {
            "_dom_classes": [],
            "_model_module": "@jupyter-widgets/controls",
            "_model_module_version": "1.5.0",
            "_model_name": "HTMLModel",
            "_view_count": null,
            "_view_module": "@jupyter-widgets/controls",
            "_view_module_version": "1.5.0",
            "_view_name": "HTMLView",
            "description": "",
            "description_tooltip": null,
            "layout": "IPY_MODEL_ee53028710af4bab86354295062a61f7",
            "placeholder": "​",
            "style": "IPY_MODEL_3d3ba1a873c043bd8a7f265d593916a8",
            "value": " 100/100 [01:06&lt;00:00,  1.25it/s]"
          }
        },
        "014b4705c0f2473da069812b4485acd4": {
          "model_module": "@jupyter-widgets/base",
          "model_name": "LayoutModel",
          "model_module_version": "1.2.0",
          "state": {
            "_model_module": "@jupyter-widgets/base",
            "_model_module_version": "1.2.0",
            "_model_name": "LayoutModel",
            "_view_count": null,
            "_view_module": "@jupyter-widgets/base",
            "_view_module_version": "1.2.0",
            "_view_name": "LayoutView",
            "align_content": null,
            "align_items": null,
            "align_self": null,
            "border": null,
            "bottom": null,
            "display": null,
            "flex": null,
            "flex_flow": null,
            "grid_area": null,
            "grid_auto_columns": null,
            "grid_auto_flow": null,
            "grid_auto_rows": null,
            "grid_column": null,
            "grid_gap": null,
            "grid_row": null,
            "grid_template_areas": null,
            "grid_template_columns": null,
            "grid_template_rows": null,
            "height": null,
            "justify_content": null,
            "justify_items": null,
            "left": null,
            "margin": null,
            "max_height": null,
            "max_width": null,
            "min_height": null,
            "min_width": null,
            "object_fit": null,
            "object_position": null,
            "order": null,
            "overflow": null,
            "overflow_x": null,
            "overflow_y": null,
            "padding": null,
            "right": null,
            "top": null,
            "visibility": null,
            "width": null
          }
        },
        "86888c1cb73a4a7b83a1502035602c63": {
          "model_module": "@jupyter-widgets/base",
          "model_name": "LayoutModel",
          "model_module_version": "1.2.0",
          "state": {
            "_model_module": "@jupyter-widgets/base",
            "_model_module_version": "1.2.0",
            "_model_name": "LayoutModel",
            "_view_count": null,
            "_view_module": "@jupyter-widgets/base",
            "_view_module_version": "1.2.0",
            "_view_name": "LayoutView",
            "align_content": null,
            "align_items": null,
            "align_self": null,
            "border": null,
            "bottom": null,
            "display": null,
            "flex": null,
            "flex_flow": null,
            "grid_area": null,
            "grid_auto_columns": null,
            "grid_auto_flow": null,
            "grid_auto_rows": null,
            "grid_column": null,
            "grid_gap": null,
            "grid_row": null,
            "grid_template_areas": null,
            "grid_template_columns": null,
            "grid_template_rows": null,
            "height": null,
            "justify_content": null,
            "justify_items": null,
            "left": null,
            "margin": null,
            "max_height": null,
            "max_width": null,
            "min_height": null,
            "min_width": null,
            "object_fit": null,
            "object_position": null,
            "order": null,
            "overflow": null,
            "overflow_x": null,
            "overflow_y": null,
            "padding": null,
            "right": null,
            "top": null,
            "visibility": null,
            "width": null
          }
        },
        "3edafb7911844157b94e0cda2969e351": {
          "model_module": "@jupyter-widgets/controls",
          "model_name": "DescriptionStyleModel",
          "model_module_version": "1.5.0",
          "state": {
            "_model_module": "@jupyter-widgets/controls",
            "_model_module_version": "1.5.0",
            "_model_name": "DescriptionStyleModel",
            "_view_count": null,
            "_view_module": "@jupyter-widgets/base",
            "_view_module_version": "1.2.0",
            "_view_name": "StyleView",
            "description_width": ""
          }
        },
        "08cba7a44c5f4632beffe4efb4db2b67": {
          "model_module": "@jupyter-widgets/base",
          "model_name": "LayoutModel",
          "model_module_version": "1.2.0",
          "state": {
            "_model_module": "@jupyter-widgets/base",
            "_model_module_version": "1.2.0",
            "_model_name": "LayoutModel",
            "_view_count": null,
            "_view_module": "@jupyter-widgets/base",
            "_view_module_version": "1.2.0",
            "_view_name": "LayoutView",
            "align_content": null,
            "align_items": null,
            "align_self": null,
            "border": null,
            "bottom": null,
            "display": null,
            "flex": null,
            "flex_flow": null,
            "grid_area": null,
            "grid_auto_columns": null,
            "grid_auto_flow": null,
            "grid_auto_rows": null,
            "grid_column": null,
            "grid_gap": null,
            "grid_row": null,
            "grid_template_areas": null,
            "grid_template_columns": null,
            "grid_template_rows": null,
            "height": null,
            "justify_content": null,
            "justify_items": null,
            "left": null,
            "margin": null,
            "max_height": null,
            "max_width": null,
            "min_height": null,
            "min_width": null,
            "object_fit": null,
            "object_position": null,
            "order": null,
            "overflow": null,
            "overflow_x": null,
            "overflow_y": null,
            "padding": null,
            "right": null,
            "top": null,
            "visibility": null,
            "width": null
          }
        },
        "6e7d28ac831643c1a8167d4e88010b6f": {
          "model_module": "@jupyter-widgets/controls",
          "model_name": "ProgressStyleModel",
          "model_module_version": "1.5.0",
          "state": {
            "_model_module": "@jupyter-widgets/controls",
            "_model_module_version": "1.5.0",
            "_model_name": "ProgressStyleModel",
            "_view_count": null,
            "_view_module": "@jupyter-widgets/base",
            "_view_module_version": "1.2.0",
            "_view_name": "StyleView",
            "bar_color": null,
            "description_width": ""
          }
        },
        "ee53028710af4bab86354295062a61f7": {
          "model_module": "@jupyter-widgets/base",
          "model_name": "LayoutModel",
          "model_module_version": "1.2.0",
          "state": {
            "_model_module": "@jupyter-widgets/base",
            "_model_module_version": "1.2.0",
            "_model_name": "LayoutModel",
            "_view_count": null,
            "_view_module": "@jupyter-widgets/base",
            "_view_module_version": "1.2.0",
            "_view_name": "LayoutView",
            "align_content": null,
            "align_items": null,
            "align_self": null,
            "border": null,
            "bottom": null,
            "display": null,
            "flex": null,
            "flex_flow": null,
            "grid_area": null,
            "grid_auto_columns": null,
            "grid_auto_flow": null,
            "grid_auto_rows": null,
            "grid_column": null,
            "grid_gap": null,
            "grid_row": null,
            "grid_template_areas": null,
            "grid_template_columns": null,
            "grid_template_rows": null,
            "height": null,
            "justify_content": null,
            "justify_items": null,
            "left": null,
            "margin": null,
            "max_height": null,
            "max_width": null,
            "min_height": null,
            "min_width": null,
            "object_fit": null,
            "object_position": null,
            "order": null,
            "overflow": null,
            "overflow_x": null,
            "overflow_y": null,
            "padding": null,
            "right": null,
            "top": null,
            "visibility": null,
            "width": null
          }
        },
        "3d3ba1a873c043bd8a7f265d593916a8": {
          "model_module": "@jupyter-widgets/controls",
          "model_name": "DescriptionStyleModel",
          "model_module_version": "1.5.0",
          "state": {
            "_model_module": "@jupyter-widgets/controls",
            "_model_module_version": "1.5.0",
            "_model_name": "DescriptionStyleModel",
            "_view_count": null,
            "_view_module": "@jupyter-widgets/base",
            "_view_module_version": "1.2.0",
            "_view_name": "StyleView",
            "description_width": ""
          }
        },
        "7babb29194ab4f178d283e008555d46a": {
          "model_module": "@jupyter-widgets/controls",
          "model_name": "HBoxModel",
          "model_module_version": "1.5.0",
          "state": {
            "_dom_classes": [],
            "_model_module": "@jupyter-widgets/controls",
            "_model_module_version": "1.5.0",
            "_model_name": "HBoxModel",
            "_view_count": null,
            "_view_module": "@jupyter-widgets/controls",
            "_view_module_version": "1.5.0",
            "_view_name": "HBoxView",
            "box_style": "",
            "children": [
              "IPY_MODEL_7e6190998e9e437eaeccf322c17f47c6",
              "IPY_MODEL_4fe418e6bba04867b4abe75a55dc700a",
              "IPY_MODEL_ca7a71ab867b450f8572edf6c98a374a"
            ],
            "layout": "IPY_MODEL_a0dc73d0c03041429a11a78646d727d0"
          }
        },
        "7e6190998e9e437eaeccf322c17f47c6": {
          "model_module": "@jupyter-widgets/controls",
          "model_name": "HTMLModel",
          "model_module_version": "1.5.0",
          "state": {
            "_dom_classes": [],
            "_model_module": "@jupyter-widgets/controls",
            "_model_module_version": "1.5.0",
            "_model_name": "HTMLModel",
            "_view_count": null,
            "_view_module": "@jupyter-widgets/controls",
            "_view_module_version": "1.5.0",
            "_view_name": "HTMLView",
            "description": "",
            "description_tooltip": null,
            "layout": "IPY_MODEL_cb0db395be07494c9537f05307f965a9",
            "placeholder": "​",
            "style": "IPY_MODEL_bde87597e1eb45e08cc135864ff0979b",
            "value": "100%"
          }
        },
        "4fe418e6bba04867b4abe75a55dc700a": {
          "model_module": "@jupyter-widgets/controls",
          "model_name": "FloatProgressModel",
          "model_module_version": "1.5.0",
          "state": {
            "_dom_classes": [],
            "_model_module": "@jupyter-widgets/controls",
            "_model_module_version": "1.5.0",
            "_model_name": "FloatProgressModel",
            "_view_count": null,
            "_view_module": "@jupyter-widgets/controls",
            "_view_module_version": "1.5.0",
            "_view_name": "ProgressView",
            "bar_style": "success",
            "description": "",
            "description_tooltip": null,
            "layout": "IPY_MODEL_b8f02eb35f374fd685572293ec839db9",
            "max": 100,
            "min": 0,
            "orientation": "horizontal",
            "style": "IPY_MODEL_8c80db56c3054833be0c5c30b8e5d4b2",
            "value": 100
          }
        },
        "ca7a71ab867b450f8572edf6c98a374a": {
          "model_module": "@jupyter-widgets/controls",
          "model_name": "HTMLModel",
          "model_module_version": "1.5.0",
          "state": {
            "_dom_classes": [],
            "_model_module": "@jupyter-widgets/controls",
            "_model_module_version": "1.5.0",
            "_model_name": "HTMLModel",
            "_view_count": null,
            "_view_module": "@jupyter-widgets/controls",
            "_view_module_version": "1.5.0",
            "_view_name": "HTMLView",
            "description": "",
            "description_tooltip": null,
            "layout": "IPY_MODEL_b912da3b7eb84289806e7f12047bc90d",
            "placeholder": "​",
            "style": "IPY_MODEL_7a25a290b83a4ace8c6674cfc4b7ff5a",
            "value": " 100/100 [01:06&lt;00:00,  1.34it/s]"
          }
        },
        "a0dc73d0c03041429a11a78646d727d0": {
          "model_module": "@jupyter-widgets/base",
          "model_name": "LayoutModel",
          "model_module_version": "1.2.0",
          "state": {
            "_model_module": "@jupyter-widgets/base",
            "_model_module_version": "1.2.0",
            "_model_name": "LayoutModel",
            "_view_count": null,
            "_view_module": "@jupyter-widgets/base",
            "_view_module_version": "1.2.0",
            "_view_name": "LayoutView",
            "align_content": null,
            "align_items": null,
            "align_self": null,
            "border": null,
            "bottom": null,
            "display": null,
            "flex": null,
            "flex_flow": null,
            "grid_area": null,
            "grid_auto_columns": null,
            "grid_auto_flow": null,
            "grid_auto_rows": null,
            "grid_column": null,
            "grid_gap": null,
            "grid_row": null,
            "grid_template_areas": null,
            "grid_template_columns": null,
            "grid_template_rows": null,
            "height": null,
            "justify_content": null,
            "justify_items": null,
            "left": null,
            "margin": null,
            "max_height": null,
            "max_width": null,
            "min_height": null,
            "min_width": null,
            "object_fit": null,
            "object_position": null,
            "order": null,
            "overflow": null,
            "overflow_x": null,
            "overflow_y": null,
            "padding": null,
            "right": null,
            "top": null,
            "visibility": null,
            "width": null
          }
        },
        "cb0db395be07494c9537f05307f965a9": {
          "model_module": "@jupyter-widgets/base",
          "model_name": "LayoutModel",
          "model_module_version": "1.2.0",
          "state": {
            "_model_module": "@jupyter-widgets/base",
            "_model_module_version": "1.2.0",
            "_model_name": "LayoutModel",
            "_view_count": null,
            "_view_module": "@jupyter-widgets/base",
            "_view_module_version": "1.2.0",
            "_view_name": "LayoutView",
            "align_content": null,
            "align_items": null,
            "align_self": null,
            "border": null,
            "bottom": null,
            "display": null,
            "flex": null,
            "flex_flow": null,
            "grid_area": null,
            "grid_auto_columns": null,
            "grid_auto_flow": null,
            "grid_auto_rows": null,
            "grid_column": null,
            "grid_gap": null,
            "grid_row": null,
            "grid_template_areas": null,
            "grid_template_columns": null,
            "grid_template_rows": null,
            "height": null,
            "justify_content": null,
            "justify_items": null,
            "left": null,
            "margin": null,
            "max_height": null,
            "max_width": null,
            "min_height": null,
            "min_width": null,
            "object_fit": null,
            "object_position": null,
            "order": null,
            "overflow": null,
            "overflow_x": null,
            "overflow_y": null,
            "padding": null,
            "right": null,
            "top": null,
            "visibility": null,
            "width": null
          }
        },
        "bde87597e1eb45e08cc135864ff0979b": {
          "model_module": "@jupyter-widgets/controls",
          "model_name": "DescriptionStyleModel",
          "model_module_version": "1.5.0",
          "state": {
            "_model_module": "@jupyter-widgets/controls",
            "_model_module_version": "1.5.0",
            "_model_name": "DescriptionStyleModel",
            "_view_count": null,
            "_view_module": "@jupyter-widgets/base",
            "_view_module_version": "1.2.0",
            "_view_name": "StyleView",
            "description_width": ""
          }
        },
        "b8f02eb35f374fd685572293ec839db9": {
          "model_module": "@jupyter-widgets/base",
          "model_name": "LayoutModel",
          "model_module_version": "1.2.0",
          "state": {
            "_model_module": "@jupyter-widgets/base",
            "_model_module_version": "1.2.0",
            "_model_name": "LayoutModel",
            "_view_count": null,
            "_view_module": "@jupyter-widgets/base",
            "_view_module_version": "1.2.0",
            "_view_name": "LayoutView",
            "align_content": null,
            "align_items": null,
            "align_self": null,
            "border": null,
            "bottom": null,
            "display": null,
            "flex": null,
            "flex_flow": null,
            "grid_area": null,
            "grid_auto_columns": null,
            "grid_auto_flow": null,
            "grid_auto_rows": null,
            "grid_column": null,
            "grid_gap": null,
            "grid_row": null,
            "grid_template_areas": null,
            "grid_template_columns": null,
            "grid_template_rows": null,
            "height": null,
            "justify_content": null,
            "justify_items": null,
            "left": null,
            "margin": null,
            "max_height": null,
            "max_width": null,
            "min_height": null,
            "min_width": null,
            "object_fit": null,
            "object_position": null,
            "order": null,
            "overflow": null,
            "overflow_x": null,
            "overflow_y": null,
            "padding": null,
            "right": null,
            "top": null,
            "visibility": null,
            "width": null
          }
        },
        "8c80db56c3054833be0c5c30b8e5d4b2": {
          "model_module": "@jupyter-widgets/controls",
          "model_name": "ProgressStyleModel",
          "model_module_version": "1.5.0",
          "state": {
            "_model_module": "@jupyter-widgets/controls",
            "_model_module_version": "1.5.0",
            "_model_name": "ProgressStyleModel",
            "_view_count": null,
            "_view_module": "@jupyter-widgets/base",
            "_view_module_version": "1.2.0",
            "_view_name": "StyleView",
            "bar_color": null,
            "description_width": ""
          }
        },
        "b912da3b7eb84289806e7f12047bc90d": {
          "model_module": "@jupyter-widgets/base",
          "model_name": "LayoutModel",
          "model_module_version": "1.2.0",
          "state": {
            "_model_module": "@jupyter-widgets/base",
            "_model_module_version": "1.2.0",
            "_model_name": "LayoutModel",
            "_view_count": null,
            "_view_module": "@jupyter-widgets/base",
            "_view_module_version": "1.2.0",
            "_view_name": "LayoutView",
            "align_content": null,
            "align_items": null,
            "align_self": null,
            "border": null,
            "bottom": null,
            "display": null,
            "flex": null,
            "flex_flow": null,
            "grid_area": null,
            "grid_auto_columns": null,
            "grid_auto_flow": null,
            "grid_auto_rows": null,
            "grid_column": null,
            "grid_gap": null,
            "grid_row": null,
            "grid_template_areas": null,
            "grid_template_columns": null,
            "grid_template_rows": null,
            "height": null,
            "justify_content": null,
            "justify_items": null,
            "left": null,
            "margin": null,
            "max_height": null,
            "max_width": null,
            "min_height": null,
            "min_width": null,
            "object_fit": null,
            "object_position": null,
            "order": null,
            "overflow": null,
            "overflow_x": null,
            "overflow_y": null,
            "padding": null,
            "right": null,
            "top": null,
            "visibility": null,
            "width": null
          }
        },
        "7a25a290b83a4ace8c6674cfc4b7ff5a": {
          "model_module": "@jupyter-widgets/controls",
          "model_name": "DescriptionStyleModel",
          "model_module_version": "1.5.0",
          "state": {
            "_model_module": "@jupyter-widgets/controls",
            "_model_module_version": "1.5.0",
            "_model_name": "DescriptionStyleModel",
            "_view_count": null,
            "_view_module": "@jupyter-widgets/base",
            "_view_module_version": "1.2.0",
            "_view_name": "StyleView",
            "description_width": ""
          }
        },
        "b3da3381da5d4e1f9faa9576c225a4f8": {
          "model_module": "@jupyter-widgets/controls",
          "model_name": "HBoxModel",
          "model_module_version": "1.5.0",
          "state": {
            "_dom_classes": [],
            "_model_module": "@jupyter-widgets/controls",
            "_model_module_version": "1.5.0",
            "_model_name": "HBoxModel",
            "_view_count": null,
            "_view_module": "@jupyter-widgets/controls",
            "_view_module_version": "1.5.0",
            "_view_name": "HBoxView",
            "box_style": "",
            "children": [
              "IPY_MODEL_b282fcc6b47d4c7481150efc6a763364",
              "IPY_MODEL_090ce6fbf1b5447ea2c415ee6135531a",
              "IPY_MODEL_5215be79812d4c0aa293b37e50fc11ba"
            ],
            "layout": "IPY_MODEL_d6c6a2b1537f4d31b1d08994453fa561"
          }
        },
        "b282fcc6b47d4c7481150efc6a763364": {
          "model_module": "@jupyter-widgets/controls",
          "model_name": "HTMLModel",
          "model_module_version": "1.5.0",
          "state": {
            "_dom_classes": [],
            "_model_module": "@jupyter-widgets/controls",
            "_model_module_version": "1.5.0",
            "_model_name": "HTMLModel",
            "_view_count": null,
            "_view_module": "@jupyter-widgets/controls",
            "_view_module_version": "1.5.0",
            "_view_name": "HTMLView",
            "description": "",
            "description_tooltip": null,
            "layout": "IPY_MODEL_935c0062da6e4186ae60b43d7aea1449",
            "placeholder": "​",
            "style": "IPY_MODEL_122ebed8e34a4f69bbec7284d9360650",
            "value": "100%"
          }
        },
        "090ce6fbf1b5447ea2c415ee6135531a": {
          "model_module": "@jupyter-widgets/controls",
          "model_name": "FloatProgressModel",
          "model_module_version": "1.5.0",
          "state": {
            "_dom_classes": [],
            "_model_module": "@jupyter-widgets/controls",
            "_model_module_version": "1.5.0",
            "_model_name": "FloatProgressModel",
            "_view_count": null,
            "_view_module": "@jupyter-widgets/controls",
            "_view_module_version": "1.5.0",
            "_view_name": "ProgressView",
            "bar_style": "success",
            "description": "",
            "description_tooltip": null,
            "layout": "IPY_MODEL_5acda5ce8de24c0a992ec39c1abb60d0",
            "max": 100,
            "min": 0,
            "orientation": "horizontal",
            "style": "IPY_MODEL_8f030e4951b44602b8a15f662007b049",
            "value": 100
          }
        },
        "5215be79812d4c0aa293b37e50fc11ba": {
          "model_module": "@jupyter-widgets/controls",
          "model_name": "HTMLModel",
          "model_module_version": "1.5.0",
          "state": {
            "_dom_classes": [],
            "_model_module": "@jupyter-widgets/controls",
            "_model_module_version": "1.5.0",
            "_model_name": "HTMLModel",
            "_view_count": null,
            "_view_module": "@jupyter-widgets/controls",
            "_view_module_version": "1.5.0",
            "_view_name": "HTMLView",
            "description": "",
            "description_tooltip": null,
            "layout": "IPY_MODEL_8430c1e4c3084750af90b0a74916cac0",
            "placeholder": "​",
            "style": "IPY_MODEL_995cd2609fa84d37be3745559a002b7d",
            "value": " 100/100 [00:00&lt;00:00, 2513.82it/s]"
          }
        },
        "d6c6a2b1537f4d31b1d08994453fa561": {
          "model_module": "@jupyter-widgets/base",
          "model_name": "LayoutModel",
          "model_module_version": "1.2.0",
          "state": {
            "_model_module": "@jupyter-widgets/base",
            "_model_module_version": "1.2.0",
            "_model_name": "LayoutModel",
            "_view_count": null,
            "_view_module": "@jupyter-widgets/base",
            "_view_module_version": "1.2.0",
            "_view_name": "LayoutView",
            "align_content": null,
            "align_items": null,
            "align_self": null,
            "border": null,
            "bottom": null,
            "display": null,
            "flex": null,
            "flex_flow": null,
            "grid_area": null,
            "grid_auto_columns": null,
            "grid_auto_flow": null,
            "grid_auto_rows": null,
            "grid_column": null,
            "grid_gap": null,
            "grid_row": null,
            "grid_template_areas": null,
            "grid_template_columns": null,
            "grid_template_rows": null,
            "height": null,
            "justify_content": null,
            "justify_items": null,
            "left": null,
            "margin": null,
            "max_height": null,
            "max_width": null,
            "min_height": null,
            "min_width": null,
            "object_fit": null,
            "object_position": null,
            "order": null,
            "overflow": null,
            "overflow_x": null,
            "overflow_y": null,
            "padding": null,
            "right": null,
            "top": null,
            "visibility": null,
            "width": null
          }
        },
        "935c0062da6e4186ae60b43d7aea1449": {
          "model_module": "@jupyter-widgets/base",
          "model_name": "LayoutModel",
          "model_module_version": "1.2.0",
          "state": {
            "_model_module": "@jupyter-widgets/base",
            "_model_module_version": "1.2.0",
            "_model_name": "LayoutModel",
            "_view_count": null,
            "_view_module": "@jupyter-widgets/base",
            "_view_module_version": "1.2.0",
            "_view_name": "LayoutView",
            "align_content": null,
            "align_items": null,
            "align_self": null,
            "border": null,
            "bottom": null,
            "display": null,
            "flex": null,
            "flex_flow": null,
            "grid_area": null,
            "grid_auto_columns": null,
            "grid_auto_flow": null,
            "grid_auto_rows": null,
            "grid_column": null,
            "grid_gap": null,
            "grid_row": null,
            "grid_template_areas": null,
            "grid_template_columns": null,
            "grid_template_rows": null,
            "height": null,
            "justify_content": null,
            "justify_items": null,
            "left": null,
            "margin": null,
            "max_height": null,
            "max_width": null,
            "min_height": null,
            "min_width": null,
            "object_fit": null,
            "object_position": null,
            "order": null,
            "overflow": null,
            "overflow_x": null,
            "overflow_y": null,
            "padding": null,
            "right": null,
            "top": null,
            "visibility": null,
            "width": null
          }
        },
        "122ebed8e34a4f69bbec7284d9360650": {
          "model_module": "@jupyter-widgets/controls",
          "model_name": "DescriptionStyleModel",
          "model_module_version": "1.5.0",
          "state": {
            "_model_module": "@jupyter-widgets/controls",
            "_model_module_version": "1.5.0",
            "_model_name": "DescriptionStyleModel",
            "_view_count": null,
            "_view_module": "@jupyter-widgets/base",
            "_view_module_version": "1.2.0",
            "_view_name": "StyleView",
            "description_width": ""
          }
        },
        "5acda5ce8de24c0a992ec39c1abb60d0": {
          "model_module": "@jupyter-widgets/base",
          "model_name": "LayoutModel",
          "model_module_version": "1.2.0",
          "state": {
            "_model_module": "@jupyter-widgets/base",
            "_model_module_version": "1.2.0",
            "_model_name": "LayoutModel",
            "_view_count": null,
            "_view_module": "@jupyter-widgets/base",
            "_view_module_version": "1.2.0",
            "_view_name": "LayoutView",
            "align_content": null,
            "align_items": null,
            "align_self": null,
            "border": null,
            "bottom": null,
            "display": null,
            "flex": null,
            "flex_flow": null,
            "grid_area": null,
            "grid_auto_columns": null,
            "grid_auto_flow": null,
            "grid_auto_rows": null,
            "grid_column": null,
            "grid_gap": null,
            "grid_row": null,
            "grid_template_areas": null,
            "grid_template_columns": null,
            "grid_template_rows": null,
            "height": null,
            "justify_content": null,
            "justify_items": null,
            "left": null,
            "margin": null,
            "max_height": null,
            "max_width": null,
            "min_height": null,
            "min_width": null,
            "object_fit": null,
            "object_position": null,
            "order": null,
            "overflow": null,
            "overflow_x": null,
            "overflow_y": null,
            "padding": null,
            "right": null,
            "top": null,
            "visibility": null,
            "width": null
          }
        },
        "8f030e4951b44602b8a15f662007b049": {
          "model_module": "@jupyter-widgets/controls",
          "model_name": "ProgressStyleModel",
          "model_module_version": "1.5.0",
          "state": {
            "_model_module": "@jupyter-widgets/controls",
            "_model_module_version": "1.5.0",
            "_model_name": "ProgressStyleModel",
            "_view_count": null,
            "_view_module": "@jupyter-widgets/base",
            "_view_module_version": "1.2.0",
            "_view_name": "StyleView",
            "bar_color": null,
            "description_width": ""
          }
        },
        "8430c1e4c3084750af90b0a74916cac0": {
          "model_module": "@jupyter-widgets/base",
          "model_name": "LayoutModel",
          "model_module_version": "1.2.0",
          "state": {
            "_model_module": "@jupyter-widgets/base",
            "_model_module_version": "1.2.0",
            "_model_name": "LayoutModel",
            "_view_count": null,
            "_view_module": "@jupyter-widgets/base",
            "_view_module_version": "1.2.0",
            "_view_name": "LayoutView",
            "align_content": null,
            "align_items": null,
            "align_self": null,
            "border": null,
            "bottom": null,
            "display": null,
            "flex": null,
            "flex_flow": null,
            "grid_area": null,
            "grid_auto_columns": null,
            "grid_auto_flow": null,
            "grid_auto_rows": null,
            "grid_column": null,
            "grid_gap": null,
            "grid_row": null,
            "grid_template_areas": null,
            "grid_template_columns": null,
            "grid_template_rows": null,
            "height": null,
            "justify_content": null,
            "justify_items": null,
            "left": null,
            "margin": null,
            "max_height": null,
            "max_width": null,
            "min_height": null,
            "min_width": null,
            "object_fit": null,
            "object_position": null,
            "order": null,
            "overflow": null,
            "overflow_x": null,
            "overflow_y": null,
            "padding": null,
            "right": null,
            "top": null,
            "visibility": null,
            "width": null
          }
        },
        "995cd2609fa84d37be3745559a002b7d": {
          "model_module": "@jupyter-widgets/controls",
          "model_name": "DescriptionStyleModel",
          "model_module_version": "1.5.0",
          "state": {
            "_model_module": "@jupyter-widgets/controls",
            "_model_module_version": "1.5.0",
            "_model_name": "DescriptionStyleModel",
            "_view_count": null,
            "_view_module": "@jupyter-widgets/base",
            "_view_module_version": "1.2.0",
            "_view_name": "StyleView",
            "description_width": ""
          }
        }
      }
    }
  },
  "nbformat_minor": 5,
  "nbformat": 4,
  "cells": [
    {
      "cell_type": "markdown",
      "metadata": {
        "id": "view-in-github",
        "colab_type": "text"
      },
      "source": [
        "<a href=\"https://colab.research.google.com/github/hammaad2002/PerturbationAnalysis/blob/main/Stage_1_(Data_Generation).ipynb\" target=\"_parent\"><img src=\"https://colab.research.google.com/assets/colab-badge.svg\" alt=\"Open In Colab\"/></a>"
      ]
    },
    {
      "cell_type": "markdown",
      "source": [
        "**Disclaimer:**"
      ],
      "metadata": {
        "id": "JFYLOky91dst"
      },
      "id": "JFYLOky91dst"
    },
    {
      "cell_type": "markdown",
      "source": [
        "This notebook is for data generation purpose only. Long story short, this notebook performs attacks and stores all the metadata/information such as clean transcription, ground truth, perturbed transcription ,WER etc. in a google sheet [automatically, no need to manually copy and paste stuff now :) ]. And in the end it will also store the generated perturbed audios in google drive so that those audios can be accessed for further perturbation analysis and defense testing purpose also.\n",
        "\n",
        "Following is the pipeline describing how the data flows."
      ],
      "metadata": {
        "id": "ZqDwqopa0hTH"
      },
      "id": "ZqDwqopa0hTH"
    },
    {
      "cell_type": "markdown",
      "source": [
        "![Stage 1 (Data Generation).png](data:image/png;base64,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)"
      ],
      "metadata": {
        "id": "3h3xYMbc0c9v"
      },
      "id": "3h3xYMbc0c9v"
    },
    {
      "cell_type": "code",
      "source": [
        "%%capture\n",
        "!pip install datasets==1.18.3\n",
        "!git clone https://github.com/hammaad2002/PerturbationAnalysis.git\n",
        "!git clone https://github.com/hammaad2002/ASRAdversarialAttacks.git\n",
        "!pip install gspread==5.9.0\n",
        "!pip install oauth2client\n",
        "!pip install gspread-formatting"
      ],
      "metadata": {
        "id": "ec924aba",
        "execution": {
          "iopub.status.busy": "2023-06-11T09:32:12.517336Z",
          "iopub.execute_input": "2023-06-11T09:32:12.517719Z",
          "iopub.status.idle": "2023-06-11T09:33:03.441449Z",
          "shell.execute_reply.started": "2023-06-11T09:32:12.517677Z",
          "shell.execute_reply": "2023-06-11T09:33:03.439641Z"
        },
        "trusted": true
      },
      "execution_count": null,
      "outputs": [],
      "id": "ec924aba"
    },
    {
      "cell_type": "code",
      "source": [
        "from typing import Tuple, List\n",
        "import random\n",
        "import h5py\n",
        "import io\n",
        "import torch\n",
        "import torchaudio\n",
        "import numpy as np\n",
        "import pandas as pd\n",
        "from tqdm.auto import tqdm\n",
        "from datasets import load_dataset\n",
        "from ASRAdversarialAttacks.AdversarialAttacks import ASRAttacks\n",
        "from PerturbationAnalysis.DataPipeline import DataTransform\n",
        "import gspread\n",
        "from google.oauth2.service_account import Credentials\n",
        "from gspread_formatting import *\n",
        "from googleapiclient.discovery import build\n",
        "from googleapiclient.errors import HttpError\n",
        "from googleapiclient.http import MediaFileUpload\n",
        "from googleapiclient.http import MediaIoBaseDownload\n",
        "import warnings\n",
        "\n",
        "warnings.filterwarnings(\"ignore\")"
      ],
      "metadata": {
        "id": "6Hf8uasT8MPo",
        "execution": {
          "iopub.status.busy": "2023-06-11T09:33:03.444120Z",
          "iopub.execute_input": "2023-06-11T09:33:03.444531Z",
          "iopub.status.idle": "2023-06-11T09:33:08.711699Z",
          "shell.execute_reply.started": "2023-06-11T09:33:03.444489Z",
          "shell.execute_reply": "2023-06-11T09:33:08.710749Z"
        },
        "trusted": true
      },
      "execution_count": null,
      "outputs": [],
      "id": "6Hf8uasT8MPo"
    },
    {
      "cell_type": "code",
      "source": [
        "# seeding to get same transcription\n",
        "np.random.seed(170)\n",
        "random.seed(170)\n",
        "torch.manual_seed(170)"
      ],
      "metadata": {
        "id": "9-C47hf58KvP",
        "outputId": "cf673dd4-1ec8-4919-e9dd-49c4625faf08",
        "colab": {
          "base_uri": "https://localhost:8080/"
        },
        "execution": {
          "iopub.status.busy": "2023-06-11T09:33:08.713367Z",
          "iopub.execute_input": "2023-06-11T09:33:08.714276Z",
          "iopub.status.idle": "2023-06-11T09:33:08.726000Z",
          "shell.execute_reply.started": "2023-06-11T09:33:08.714241Z",
          "shell.execute_reply": "2023-06-11T09:33:08.724967Z"
        },
        "trusted": true
      },
      "execution_count": null,
      "outputs": [
        {
          "execution_count": 3,
          "output_type": "execute_result",
          "data": {
            "text/plain": "<torch._C.Generator at 0x7ce365000290>"
          },
          "metadata": {}
        }
      ],
      "id": "9-C47hf58KvP"
    },
    {
      "cell_type": "code",
      "source": [
        "%%capture\n",
        "# downloading TIMIT dataset from datasets library\n",
        "timit = load_dataset(\"timit_asr\")"
      ],
      "metadata": {
        "id": "f74df096",
        "execution": {
          "iopub.status.busy": "2023-06-11T09:33:08.728867Z",
          "iopub.execute_input": "2023-06-11T09:33:08.729212Z",
          "iopub.status.idle": "2023-06-11T09:34:31.837898Z",
          "shell.execute_reply.started": "2023-06-11T09:33:08.729181Z",
          "shell.execute_reply": "2023-06-11T09:34:31.836642Z"
        },
        "trusted": true
      },
      "execution_count": null,
      "outputs": [],
      "id": "f74df096"
    },
    {
      "cell_type": "code",
      "source": [
        "# Loading the model from torchaudio model hub\n",
        "bundle = torchaudio.pipelines.WAV2VEC2_ASR_BASE_960H\n",
        "model = bundle.get_model()\n",
        "\n",
        "# Checking the device available during the current environment (CUDA is recommended!)\n",
        "device = torch.device(\"cuda\" if torch.cuda.is_available() else \"cpu\")\n",
        "model = model.to(device)\n",
        "\n",
        "# Initializing attack class\n",
        "attack = ASRAttacks(model, device, bundle.get_labels())\n",
        "\n",
        "# Initializing dataTransform class\n",
        "dataTransformer = DataTransform(model, attack, device)\n",
        "\n",
        "# Specifying the type of attack and the max number of audios on which to perform attack on\n",
        "max_aud = 100 # number of example (audios) you want to work with\n",
        "create_sentences = max_aud # number of audios should be equal to the number of random targeted sentences\n",
        "sentences_for_random_transcription_vocab = 100 # number of sentences for creating dictionary for creating random transcriptions"
      ],
      "metadata": {
        "id": "097e43af",
        "execution": {
          "iopub.status.busy": "2023-06-11T09:34:31.841748Z",
          "iopub.execute_input": "2023-06-11T09:34:31.842783Z",
          "iopub.status.idle": "2023-06-11T09:34:38.363845Z",
          "shell.execute_reply.started": "2023-06-11T09:34:31.842489Z",
          "shell.execute_reply": "2023-06-11T09:34:38.362765Z"
        },
        "trusted": true,
        "outputId": "b575eedd-24cf-44aa-b1e9-fe3ebec4e09d"
      },
      "execution_count": null,
      "outputs": [
        {
          "name": "stderr",
          "text": "Downloading: \"https://download.pytorch.org/torchaudio/models/wav2vec2_fairseq_base_ls960_asr_ls960.pth\" to /root/.cache/torch/hub/checkpoints/wav2vec2_fairseq_base_ls960_asr_ls960.pth\n100%|██████████| 360M/360M [00:02<00:00, 183MB/s] \n",
          "output_type": "stream"
        }
      ],
      "id": "097e43af"
    },
    {
      "cell_type": "code",
      "source": [
        "# removing irrelevant columns from TIMIT dataset which we don't need\n",
        "test_split = timit['test'].remove_columns([\"phonetic_detail\", \"word_detail\", \"dialect_region\", \"id\", \"sentence_type\", \"speaker_id\"])"
      ],
      "metadata": {
        "id": "f676e13d",
        "execution": {
          "iopub.status.busy": "2023-06-11T09:34:38.365370Z",
          "iopub.execute_input": "2023-06-11T09:34:38.365732Z",
          "iopub.status.idle": "2023-06-11T09:34:38.372911Z",
          "shell.execute_reply.started": "2023-06-11T09:34:38.365698Z",
          "shell.execute_reply": "2023-06-11T09:34:38.371889Z"
        },
        "trusted": true
      },
      "execution_count": null,
      "outputs": [],
      "id": "f676e13d"
    },
    {
      "cell_type": "markdown",
      "source": [
        "**For generating random target whose number of words is equal to that of ground truth in batch**"
      ],
      "metadata": {
        "id": "881b56ce"
      },
      "id": "881b56ce"
    },
    {
      "cell_type": "code",
      "source": [
        "# generating random target transcription\n",
        "data = test_split['text']\n",
        "orig, rand = dataTransformer.random_transcription_generator(data, sentences_for_dict = sentences_for_random_transcription_vocab,\n",
        "                                                            create_sentences = create_sentences)"
      ],
      "metadata": {
        "id": "c7d63388",
        "execution": {
          "iopub.status.busy": "2023-06-11T09:34:38.374433Z",
          "iopub.execute_input": "2023-06-11T09:34:38.375048Z",
          "iopub.status.idle": "2023-06-11T09:34:39.797617Z",
          "shell.execute_reply.started": "2023-06-11T09:34:38.375012Z",
          "shell.execute_reply": "2023-06-11T09:34:39.796143Z"
        },
        "trusted": true
      },
      "execution_count": null,
      "outputs": [],
      "id": "c7d63388"
    },
    {
      "cell_type": "code",
      "source": [
        "# total number of examples\n",
        "number_of_examples = max_aud"
      ],
      "metadata": {
        "id": "R4-eP6M7OfbL",
        "execution": {
          "iopub.status.busy": "2023-06-11T09:34:39.798943Z",
          "iopub.execute_input": "2023-06-11T09:34:39.799627Z",
          "iopub.status.idle": "2023-06-11T09:34:39.808996Z",
          "shell.execute_reply.started": "2023-06-11T09:34:39.799589Z",
          "shell.execute_reply": "2023-06-11T09:34:39.808015Z"
        },
        "trusted": true
      },
      "execution_count": null,
      "outputs": [],
      "id": "R4-eP6M7OfbL"
    },
    {
      "cell_type": "markdown",
      "source": [
        "# Clean Transcription (Ground Truth)"
      ],
      "metadata": {
        "id": "f_YtbOrX41eo"
      },
      "id": "f_YtbOrX41eo"
    },
    {
      "cell_type": "code",
      "source": [
        "# displaying top 10 clean sample\n",
        "for i in range(10):\n",
        "    print(orig[i])"
      ],
      "metadata": {
        "colab": {
          "base_uri": "https://localhost:8080/"
        },
        "id": "IbZPjN4T4AxO",
        "outputId": "2e295a11-2915-4c2a-96fa-e29899ff16ff",
        "execution": {
          "iopub.status.busy": "2023-06-11T09:34:39.812291Z",
          "iopub.execute_input": "2023-06-11T09:34:39.812613Z",
          "iopub.status.idle": "2023-06-11T09:34:39.821244Z",
          "shell.execute_reply.started": "2023-06-11T09:34:39.812588Z",
          "shell.execute_reply": "2023-06-11T09:34:39.820032Z"
        },
        "trusted": true
      },
      "execution_count": null,
      "outputs": [
        {
          "name": "stdout",
          "text": "THE BUNGALOW WAS PLEASANTLY SITUATED NEAR THE SHORE\nDON'T ASK ME TO CARRY AN OILY RAG LIKE THAT\nARE YOU LOOKING FOR EMPLOYMENT\nSHE HAD YOUR DARK SUIT IN GREASY WASH WATER ALL YEAR\nAT TWILIGHT ON THE TWELFTH DAY WE'LL HAVE CHABLIS\nEATING SPINACH NIGHTLY INCREASES STRENGTH MIRACULOUSLY\nGOT A HECK OF A BUY ON THIS DIRT CHEAP\nTHE SCALLOPED EDGE IS PARTICULARLY APPEALING\nA BIG GOAT IDLY AMBLED THROUGH THE FARMYARD\nTHIS GROUP IS SECULARIST AND THEIR PROGRAM TENDS TO BE TECHNOLOGICAL\n",
          "output_type": "stream"
        }
      ],
      "id": "IbZPjN4T4AxO"
    },
    {
      "cell_type": "markdown",
      "source": [
        "# Target Transcription"
      ],
      "metadata": {
        "id": "Qhro0tHb48f7"
      },
      "id": "Qhro0tHb48f7"
    },
    {
      "cell_type": "code",
      "source": [
        "# displaying top 10 target sample\n",
        "for i in range(10):\n",
        "    print(rand[i])"
      ],
      "metadata": {
        "colab": {
          "base_uri": "https://localhost:8080/"
        },
        "id": "R1Z29jPUnOmv",
        "outputId": "5d0eca05-4a8d-45a5-b110-8369005cca67",
        "execution": {
          "iopub.status.busy": "2023-06-11T09:34:39.826631Z",
          "iopub.execute_input": "2023-06-11T09:34:39.826905Z",
          "iopub.status.idle": "2023-06-11T09:34:39.832299Z",
          "shell.execute_reply.started": "2023-06-11T09:34:39.826882Z",
          "shell.execute_reply": "2023-06-11T09:34:39.831364Z"
        },
        "trusted": true
      },
      "execution_count": null,
      "outputs": [
        {
          "name": "stdout",
          "text": "WHAT FLEECY YOUR RAG ENORMOUS EMPLOYMENT THEY CAME\nEXCESS CLAY PUNCTURING ABOVE BORING WILL WHAT BRING HE NICELY\nDOES PROTECTION NEEDED ABOUT NUTRITION\nFROM PROSPECTIVE CAN ARE ASSEMBLING MAN EMPLOYMENT AS ME PRESTIGE AS\nSPORT AROUND ENTITY ALL WAS LEAVES OVERALLS BRING THEY\nMAN TROPICAL PAPER PROSPECTIVE WHO FURTHER\nPROVIDE GUESS BUY ON UNLIMITED BRING EXPOSURE HIGH GOVERNING PLANNED\nTHINNER FIRECRACKERS NIGHTLY EYES SOME FALLOUT\nTECHNOLOGICAL DO ASSISTANCE OFTEN ELEGANT PHONY OVERALLS NICELY\nALSO AND EXTRA HIM BURNED APPEALING BREATHED AROUND DEFENDED TRIM NIGHTLY\n",
          "output_type": "stream"
        }
      ],
      "id": "R1Z29jPUnOmv"
    },
    {
      "cell_type": "markdown",
      "source": [
        "# FGSM targeted:\n",
        "\n",
        "adv_attack = \"FGSM\"\n",
        "\n",
        "aud = test_split['audio'][:max_aud]\n",
        "\n",
        "target = rand\n",
        "\n",
        "clean, pert = dataTransformer.apply_attack(adv_attack, aud, target = target, epsilon = 0.0065, targeted = True)\n",
        "\n",
        "# FGSM untargeted:\n",
        "\n",
        "adv_attack = \"FGSM\"\n",
        "\n",
        "aud = test_split['audio'][:max_aud]\n",
        "\n",
        "clean, pert = dataTransformer.apply_attack(adv_attack, aud, epsilon = 0.0065, targeted = False)\n",
        "\n",
        "# BIM targeted:\n",
        "\n",
        "adv_attack = \"BIM\"\n",
        "\n",
        "aud = test_split['audio'][:max_aud]\n",
        "\n",
        "target = rand\n",
        "\n",
        "clean, pert = dataTransformer.apply_attack(adv_attack, aud, target = target, epsilon = 0.0015, alpha = 0.00009,\n",
        "                                           num_iter = 3000, targeted = True, early_stop = False)\n",
        "                   \n",
        "# BIM untargeted:\n",
        "\n",
        "adv_attack = \"BIM\"\n",
        "\n",
        "aud = test_split['audio'][:max_aud]\n",
        "\n",
        "clean, pert = dataTransformer.apply_attack(adv_attack, aud, epsilon = 0.0015, alpha = 0.00009,\n",
        "                                           num_iter = 3000, targeted = False, early_stop = False)\n",
        "                   \n",
        "# PGD targeted:\n",
        "\n",
        "adv_attack = \"PGD\"\n",
        "\n",
        "aud = test_split['audio'][:max_aud]\n",
        "\n",
        "target = rand\n",
        "\n",
        "clean, pert = dataTransformer.apply_attack(adv_attack, aud, target = target, epsilon = 0.0015, alpha = 0.00009,\n",
        "                                           num_iter = 3000, targeted = True, early_stop = False)\n",
        "\n",
        "                   \n",
        "# PGD untargeted:\n",
        "\n",
        "adv_attack = \"PGD\"\n",
        "\n",
        "aud = test_split['audio'][:max_aud]\n",
        "\n",
        "clean, pert = dataTransformer.apply_attack(adv_attack, aud, epsilon = 0.0015, alpha = 0.00009,\n",
        "                                           num_iter = 3000, targeted = False, early_stop = False)\n",
        "\n",
        "\n",
        "# CW targeted:\n",
        "\n",
        "adv_attack = \"CW\"\n",
        "\n",
        "aud = test_split['audio'][:max_aud]\n",
        "\n",
        "target = rand\n",
        "\n",
        "clean, pert = dataTransformer.apply_attack(adv_attack, aud, target = target, epsilon = 0.0015, c = 10,\n",
        "                                          learning_rate = 0.00001, num_iter = 3000, decrease_factor_eps = 1,\n",
        "                                          num_iter_decrease_eps = 10, optimizer = None, nested = True, \n",
        "                                          early_stop = False, search_eps = False, targeted = True)\n",
        "\n",
        "                   \n",
        "# CW untargeted:\n",
        "\n",
        "adv_attack = \"CW\"\n",
        "\n",
        "aud = test_split['audio'][:max_aud]\n",
        "\n",
        "clean, pert = dataTransformer.apply_attack(adv_attack, aud, epsilon = 0.0015, c = 10,\n",
        "                                          learning_rate = 0.00001, num_iter = 3000, decrease_factor_eps = 1,\n",
        "                                          num_iter_decrease_eps = 10, optimizer = None, nested = True, \n",
        "                                          early_stop = False, search_eps = False, targeted = False)\n",
        "         \n",
        "# IMP_CW:\n",
        "\n",
        "adv_attack = \"IMP_CW\"\n",
        "\n",
        "aud = test_split['audio'][:max_aud]\n",
        "\n",
        "target = rand\n",
        "\n",
        "clean, pert = dataTransformer.apply_attack(adv_attack, aud, target = target, epsilon = 0.015, c = 10, learning_rate1 = 0.001, \n",
        "                                    learning_rate2 = 0.0001, num_iter1 = 100, num_iter2 = 1500, decrease_factor_eps = 1, \n",
        "                                    num_iter_decrease_eps = 10, optimizer1 = None, optimizer2 = \"Adam\",nested = True, \n",
        "                                    early_stop_cw = False, search_eps_cw = False, alpha = 0.05)"
      ],
      "metadata": {
        "id": "e7ab5903"
      },
      "id": "e7ab5903"
    },
    {
      "cell_type": "markdown",
      "source": [
        "**Here we are performing targeted FGSM attack but for other attacks the codes are given above.**\n",
        "\n",
        "**If you want to perform other attack just copy the code from above and paste it in the cell below.**"
      ],
      "metadata": {
        "id": "be8a6081"
      },
      "id": "be8a6081"
    },
    {
      "cell_type": "code",
      "source": [
        "#performing attack on our audios in a single line\n",
        "adv_attack = \"FGSM\"\n",
        "aud = test_split['audio'][:max_aud]\n",
        "target = rand\n",
        "clean, pert = dataTransformer.apply_attack(adv_attack, aud, target = target, epsilon = 0.0065, targeted = True)"
      ],
      "metadata": {
        "colab": {
          "base_uri": "https://localhost:8080/",
          "height": 49,
          "referenced_widgets": [
            "a1094dccb2364b2789e307d8ddfc56c8",
            "4ce476bbf7424b1c8aa19326e6c7aba3",
            "981a78c6d06045848ae28fa7c92c7d59",
            "921dcc18c007430f95eec45abf1a5808",
            "704ca4b1af5d468fa39c67eadaf12a53",
            "8cac883adac34d508ebcae3ea8802a80",
            "0de30380094a450f93b6163f014d1256",
            "712e6dca1e674ae8a5909025ba6e78d1",
            "6e34c2220ac34ad6983e306fd239ccdb",
            "92cd19bae99b426aade137496157f63f",
            "d95137a261c6423694b0c3ed6177d676",
            "38ac5378272c485e9d19fc13df859206"
          ]
        },
        "id": "1cd39e9d",
        "outputId": "28ffe31d-c8f4-43bf-bab8-e02959a834d6",
        "execution": {
          "iopub.status.busy": "2023-06-11T09:34:39.833773Z",
          "iopub.execute_input": "2023-06-11T09:34:39.834469Z",
          "iopub.status.idle": "2023-06-11T09:35:01.307097Z",
          "shell.execute_reply.started": "2023-06-11T09:34:39.834436Z",
          "shell.execute_reply": "2023-06-11T09:35:01.306158Z"
        },
        "trusted": true
      },
      "execution_count": null,
      "outputs": [
        {
          "output_type": "display_data",
          "data": {
            "text/plain": "  0%|          | 0/100 [00:00<?, ?it/s]",
            "application/vnd.jupyter.widget-view+json": {
              "version_major": 2,
              "version_minor": 0,
              "model_id": "38ac5378272c485e9d19fc13df859206"
            }
          },
          "metadata": {}
        }
      ],
      "id": "1cd39e9d"
    },
    {
      "cell_type": "code",
      "source": [
        "# storing all model's clean transcription in separate list\n",
        "clean_transcriptions = []\n",
        "for i in tqdm(range(number_of_examples)):\n",
        "    clean_transcriptions.append(attack.INFER(clean[i]).replace(\"|\",\" \"))"
      ],
      "metadata": {
        "colab": {
          "base_uri": "https://localhost:8080/",
          "height": 49,
          "referenced_widgets": [
            "86bd48aa8d494a16b30a0db3742ffcf9",
            "ff18d6c76d8949ce9588edca69fbfa34",
            "953d2ac1d8584774b62b3b998f26e9a1",
            "dc7bcd51e17b45a5af61915b84409bd2",
            "0b130f11b9324cc2a4fc486a51e06366",
            "777e99a24843484890264ff6769ec618",
            "b18b09c7567f47408054c292e58b69f1",
            "5e69b926b1094091b05b93dfbe249e7e",
            "6fe9457b285440e982c217a474561d04",
            "e2f05f25d264428fafec9605585b0bdf",
            "5c47667d213648e78b846abcbd69f22a",
            "8d279dc118bb4445a0eaf05bbe0bf19a"
          ]
        },
        "id": "zEvulSDHRScF",
        "outputId": "99495d5e-0842-448b-efea-7d0239fb73a0",
        "execution": {
          "iopub.status.busy": "2023-06-11T09:35:01.308777Z",
          "iopub.execute_input": "2023-06-11T09:35:01.309904Z",
          "iopub.status.idle": "2023-06-11T09:35:03.317044Z",
          "shell.execute_reply.started": "2023-06-11T09:35:01.309867Z",
          "shell.execute_reply": "2023-06-11T09:35:03.315955Z"
        },
        "trusted": true
      },
      "execution_count": null,
      "outputs": [
        {
          "output_type": "display_data",
          "data": {
            "text/plain": "  0%|          | 0/100 [00:00<?, ?it/s]",
            "application/vnd.jupyter.widget-view+json": {
              "version_major": 2,
              "version_minor": 0,
              "model_id": "8d279dc118bb4445a0eaf05bbe0bf19a"
            }
          },
          "metadata": {}
        }
      ],
      "id": "zEvulSDHRScF"
    },
    {
      "cell_type": "code",
      "source": [
        "# storing all model's perturbed transcription in separate list\n",
        "perturb_transcriptions = []\n",
        "for i in tqdm(range(number_of_examples)):\n",
        "    perturb_transcriptions.append(attack.INFER(pert[i]).replace(\"|\",\" \"))"
      ],
      "metadata": {
        "colab": {
          "base_uri": "https://localhost:8080/",
          "height": 49,
          "referenced_widgets": [
            "c9fb2963273a4bb38bac53260714b803",
            "910e36ddcdbc4ccba6bb8c111007677b",
            "60667a97455a491cb4d3ce1297c9aaed",
            "59d5bf87e9b245538f9428fc28ed667b",
            "1a7d6fbb93e9434babd727399ae390b4",
            "1b6549bbd741409e8f447a0746bbb971",
            "2b0bc722644d4803b6d6ff74f61b9275",
            "8b6a3a68a6f842be90199e848138b157",
            "1b565159a6e642828d4142b7cc2ff869",
            "0e43f1056b9a42998cfa9ab447a2a109",
            "6d6ab38fe2b54e5e80248d2d5437c8a8",
            "f25b85f6a25a492983d0c43f127b16e9"
          ]
        },
        "id": "S-CKVoac7V9O",
        "outputId": "fa1c29c8-23a8-4821-f7a4-e60b314a94ed",
        "execution": {
          "iopub.status.busy": "2023-06-11T09:35:03.318542Z",
          "iopub.execute_input": "2023-06-11T09:35:03.319575Z",
          "iopub.status.idle": "2023-06-11T09:35:05.326573Z",
          "shell.execute_reply.started": "2023-06-11T09:35:03.319536Z",
          "shell.execute_reply": "2023-06-11T09:35:05.325645Z"
        },
        "trusted": true
      },
      "execution_count": null,
      "outputs": [
        {
          "output_type": "display_data",
          "data": {
            "text/plain": "  0%|          | 0/100 [00:00<?, ?it/s]",
            "application/vnd.jupyter.widget-view+json": {
              "version_major": 2,
              "version_minor": 0,
              "model_id": "f25b85f6a25a492983d0c43f127b16e9"
            }
          },
          "metadata": {}
        }
      ],
      "id": "S-CKVoac7V9O"
    },
    {
      "cell_type": "code",
      "source": [
        "# Let's see top 10 clean and perturbed examples\n",
        "for i in range(10):\n",
        "    print(\"Clean: \", clean_transcriptions[i])\n",
        "    print(\"Perturbed: \",perturb_transcriptions[i])"
      ],
      "metadata": {
        "colab": {
          "base_uri": "https://localhost:8080/"
        },
        "id": "Cq4LqlkC7wgw",
        "outputId": "4b545764-dbb2-4317-b622-0a0760632cbe",
        "execution": {
          "iopub.status.busy": "2023-06-11T09:35:05.328053Z",
          "iopub.execute_input": "2023-06-11T09:35:05.328945Z",
          "iopub.status.idle": "2023-06-11T09:35:05.335266Z",
          "shell.execute_reply.started": "2023-06-11T09:35:05.328910Z",
          "shell.execute_reply": "2023-06-11T09:35:05.334372Z"
        },
        "trusted": true
      },
      "execution_count": null,
      "outputs": [
        {
          "name": "stdout",
          "text": "Clean:  THE BUNGALOW WAS PLEASANTLY SITUATED NEAR THE SHORE \nPerturbed:  IPONGALO WITH LUT QUIT TET WAY TO TO EGAL \nClean:  DON'T ASK ME TO CARRY AN OILY RAG LIKE THAT \nPerturbed:  DON'T IAT VERYN EAR TY DRAG LIKE TAT \nClean:  ARE YOU LOOKING FOR EMPLOYMENT \nPerturbed:  ARE YOU LOOKING FOR FORTHEM \nClean:  SHE HAD YOUR DARK SUIT AND GREASY WASHWATER ALL YEAR \nPerturbed:  YOU HAD YOUR DARK SUI TREUT YOU WONT FATHER ALL YEAR \nClean:  AT TWILIGHT ON THE TWELFTH DAY WE'LL HAVE SHIBLI \nPerturbed:  AT TWILIGHT ON THE TWELFTH DAY YOU'LL TAK I TI \nClean:  EATING SPINACH NIGHTLY INCREASES STRENGTH MIRACULOUSLY \nPerturbed:  YOU EXPENDIT FITLY FREEOFRIFOR I \nClean:  GOT A HECK OF A BY ON THIS DIRT CHEAP \nPerturbed:  GOT A HECK OF A BYE ON HIS  HERD CHEEK \nClean:  THE SCALLOPED EDGE IS PARTICULARLY APPEALING \nPerturbed:  DELFETIC \nClean:  A BIG GOAT IDLY AMBLED THROUGH THE FARMYARD \nPerturbed:  A PIG GOAT QIETLY AMPLED THROUGH THE PARMYELD \nClean:  THIS GROUP IS SECULARIST AND THEIR PROGRAMM TENDS TO BE TECHNILOGICAL \nPerturbed:  THIS GRUPED SECOND VIRTH AND THE FERGRANTENO BE ECLAUGICL \n",
          "output_type": "stream"
        }
      ],
      "id": "Cq4LqlkC7wgw"
    },
    {
      "cell_type": "code",
      "source": [
        "# storing WER (between ground truth and perturbed audio's transcription) in a separate list\n",
        "WER_untargeted = []\n",
        "for i in tqdm(range(number_of_examples)):\n",
        "    WER_untargeted.append(100*attack.wer_compute([orig[i]], [pert[i].numpy()], targeted= False)[0])"
      ],
      "metadata": {
        "id": "kXC_9ADl5wWl",
        "colab": {
          "base_uri": "https://localhost:8080/",
          "height": 49,
          "referenced_widgets": [
            "0524a27eea7f486db909e90dd0167860",
            "69637a1736d44ba0b291a3d94b11c645",
            "a5ebd0c854264df5be641b1e05a67fa3",
            "a4608aa0111d4a889c9e2140c0700574",
            "5e73ec9a02a14502b2ed096b8342ce15",
            "4c31ffc65a624d4884f968801202fb52",
            "d2c5afac94e8424c90d9ffaae01ef462",
            "29b9c2e31a43406d9c3efedaa261b24d",
            "c08686842dbe45a5a7ed0aaae87b0767",
            "2dd2d98e88814301bfba2a1e8808e986",
            "a0c746c9712b4a4abf0850f9f6fef06a",
            "6796836e189c4702b04b9ce5640960b5"
          ]
        },
        "outputId": "2e297834-3169-4f45-cfa3-0ae6b612d898",
        "execution": {
          "iopub.status.busy": "2023-06-11T09:35:05.336624Z",
          "iopub.execute_input": "2023-06-11T09:35:05.337574Z",
          "iopub.status.idle": "2023-06-11T09:35:07.371838Z",
          "shell.execute_reply.started": "2023-06-11T09:35:05.337540Z",
          "shell.execute_reply": "2023-06-11T09:35:07.370927Z"
        },
        "trusted": true
      },
      "execution_count": null,
      "outputs": [
        {
          "output_type": "display_data",
          "data": {
            "text/plain": "  0%|          | 0/100 [00:00<?, ?it/s]",
            "application/vnd.jupyter.widget-view+json": {
              "version_major": 2,
              "version_minor": 0,
              "model_id": "6796836e189c4702b04b9ce5640960b5"
            }
          },
          "metadata": {}
        }
      ],
      "id": "kXC_9ADl5wWl"
    },
    {
      "cell_type": "code",
      "source": [
        "print([WER_untargeted[i] for i in range(10)])"
      ],
      "metadata": {
        "colab": {
          "base_uri": "https://localhost:8080/"
        },
        "id": "H-uW_U1H9mTm",
        "outputId": "da15cc81-821a-4d68-c428-f1a4a96e5553",
        "execution": {
          "iopub.status.busy": "2023-06-11T09:35:07.373396Z",
          "iopub.execute_input": "2023-06-11T09:35:07.373991Z",
          "iopub.status.idle": "2023-06-11T09:35:07.380336Z",
          "shell.execute_reply.started": "2023-06-11T09:35:07.373941Z",
          "shell.execute_reply": "2023-06-11T09:35:07.379186Z"
        },
        "trusted": true
      },
      "execution_count": null,
      "outputs": [
        {
          "name": "stdout",
          "text": "[100.0, 90.0, 20.0, 54.54545454545454, 40.0, 100.0, 40.0, 100.0, 50.0, 81.81818181818183]\n",
          "output_type": "stream"
        }
      ],
      "id": "H-uW_U1H9mTm"
    },
    {
      "cell_type": "code",
      "source": [
        "# storing WER (between our set target and perturbed audio's transcription) in a separate list [This is basically TMR in a nutsell]\n",
        "WER_targeted = []\n",
        "for i in tqdm(range(number_of_examples)):\n",
        "    WER_targeted.append(100*attack.wer_compute([rand[i]], [pert[i].numpy()], targeted= True)[0])"
      ],
      "metadata": {
        "colab": {
          "base_uri": "https://localhost:8080/",
          "height": 49,
          "referenced_widgets": [
            "b7fc14a605594319845e64f92afb4511",
            "313ef269aa3d4115bb339701e29c1120",
            "a0dc13d0b6d846ed9eb5a956c957ce25",
            "2e46e0a974c54b7d97249b1aa79b2951",
            "014b4705c0f2473da069812b4485acd4",
            "86888c1cb73a4a7b83a1502035602c63",
            "3edafb7911844157b94e0cda2969e351",
            "08cba7a44c5f4632beffe4efb4db2b67",
            "6e7d28ac831643c1a8167d4e88010b6f",
            "ee53028710af4bab86354295062a61f7",
            "3d3ba1a873c043bd8a7f265d593916a8",
            "64d2449e4e8f440cac9f2963d64760b2"
          ]
        },
        "id": "79XRc4no9gnO",
        "outputId": "435d29c9-35d7-42e3-ec08-b0621a829510",
        "execution": {
          "iopub.status.busy": "2023-06-11T09:35:07.382071Z",
          "iopub.execute_input": "2023-06-11T09:35:07.382718Z",
          "iopub.status.idle": "2023-06-11T09:35:09.349719Z",
          "shell.execute_reply.started": "2023-06-11T09:35:07.382687Z",
          "shell.execute_reply": "2023-06-11T09:35:09.348597Z"
        },
        "trusted": true
      },
      "execution_count": null,
      "outputs": [
        {
          "output_type": "display_data",
          "data": {
            "text/plain": "  0%|          | 0/100 [00:00<?, ?it/s]",
            "application/vnd.jupyter.widget-view+json": {
              "version_major": 2,
              "version_minor": 0,
              "model_id": "64d2449e4e8f440cac9f2963d64760b2"
            }
          },
          "metadata": {}
        }
      ],
      "id": "79XRc4no9gnO"
    },
    {
      "cell_type": "code",
      "source": [
        "print([WER_targeted[i] for i in range(10)])"
      ],
      "metadata": {
        "colab": {
          "base_uri": "https://localhost:8080/"
        },
        "id": "8LtAw_Cg91E3",
        "outputId": "a503a605-5eed-49eb-c3fa-fd5a7a827bb1",
        "execution": {
          "iopub.status.busy": "2023-06-11T09:35:09.351325Z",
          "iopub.execute_input": "2023-06-11T09:35:09.351766Z",
          "iopub.status.idle": "2023-06-11T09:35:09.358089Z",
          "shell.execute_reply.started": "2023-06-11T09:35:09.351732Z",
          "shell.execute_reply": "2023-06-11T09:35:09.356907Z"
        },
        "trusted": true
      },
      "execution_count": null,
      "outputs": [
        {
          "name": "stdout",
          "text": "[0.0, 0.0, 0.0, 0.0, 0.0, 0.0, 0.0, 0.0, 0.0, 0.0]\n",
          "output_type": "stream"
        }
      ],
      "id": "8LtAw_Cg91E3"
    },
    {
      "cell_type": "code",
      "source": [
        "# storing insertions, substitutions, and deletions in all in their separate lists\n",
        "insertions = []\n",
        "substitutions = []\n",
        "deletions = []\n",
        "for i in tqdm(range(number_of_examples)):\n",
        "    info = attack.wer_compute([orig[i]], [pert[i].numpy()], targeted= False)[1]\n",
        "    insertions.append(info[0][1])\n",
        "    substitutions.append(info[0][0])\n",
        "    deletions.append(info[0][2])"
      ],
      "metadata": {
        "id": "mmtATrZSoybW",
        "colab": {
          "base_uri": "https://localhost:8080/",
          "height": 49,
          "referenced_widgets": [
            "7babb29194ab4f178d283e008555d46a",
            "7e6190998e9e437eaeccf322c17f47c6",
            "4fe418e6bba04867b4abe75a55dc700a",
            "ca7a71ab867b450f8572edf6c98a374a",
            "a0dc73d0c03041429a11a78646d727d0",
            "cb0db395be07494c9537f05307f965a9",
            "bde87597e1eb45e08cc135864ff0979b",
            "b8f02eb35f374fd685572293ec839db9",
            "8c80db56c3054833be0c5c30b8e5d4b2",
            "b912da3b7eb84289806e7f12047bc90d",
            "7a25a290b83a4ace8c6674cfc4b7ff5a",
            "ea480367785e4dd29c01c276807e1b67"
          ]
        },
        "outputId": "c5fc0668-94f3-4b55-9b4b-157ee32f4e61",
        "execution": {
          "iopub.status.busy": "2023-06-11T09:35:09.359745Z",
          "iopub.execute_input": "2023-06-11T09:35:09.360643Z",
          "iopub.status.idle": "2023-06-11T09:35:11.344433Z",
          "shell.execute_reply.started": "2023-06-11T09:35:09.360604Z",
          "shell.execute_reply": "2023-06-11T09:35:11.343449Z"
        },
        "trusted": true
      },
      "execution_count": null,
      "outputs": [
        {
          "output_type": "display_data",
          "data": {
            "text/plain": "  0%|          | 0/100 [00:00<?, ?it/s]",
            "application/vnd.jupyter.widget-view+json": {
              "version_major": 2,
              "version_minor": 0,
              "model_id": "ea480367785e4dd29c01c276807e1b67"
            }
          },
          "metadata": {}
        }
      ],
      "id": "mmtATrZSoybW"
    },
    {
      "cell_type": "code",
      "source": [
        "print([insertions[i] for i in range(10)])"
      ],
      "metadata": {
        "colab": {
          "base_uri": "https://localhost:8080/"
        },
        "id": "KCpDZ3iB-37q",
        "outputId": "967eb1f9-3e9e-4e21-9cf3-ee2f37990c7d",
        "execution": {
          "iopub.status.busy": "2023-06-11T09:35:11.346081Z",
          "iopub.execute_input": "2023-06-11T09:35:11.346730Z",
          "iopub.status.idle": "2023-06-11T09:35:11.353095Z",
          "shell.execute_reply.started": "2023-06-11T09:35:11.346695Z",
          "shell.execute_reply": "2023-06-11T09:35:11.351983Z"
        },
        "trusted": true
      },
      "execution_count": null,
      "outputs": [
        {
          "name": "stdout",
          "text": "[1, 0, 0, 0, 1, 0, 0, 0, 0, 0]\n",
          "output_type": "stream"
        }
      ],
      "id": "KCpDZ3iB-37q"
    },
    {
      "cell_type": "code",
      "source": [
        "print([substitutions[i] for i in range(10)])"
      ],
      "metadata": {
        "colab": {
          "base_uri": "https://localhost:8080/"
        },
        "id": "cuFmoo-R_9Hl",
        "outputId": "f28f247e-7e2d-4a4f-d7e3-0a06f61d73ea",
        "execution": {
          "iopub.status.busy": "2023-06-11T09:35:11.354953Z",
          "iopub.execute_input": "2023-06-11T09:35:11.355397Z",
          "iopub.status.idle": "2023-06-11T09:35:11.362858Z",
          "shell.execute_reply.started": "2023-06-11T09:35:11.355362Z",
          "shell.execute_reply": "2023-06-11T09:35:11.361899Z"
        },
        "trusted": true
      },
      "execution_count": null,
      "outputs": [
        {
          "name": "stdout",
          "text": "[8, 7, 1, 6, 3, 5, 4, 1, 4, 7]\n",
          "output_type": "stream"
        }
      ],
      "id": "cuFmoo-R_9Hl"
    },
    {
      "cell_type": "code",
      "source": [
        "print([deletions[i] for i in range(10)])"
      ],
      "metadata": {
        "colab": {
          "base_uri": "https://localhost:8080/"
        },
        "id": "eYbTdpyV_keq",
        "outputId": "00e1d99e-aa76-4d8b-9327-e39fc1b3c83c",
        "execution": {
          "iopub.status.busy": "2023-06-11T09:35:11.364473Z",
          "iopub.execute_input": "2023-06-11T09:35:11.365126Z",
          "iopub.status.idle": "2023-06-11T09:35:11.372078Z",
          "shell.execute_reply.started": "2023-06-11T09:35:11.365095Z",
          "shell.execute_reply": "2023-06-11T09:35:11.371072Z"
        },
        "trusted": true
      },
      "execution_count": null,
      "outputs": [
        {
          "name": "stdout",
          "text": "[0, 2, 0, 0, 0, 1, 0, 5, 0, 2]\n",
          "output_type": "stream"
        }
      ],
      "id": "eYbTdpyV_keq"
    },
    {
      "cell_type": "code",
      "source": [
        "# signal to noise ratio function for computing SNR (it really is noise to signal ratio the way it is computed)\n",
        "def Metricsnr(original, noisy):\n",
        "    original_power = 20 * np.log10(np.mean(original ** 2))\n",
        "    noise_power = 20 * np.log10(np.mean((original - noisy) ** 2))\n",
        "    snr = noise_power - original_power\n",
        "    return snr"
      ],
      "metadata": {
        "id": "Jd8fccXz9hOQ",
        "execution": {
          "iopub.status.busy": "2023-06-11T09:35:11.373671Z",
          "iopub.execute_input": "2023-06-11T09:35:11.374302Z",
          "iopub.status.idle": "2023-06-11T09:35:11.381703Z",
          "shell.execute_reply.started": "2023-06-11T09:35:11.374272Z",
          "shell.execute_reply": "2023-06-11T09:35:11.380730Z"
        },
        "trusted": true
      },
      "execution_count": null,
      "outputs": [],
      "id": "Jd8fccXz9hOQ"
    },
    {
      "cell_type": "code",
      "source": [
        "# storing SNR information in a separate list\n",
        "snr = []\n",
        "for i in tqdm(range(number_of_examples)):\n",
        "    temp1=clean[i].numpy()\n",
        "    temp2=pert[i].numpy()\n",
        "    snr.append(Metricsnr(temp1,temp2))"
      ],
      "metadata": {
        "id": "8bExsrbF9hG-",
        "colab": {
          "base_uri": "https://localhost:8080/",
          "height": 49,
          "referenced_widgets": [
            "b3da3381da5d4e1f9faa9576c225a4f8",
            "b282fcc6b47d4c7481150efc6a763364",
            "090ce6fbf1b5447ea2c415ee6135531a",
            "5215be79812d4c0aa293b37e50fc11ba",
            "d6c6a2b1537f4d31b1d08994453fa561",
            "935c0062da6e4186ae60b43d7aea1449",
            "122ebed8e34a4f69bbec7284d9360650",
            "5acda5ce8de24c0a992ec39c1abb60d0",
            "8f030e4951b44602b8a15f662007b049",
            "8430c1e4c3084750af90b0a74916cac0",
            "995cd2609fa84d37be3745559a002b7d",
            "2950e3d357f24cf9866131eeae0c44c1"
          ]
        },
        "outputId": "d09b258d-b5b6-460b-8a42-e875595380da",
        "execution": {
          "iopub.status.busy": "2023-06-11T09:35:11.383249Z",
          "iopub.execute_input": "2023-06-11T09:35:11.383875Z",
          "iopub.status.idle": "2023-06-11T09:35:11.441383Z",
          "shell.execute_reply.started": "2023-06-11T09:35:11.383844Z",
          "shell.execute_reply": "2023-06-11T09:35:11.440471Z"
        },
        "trusted": true
      },
      "execution_count": null,
      "outputs": [
        {
          "output_type": "display_data",
          "data": {
            "text/plain": "  0%|          | 0/100 [00:00<?, ?it/s]",
            "application/vnd.jupyter.widget-view+json": {
              "version_major": 2,
              "version_minor": 0,
              "model_id": "2950e3d357f24cf9866131eeae0c44c1"
            }
          },
          "metadata": {}
        }
      ],
      "id": "8bExsrbF9hG-"
    },
    {
      "cell_type": "code",
      "source": [
        "print([snr[i] for i in range(10)])"
      ],
      "metadata": {
        "colab": {
          "base_uri": "https://localhost:8080/"
        },
        "id": "Svbn2QGEAxXn",
        "outputId": "b8e5606a-4091-462f-bb18-f150d3198766",
        "execution": {
          "iopub.status.busy": "2023-06-11T09:35:11.442904Z",
          "iopub.execute_input": "2023-06-11T09:35:11.443548Z",
          "iopub.status.idle": "2023-06-11T09:35:11.449148Z",
          "shell.execute_reply.started": "2023-06-11T09:35:11.443516Z",
          "shell.execute_reply": "2023-06-11T09:35:11.448222Z"
        },
        "trusted": true
      },
      "execution_count": null,
      "outputs": [
        {
          "name": "stdout",
          "text": "[-11.378765106201172, -0.38451194763183594, -8.605523109436035, -12.846879959106445, -7.567400932312012, -2.2128868103027344, -17.3106050491333, -2.9803943634033203, -10.404829978942871, -9.792618751525879]\n",
          "output_type": "stream"
        }
      ],
      "id": "Svbn2QGEAxXn"
    },
    {
      "cell_type": "code",
      "source": [
        "# This be used to allocate a separate sheet according to the attack\n",
        "if adv_attack == \"FGSM\":\n",
        "    workingSheetName = 'FGSMTargeted'\n",
        "elif adv_attack == \"BIM\":\n",
        "    workingSheetName = 'BIMTargeted'\n",
        "elif adv_attack == \"PGD\":\n",
        "    workingSheetName = 'PGDTargeted'\n",
        "elif adv_attack == \"CW\":\n",
        "    workingSheetName = 'CWTargeted'\n",
        "elif adv_attack == \"IMP_CW\":\n",
        "    workingSheetName = 'IMP_CWTargeted'"
      ],
      "metadata": {
        "id": "4_Pi_AYqvBvG",
        "execution": {
          "iopub.status.busy": "2023-06-11T09:35:11.450444Z",
          "iopub.execute_input": "2023-06-11T09:35:11.451093Z",
          "iopub.status.idle": "2023-06-11T09:35:11.458710Z",
          "shell.execute_reply.started": "2023-06-11T09:35:11.451061Z",
          "shell.execute_reply": "2023-06-11T09:35:11.457951Z"
        },
        "trusted": true
      },
      "execution_count": null,
      "outputs": [],
      "id": "4_Pi_AYqvBvG"
    },
    {
      "cell_type": "code",
      "source": [
        "# All lengths should be equal for storing data\n",
        "print(len([i for i in range(1,101)]))\n",
        "print(len(orig))\n",
        "print(len(rand))\n",
        "print(len(clean_transcriptions))\n",
        "print(len(perturb_transcriptions))\n",
        "print(len(WER_untargeted))\n",
        "print(len(WER_targeted))\n",
        "print(len(snr))\n",
        "print(len(insertions))\n",
        "print(len(substitutions))\n",
        "print(len(deletions))"
      ],
      "metadata": {
        "colab": {
          "base_uri": "https://localhost:8080/"
        },
        "id": "9RcwXLAtBuw-",
        "outputId": "0cdfce77-bfde-4bf2-8ed7-b742956532cb",
        "execution": {
          "iopub.status.busy": "2023-06-11T09:35:11.459876Z",
          "iopub.execute_input": "2023-06-11T09:35:11.460580Z",
          "iopub.status.idle": "2023-06-11T09:35:11.470657Z",
          "shell.execute_reply.started": "2023-06-11T09:35:11.460547Z",
          "shell.execute_reply": "2023-06-11T09:35:11.469640Z"
        },
        "trusted": true
      },
      "execution_count": null,
      "outputs": [
        {
          "name": "stdout",
          "text": "100\n100\n100\n100\n100\n100\n100\n100\n100\n100\n100\n",
          "output_type": "stream"
        }
      ],
      "id": "9RcwXLAtBuw-"
    },
    {
      "cell_type": "markdown",
      "source": [
        "# Code for storing data directly or automatically in Google Sheet using google-sheet-api without having to manually copy paste all the stuff the old school way"
      ],
      "metadata": {
        "id": "tdm2zUyP0Iuv"
      },
      "id": "tdm2zUyP0Iuv"
    },
    {
      "cell_type": "code",
      "source": [
        "# Define the scope of API access\n",
        "scope = [\n",
        "    'https://www.googleapis.com/auth/spreadsheets',\n",
        "    'https://www.googleapis.com/auth/drive'\n",
        "]\n",
        "\n",
        "# Load credentials from JSON key file\n",
        "creds = Credentials.from_service_account_file(\n",
        "    '/kaggle/working/PerturbationAnalysis/Credentials/skilled-bonus-389413-02121e893823.json', scopes=scope)\n",
        "\n",
        "# Authorize client using credentials\n",
        "client = gspread.authorize(creds)\n",
        "\n",
        "# Open the existing Google Sheet by name \n",
        "sheet_name = 'Results (For comparative analysis)'\n",
        "worksheet_name = workingSheetName\n",
        "sh = client.open(sheet_name)\n",
        "try:\n",
        "    worksheet = sh.worksheet(worksheet_name)\n",
        "except gspread.exceptions.WorksheetNotFound:\n",
        "    worksheet = sh.add_worksheet(title=worksheet_name, rows=\"100\", cols=\"20\")\n",
        "\n",
        "# Clear the existing content of the worksheet\n",
        "worksheet.clear()\n",
        "\n",
        "# Create small Pandas DataFrame (your data may vary)\n",
        "data = {\n",
        "    'Index'                                                    : [i for i in range(1,101)],\n",
        "    'Ground Truth'                                             : orig,\n",
        "    'Target Transcription'                                     : rand,\n",
        "    'Transcription of Clean Audio'                             : clean_transcriptions,\n",
        "    'Transcription of Adversarial Example'                     : perturb_transcriptions,\n",
        "    'WER (GT vs Adversarial Example)'                          : WER_untargeted,\n",
        "    'WER (Target Transcription vs Adversarial Examples) [TMR]' : WER_targeted,\n",
        "    'SNR'                                                      : snr,\n",
        "    'INSERTION'                                                : insertions,\n",
        "    'SUBSTITUTION'                                             : substitutions,\n",
        "    'DELETION'                                                 : deletions\n",
        "}\n",
        "\n",
        "df = pd.DataFrame(data)\n",
        "\n",
        "number_of_columns_to_merge=len(df.columns) # Adding one since we have no index column \n",
        "\n",
        "header_label = adv_attack\n",
        "range_str = \"A1:{}1\".format(chr(ord('A') + number_of_columns_to_merge - 1))\n",
        "worksheet.merge_cells(range_str) \n",
        "worksheet.update_cell(1, 1, header_label)\n",
        "\n",
        "# Center align the header\n",
        "header_format = CellFormat(horizontalAlignment='CENTER')\n",
        "format_cell_range(worksheet, range_str, header_format)\n",
        "\n",
        "data=df.values.tolist()\n",
        "headers=list(df.columns.values)\n",
        "data.insert(0,[i for i in headers])\n",
        "worksheet.append_rows(data)\n",
        "\n",
        "# Find the last row with data\n",
        "last_row = len(data) + 2\n",
        "\n",
        "# Add a blank row after the last row with data\n",
        "blank_row = ['' for _ in range(len(headers))]\n",
        "worksheet.insert_rows([blank_row], last_row)\n",
        "\n",
        "# Add new columns with data\n",
        "new_columns_data = [\n",
        "    ['AVG OF WER (GT vs Adversarial Example)', 'AVG OF WER (Target Transcription vs Adversarial Examples) [TMR]', 'AVG OF SNR', 'AVG INSERTIONS', 'G SUBSTITUTIONS', 'AVG DELETIONS'],\n",
        "    [sum(WER_untargeted)/len(WER_untargeted), sum(WER_targeted)/len(WER_targeted), sum(snr)/len(snr), round(sum(insertions)/len(insertions)), round(sum(substitutions)/len(substitutions)), round(sum(deletions)/len(deletions))]]\n",
        "\n",
        "# Find the last column with data\n",
        "last_col = len(headers)\n",
        "\n",
        "# Append new columns data below the first table\n",
        "for row_idx, row in enumerate(new_columns_data):\n",
        "    for col_idx, cell_value in enumerate(row):\n",
        "        worksheet.update_cell(last_row + 1 + row_idx, col_idx + 6, cell_value)"
      ],
      "metadata": {
        "id": "rgeHzNdNKzOu",
        "execution": {
          "iopub.status.busy": "2023-06-11T09:35:11.476462Z",
          "iopub.execute_input": "2023-06-11T09:35:11.477149Z",
          "iopub.status.idle": "2023-06-11T09:35:14.998992Z",
          "shell.execute_reply.started": "2023-06-11T09:35:11.477118Z",
          "shell.execute_reply": "2023-06-11T09:35:14.998112Z"
        },
        "trusted": true
      },
      "execution_count": null,
      "outputs": [],
      "id": "rgeHzNdNKzOu"
    },
    {
      "cell_type": "markdown",
      "source": [
        "# Storing all the audios in hdf5 extention which does not compress data which could lead to data loss"
      ],
      "metadata": {
        "id": "Uq4QeOPA0Iuw"
      },
      "id": "Uq4QeOPA0Iuw"
    },
    {
      "cell_type": "code",
      "source": [
        "filename = '/kaggle/working/' + workingSheetName + '.hdf5'\n",
        "with h5py.File(filename, 'w') as f:\n",
        "    for i, audio in enumerate(pert):\n",
        "        audioName = f\"audio{i}\"\n",
        "        f.create_dataset(audioName, data = audio)"
      ],
      "metadata": {
        "execution": {
          "iopub.status.busy": "2023-06-11T09:35:15.000371Z",
          "iopub.execute_input": "2023-06-11T09:35:15.000810Z",
          "iopub.status.idle": "2023-06-11T09:35:15.050950Z",
          "shell.execute_reply.started": "2023-06-11T09:35:15.000776Z",
          "shell.execute_reply": "2023-06-11T09:35:15.050085Z"
        },
        "trusted": true,
        "id": "3AYV5HGB0Iuw"
      },
      "execution_count": null,
      "outputs": [],
      "id": "3AYV5HGB0Iuw"
    },
    {
      "cell_type": "markdown",
      "source": [
        "# Class that include methods to save and download files from google drive"
      ],
      "metadata": {
        "id": "76_Bre8G0Iux"
      },
      "id": "76_Bre8G0Iux"
    },
    {
      "cell_type": "code",
      "source": [
        "class DriveAccess(object):\n",
        "    def __init__(self, scope, creds):\n",
        "        scope = scope                                            # Define the scope of API access\n",
        "        creds = creds                                            # Load credentials from JSON key file\n",
        "        self.drive_service = build('drive', 'v3', credentials=creds)  # Authorize client using credentials\n",
        "    \n",
        "    def _search_file_by_name(self, file_name, folder_id):\n",
        "        query = f\"name='{file_name}' and mimeType!='application/vnd.google-apps.folder' and '{folder_id}' in parents and trashed = false\"\n",
        "        results = self.drive_service.files().list(q=query, fields=\"nextPageToken, files(id, name)\").execute()\n",
        "        items = results.get('files', [])\n",
        "        return items\n",
        "\n",
        "    def _delete_file(self, file_id):\n",
        "        try:\n",
        "            self.drive_service.files().delete(fileId=file_id).execute()\n",
        "            print(f'File with ID \"{file_id}\" has been deleted.')\n",
        "        except HttpError as error:\n",
        "            print(f'An error occurred: {error}')\n",
        "\n",
        "    # Function to create and upload a file to Google Drive\n",
        "    def upload_to_drive(self, file_path, file_name, mime_type, folder_id):\n",
        "        # Check if the file already exists in the folder\n",
        "        existing_files = self._search_file_by_name(file_name, folder_id)\n",
        "        if existing_files:\n",
        "            for file in existing_files:\n",
        "                self._delete_file(file['id'])\n",
        "\n",
        "        try:\n",
        "            file_metadata = {\n",
        "                'name': file_name,\n",
        "                'parents': [folder_id]\n",
        "            }\n",
        "            media = MediaFileUpload(file_path, mimetype=mime_type)\n",
        "            file = self.drive_service.files().create(body=file_metadata, media_body=media, fields='id').execute()\n",
        "            print(f'File ID: \"{file.get(\"id\")}\".')\n",
        "        except HttpError as error:\n",
        "            print(f'An error occurred: {error}')\n",
        "            file = None\n",
        "\n",
        "        return file.get(\"id\")\n",
        "\n",
        "    # Function to download a file from Google Drive\n",
        "    def download_file(self, file_id, destination):\n",
        "        try:\n",
        "            request = self.drive_service.files().get_media(fileId=file_id)\n",
        "            fh = io.BytesIO()\n",
        "            downloader = MediaIoBaseDownload(fh, request)\n",
        "            done = False\n",
        "            while done is False:\n",
        "                status, done = downloader.next_chunk()\n",
        "                print(\"Download %d%%.\" % int(status.progress() * 100))\n",
        "\n",
        "            fh.seek(0)\n",
        "            with open(destination, 'wb') as f:\n",
        "                f.write(fh.read())\n",
        "                f.close()\n",
        "            print(f'Successfully downloaded the file to {destination}')\n",
        "        except HttpError as error:\n",
        "            print(f'An error occurred: {error}')\n",
        "\n",
        "    # Function to list all the files stored in my Google Drive's folder\n",
        "    def list_files_in_folder(self, folder_id):\n",
        "        query = f\"'{folder_id}' in parents and trashed = false\"\n",
        "        results = self.drive_service.files().list(q=query, fields=\"nextPageToken, files(id, name)\").execute()\n",
        "        items = results.get('files', [])\n",
        "        return items"
      ],
      "metadata": {
        "execution": {
          "iopub.status.busy": "2023-06-11T09:35:15.052284Z",
          "iopub.execute_input": "2023-06-11T09:35:15.052874Z",
          "iopub.status.idle": "2023-06-11T09:35:15.068283Z",
          "shell.execute_reply.started": "2023-06-11T09:35:15.052828Z",
          "shell.execute_reply": "2023-06-11T09:35:15.067225Z"
        },
        "trusted": true,
        "id": "K1sRU86Z0Iux"
      },
      "execution_count": null,
      "outputs": [],
      "id": "K1sRU86Z0Iux"
    },
    {
      "cell_type": "code",
      "source": [
        "# initializing DriveAccess class\n",
        "driveScope = [scope[1]]\n",
        "drive = DriveAccess(scope, creds)"
      ],
      "metadata": {
        "execution": {
          "iopub.status.busy": "2023-06-11T09:35:15.069761Z",
          "iopub.execute_input": "2023-06-11T09:35:15.070164Z",
          "iopub.status.idle": "2023-06-11T09:35:15.090953Z",
          "shell.execute_reply.started": "2023-06-11T09:35:15.070133Z",
          "shell.execute_reply": "2023-06-11T09:35:15.090015Z"
        },
        "trusted": true,
        "id": "faKslb0_0Iuy"
      },
      "execution_count": null,
      "outputs": [],
      "id": "faKslb0_0Iuy"
    },
    {
      "cell_type": "code",
      "source": [
        "# Upload the .hdf5 file to Google Drive [basically the perturbed audios are being stored in drive :) ]\n",
        "file_path = filename\n",
        "file_name = workingSheetName + '.hdf5'\n",
        "mime_type = 'application/octet-stream'\n",
        "folder_id = '1NI0ZylqR35rDNJkUpERJTnBX86MSLFhP'\n",
        "file = drive.upload_to_drive(file_path, file_name, mime_type, folder_id)"
      ],
      "metadata": {
        "execution": {
          "iopub.status.busy": "2023-06-11T09:35:15.092636Z",
          "iopub.execute_input": "2023-06-11T09:35:15.093015Z",
          "iopub.status.idle": "2023-06-11T09:35:17.917132Z",
          "shell.execute_reply.started": "2023-06-11T09:35:15.092983Z",
          "shell.execute_reply": "2023-06-11T09:35:17.916109Z"
        },
        "trusted": true,
        "id": "iEUKc0AH0Iuz",
        "outputId": "2f9f6f5b-0211-40e9-91e8-ae933a6e8b93"
      },
      "execution_count": null,
      "outputs": [
        {
          "name": "stdout",
          "text": "File with ID \"1Zz8g6OmSgVezVaBpW5RyO3AQuNuf5JRm\" has been deleted.\nFile ID: \"1F8mLD7dIm8hzNFcjBJsZRvejbZ3J25oj\".\n",
          "output_type": "stream"
        }
      ],
      "id": "iEUKc0AH0Iuz"
    },
    {
      "cell_type": "markdown",
      "source": [
        "**Check if the dataset has been stored in the drive's folder or not by printing all the file names stored in it**"
      ],
      "metadata": {
        "id": "YVm9KlVx0Iuz"
      },
      "id": "YVm9KlVx0Iuz"
    },
    {
      "cell_type": "code",
      "source": [
        "# this cell basically prints all the datasets according to the attack type stored in my google drive\n",
        "files = drive.list_files_in_folder(folder_id)\n",
        "\n",
        "# storing files names stored in google drive with their corresponding file id in the form of a dictionary\n",
        "files_dict = {}\n",
        "for file in files:\n",
        "    files_dict[file['name']] = file['id']\n",
        "    print(f\"File Name: {file['name']}, File ID: {file['id']}\")"
      ],
      "metadata": {
        "execution": {
          "iopub.status.busy": "2023-06-11T09:35:17.918498Z",
          "iopub.execute_input": "2023-06-11T09:35:17.919307Z",
          "iopub.status.idle": "2023-06-11T09:35:18.085633Z",
          "shell.execute_reply.started": "2023-06-11T09:35:17.919270Z",
          "shell.execute_reply": "2023-06-11T09:35:18.084663Z"
        },
        "trusted": true,
        "id": "AYYOhHhC0Iu0",
        "outputId": "258ff6ab-7852-4b71-e458-b0c227c650d0"
      },
      "execution_count": null,
      "outputs": [
        {
          "name": "stdout",
          "text": "File Name: clean.hdf5, File ID: 1LLaiLRaxIk2nQhEBuF0HWmOUyOaI_zPx\n",
          "output_type": "stream"
        }
      ],
      "id": "AYYOhHhC0Iu0"
    },
    {
      "cell_type": "markdown",
      "source": [
        "These should be the file names if the notebook convention is followed:\n",
        "1) FGSM   = 'FGSMTargeted.hdf5'\n",
        "\n",
        "2) BIM    = 'BIMTargeted.hdf5'\n",
        "\n",
        "3) PGD    = 'PGDTargeted.hdf5'\n",
        "\n",
        "4) CW     = 'CWTargeted.hdf5'\n",
        "\n",
        "5) IMP_CW = 'IMP_CWTargeted.hdf5'"
      ],
      "metadata": {
        "id": "ACUA79Ra0Iu0"
      },
      "id": "ACUA79Ra0Iu0"
    },
    {
      "cell_type": "markdown",
      "source": [
        "**End of data generation. All the information/meta data is saved in google sheet and the audios are also stored in google drive.**"
      ],
      "metadata": {
        "id": "Zb7OAGim0Iu0"
      },
      "id": "Zb7OAGim0Iu0"
    },
    {
      "cell_type": "markdown",
      "source": [
        "# <center> ******--------******"
      ],
      "metadata": {
        "id": "mHJCiGFX0Iu1"
      },
      "id": "mHJCiGFX0Iu1"
    }
  ]
}