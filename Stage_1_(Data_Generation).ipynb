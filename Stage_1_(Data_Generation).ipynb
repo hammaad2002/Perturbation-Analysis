{
  "metadata": {
    "accelerator": "GPU",
    "colab": {
      "provenance": [],
      "gpuType": "T4",
      "include_colab_link": true
    },
    "kernelspec": {
      "name": "python3",
      "display_name": "Python 3",
      "language": "python"
    },
    "language_info": {
      "name": "python",
      "version": "3.10.10",
      "mimetype": "text/x-python",
      "codemirror_mode": {
        "name": "ipython",
        "version": 3
      },
      "pygments_lexer": "ipython3",
      "nbconvert_exporter": "python",
      "file_extension": ".py"
    },
    "papermill": {
      "default_parameters": {},
      "duration": 207.003959,
      "end_time": "2023-04-23T09:37:09.332615",
      "environment_variables": {},
      "exception": null,
      "input_path": "__notebook__.ipynb",
      "output_path": "__notebook__.ipynb",
      "parameters": {},
      "start_time": "2023-04-23T09:33:42.328656",
      "version": "2.4.0"
    },
    "widgets": {
      "application/vnd.jupyter.widget-state+json": {
        "a1094dccb2364b2789e307d8ddfc56c8": {
          "model_module": "@jupyter-widgets/controls",
          "model_name": "HBoxModel",
          "model_module_version": "1.5.0",
          "state": {
            "_dom_classes": [],
            "_model_module": "@jupyter-widgets/controls",
            "_model_module_version": "1.5.0",
            "_model_name": "HBoxModel",
            "_view_count": null,
            "_view_module": "@jupyter-widgets/controls",
            "_view_module_version": "1.5.0",
            "_view_name": "HBoxView",
            "box_style": "",
            "children": [
              "IPY_MODEL_4ce476bbf7424b1c8aa19326e6c7aba3",
              "IPY_MODEL_981a78c6d06045848ae28fa7c92c7d59",
              "IPY_MODEL_921dcc18c007430f95eec45abf1a5808"
            ],
            "layout": "IPY_MODEL_704ca4b1af5d468fa39c67eadaf12a53"
          }
        },
        "4ce476bbf7424b1c8aa19326e6c7aba3": {
          "model_module": "@jupyter-widgets/controls",
          "model_name": "HTMLModel",
          "model_module_version": "1.5.0",
          "state": {
            "_dom_classes": [],
            "_model_module": "@jupyter-widgets/controls",
            "_model_module_version": "1.5.0",
            "_model_name": "HTMLModel",
            "_view_count": null,
            "_view_module": "@jupyter-widgets/controls",
            "_view_module_version": "1.5.0",
            "_view_name": "HTMLView",
            "description": "",
            "description_tooltip": null,
            "layout": "IPY_MODEL_8cac883adac34d508ebcae3ea8802a80",
            "placeholder": "​",
            "style": "IPY_MODEL_0de30380094a450f93b6163f014d1256",
            "value": "100%"
          }
        },
        "981a78c6d06045848ae28fa7c92c7d59": {
          "model_module": "@jupyter-widgets/controls",
          "model_name": "FloatProgressModel",
          "model_module_version": "1.5.0",
          "state": {
            "_dom_classes": [],
            "_model_module": "@jupyter-widgets/controls",
            "_model_module_version": "1.5.0",
            "_model_name": "FloatProgressModel",
            "_view_count": null,
            "_view_module": "@jupyter-widgets/controls",
            "_view_module_version": "1.5.0",
            "_view_name": "ProgressView",
            "bar_style": "success",
            "description": "",
            "description_tooltip": null,
            "layout": "IPY_MODEL_712e6dca1e674ae8a5909025ba6e78d1",
            "max": 100,
            "min": 0,
            "orientation": "horizontal",
            "style": "IPY_MODEL_6e34c2220ac34ad6983e306fd239ccdb",
            "value": 100
          }
        },
        "921dcc18c007430f95eec45abf1a5808": {
          "model_module": "@jupyter-widgets/controls",
          "model_name": "HTMLModel",
          "model_module_version": "1.5.0",
          "state": {
            "_dom_classes": [],
            "_model_module": "@jupyter-widgets/controls",
            "_model_module_version": "1.5.0",
            "_model_name": "HTMLModel",
            "_view_count": null,
            "_view_module": "@jupyter-widgets/controls",
            "_view_module_version": "1.5.0",
            "_view_name": "HTMLView",
            "description": "",
            "description_tooltip": null,
            "layout": "IPY_MODEL_92cd19bae99b426aade137496157f63f",
            "placeholder": "​",
            "style": "IPY_MODEL_d95137a261c6423694b0c3ed6177d676",
            "value": " 100/100 [03:37&lt;00:00,  2.52s/it]"
          }
        },
        "704ca4b1af5d468fa39c67eadaf12a53": {
          "model_module": "@jupyter-widgets/base",
          "model_name": "LayoutModel",
          "model_module_version": "1.2.0",
          "state": {
            "_model_module": "@jupyter-widgets/base",
            "_model_module_version": "1.2.0",
            "_model_name": "LayoutModel",
            "_view_count": null,
            "_view_module": "@jupyter-widgets/base",
            "_view_module_version": "1.2.0",
            "_view_name": "LayoutView",
            "align_content": null,
            "align_items": null,
            "align_self": null,
            "border": null,
            "bottom": null,
            "display": null,
            "flex": null,
            "flex_flow": null,
            "grid_area": null,
            "grid_auto_columns": null,
            "grid_auto_flow": null,
            "grid_auto_rows": null,
            "grid_column": null,
            "grid_gap": null,
            "grid_row": null,
            "grid_template_areas": null,
            "grid_template_columns": null,
            "grid_template_rows": null,
            "height": null,
            "justify_content": null,
            "justify_items": null,
            "left": null,
            "margin": null,
            "max_height": null,
            "max_width": null,
            "min_height": null,
            "min_width": null,
            "object_fit": null,
            "object_position": null,
            "order": null,
            "overflow": null,
            "overflow_x": null,
            "overflow_y": null,
            "padding": null,
            "right": null,
            "top": null,
            "visibility": null,
            "width": null
          }
        },
        "8cac883adac34d508ebcae3ea8802a80": {
          "model_module": "@jupyter-widgets/base",
          "model_name": "LayoutModel",
          "model_module_version": "1.2.0",
          "state": {
            "_model_module": "@jupyter-widgets/base",
            "_model_module_version": "1.2.0",
            "_model_name": "LayoutModel",
            "_view_count": null,
            "_view_module": "@jupyter-widgets/base",
            "_view_module_version": "1.2.0",
            "_view_name": "LayoutView",
            "align_content": null,
            "align_items": null,
            "align_self": null,
            "border": null,
            "bottom": null,
            "display": null,
            "flex": null,
            "flex_flow": null,
            "grid_area": null,
            "grid_auto_columns": null,
            "grid_auto_flow": null,
            "grid_auto_rows": null,
            "grid_column": null,
            "grid_gap": null,
            "grid_row": null,
            "grid_template_areas": null,
            "grid_template_columns": null,
            "grid_template_rows": null,
            "height": null,
            "justify_content": null,
            "justify_items": null,
            "left": null,
            "margin": null,
            "max_height": null,
            "max_width": null,
            "min_height": null,
            "min_width": null,
            "object_fit": null,
            "object_position": null,
            "order": null,
            "overflow": null,
            "overflow_x": null,
            "overflow_y": null,
            "padding": null,
            "right": null,
            "top": null,
            "visibility": null,
            "width": null
          }
        },
        "0de30380094a450f93b6163f014d1256": {
          "model_module": "@jupyter-widgets/controls",
          "model_name": "DescriptionStyleModel",
          "model_module_version": "1.5.0",
          "state": {
            "_model_module": "@jupyter-widgets/controls",
            "_model_module_version": "1.5.0",
            "_model_name": "DescriptionStyleModel",
            "_view_count": null,
            "_view_module": "@jupyter-widgets/base",
            "_view_module_version": "1.2.0",
            "_view_name": "StyleView",
            "description_width": ""
          }
        },
        "712e6dca1e674ae8a5909025ba6e78d1": {
          "model_module": "@jupyter-widgets/base",
          "model_name": "LayoutModel",
          "model_module_version": "1.2.0",
          "state": {
            "_model_module": "@jupyter-widgets/base",
            "_model_module_version": "1.2.0",
            "_model_name": "LayoutModel",
            "_view_count": null,
            "_view_module": "@jupyter-widgets/base",
            "_view_module_version": "1.2.0",
            "_view_name": "LayoutView",
            "align_content": null,
            "align_items": null,
            "align_self": null,
            "border": null,
            "bottom": null,
            "display": null,
            "flex": null,
            "flex_flow": null,
            "grid_area": null,
            "grid_auto_columns": null,
            "grid_auto_flow": null,
            "grid_auto_rows": null,
            "grid_column": null,
            "grid_gap": null,
            "grid_row": null,
            "grid_template_areas": null,
            "grid_template_columns": null,
            "grid_template_rows": null,
            "height": null,
            "justify_content": null,
            "justify_items": null,
            "left": null,
            "margin": null,
            "max_height": null,
            "max_width": null,
            "min_height": null,
            "min_width": null,
            "object_fit": null,
            "object_position": null,
            "order": null,
            "overflow": null,
            "overflow_x": null,
            "overflow_y": null,
            "padding": null,
            "right": null,
            "top": null,
            "visibility": null,
            "width": null
          }
        },
        "6e34c2220ac34ad6983e306fd239ccdb": {
          "model_module": "@jupyter-widgets/controls",
          "model_name": "ProgressStyleModel",
          "model_module_version": "1.5.0",
          "state": {
            "_model_module": "@jupyter-widgets/controls",
            "_model_module_version": "1.5.0",
            "_model_name": "ProgressStyleModel",
            "_view_count": null,
            "_view_module": "@jupyter-widgets/base",
            "_view_module_version": "1.2.0",
            "_view_name": "StyleView",
            "bar_color": null,
            "description_width": ""
          }
        },
        "92cd19bae99b426aade137496157f63f": {
          "model_module": "@jupyter-widgets/base",
          "model_name": "LayoutModel",
          "model_module_version": "1.2.0",
          "state": {
            "_model_module": "@jupyter-widgets/base",
            "_model_module_version": "1.2.0",
            "_model_name": "LayoutModel",
            "_view_count": null,
            "_view_module": "@jupyter-widgets/base",
            "_view_module_version": "1.2.0",
            "_view_name": "LayoutView",
            "align_content": null,
            "align_items": null,
            "align_self": null,
            "border": null,
            "bottom": null,
            "display": null,
            "flex": null,
            "flex_flow": null,
            "grid_area": null,
            "grid_auto_columns": null,
            "grid_auto_flow": null,
            "grid_auto_rows": null,
            "grid_column": null,
            "grid_gap": null,
            "grid_row": null,
            "grid_template_areas": null,
            "grid_template_columns": null,
            "grid_template_rows": null,
            "height": null,
            "justify_content": null,
            "justify_items": null,
            "left": null,
            "margin": null,
            "max_height": null,
            "max_width": null,
            "min_height": null,
            "min_width": null,
            "object_fit": null,
            "object_position": null,
            "order": null,
            "overflow": null,
            "overflow_x": null,
            "overflow_y": null,
            "padding": null,
            "right": null,
            "top": null,
            "visibility": null,
            "width": null
          }
        },
        "d95137a261c6423694b0c3ed6177d676": {
          "model_module": "@jupyter-widgets/controls",
          "model_name": "DescriptionStyleModel",
          "model_module_version": "1.5.0",
          "state": {
            "_model_module": "@jupyter-widgets/controls",
            "_model_module_version": "1.5.0",
            "_model_name": "DescriptionStyleModel",
            "_view_count": null,
            "_view_module": "@jupyter-widgets/base",
            "_view_module_version": "1.2.0",
            "_view_name": "StyleView",
            "description_width": ""
          }
        },
        "86bd48aa8d494a16b30a0db3742ffcf9": {
          "model_module": "@jupyter-widgets/controls",
          "model_name": "HBoxModel",
          "model_module_version": "1.5.0",
          "state": {
            "_dom_classes": [],
            "_model_module": "@jupyter-widgets/controls",
            "_model_module_version": "1.5.0",
            "_model_name": "HBoxModel",
            "_view_count": null,
            "_view_module": "@jupyter-widgets/controls",
            "_view_module_version": "1.5.0",
            "_view_name": "HBoxView",
            "box_style": "",
            "children": [
              "IPY_MODEL_ff18d6c76d8949ce9588edca69fbfa34",
              "IPY_MODEL_953d2ac1d8584774b62b3b998f26e9a1",
              "IPY_MODEL_dc7bcd51e17b45a5af61915b84409bd2"
            ],
            "layout": "IPY_MODEL_0b130f11b9324cc2a4fc486a51e06366"
          }
        },
        "ff18d6c76d8949ce9588edca69fbfa34": {
          "model_module": "@jupyter-widgets/controls",
          "model_name": "HTMLModel",
          "model_module_version": "1.5.0",
          "state": {
            "_dom_classes": [],
            "_model_module": "@jupyter-widgets/controls",
            "_model_module_version": "1.5.0",
            "_model_name": "HTMLModel",
            "_view_count": null,
            "_view_module": "@jupyter-widgets/controls",
            "_view_module_version": "1.5.0",
            "_view_name": "HTMLView",
            "description": "",
            "description_tooltip": null,
            "layout": "IPY_MODEL_777e99a24843484890264ff6769ec618",
            "placeholder": "​",
            "style": "IPY_MODEL_b18b09c7567f47408054c292e58b69f1",
            "value": "100%"
          }
        },
        "953d2ac1d8584774b62b3b998f26e9a1": {
          "model_module": "@jupyter-widgets/controls",
          "model_name": "FloatProgressModel",
          "model_module_version": "1.5.0",
          "state": {
            "_dom_classes": [],
            "_model_module": "@jupyter-widgets/controls",
            "_model_module_version": "1.5.0",
            "_model_name": "FloatProgressModel",
            "_view_count": null,
            "_view_module": "@jupyter-widgets/controls",
            "_view_module_version": "1.5.0",
            "_view_name": "ProgressView",
            "bar_style": "success",
            "description": "",
            "description_tooltip": null,
            "layout": "IPY_MODEL_5e69b926b1094091b05b93dfbe249e7e",
            "max": 100,
            "min": 0,
            "orientation": "horizontal",
            "style": "IPY_MODEL_6fe9457b285440e982c217a474561d04",
            "value": 100
          }
        },
        "dc7bcd51e17b45a5af61915b84409bd2": {
          "model_module": "@jupyter-widgets/controls",
          "model_name": "HTMLModel",
          "model_module_version": "1.5.0",
          "state": {
            "_dom_classes": [],
            "_model_module": "@jupyter-widgets/controls",
            "_model_module_version": "1.5.0",
            "_model_name": "HTMLModel",
            "_view_count": null,
            "_view_module": "@jupyter-widgets/controls",
            "_view_module_version": "1.5.0",
            "_view_name": "HTMLView",
            "description": "",
            "description_tooltip": null,
            "layout": "IPY_MODEL_e2f05f25d264428fafec9605585b0bdf",
            "placeholder": "​",
            "style": "IPY_MODEL_5c47667d213648e78b846abcbd69f22a",
            "value": " 100/100 [01:08&lt;00:00,  1.35it/s]"
          }
        },
        "0b130f11b9324cc2a4fc486a51e06366": {
          "model_module": "@jupyter-widgets/base",
          "model_name": "LayoutModel",
          "model_module_version": "1.2.0",
          "state": {
            "_model_module": "@jupyter-widgets/base",
            "_model_module_version": "1.2.0",
            "_model_name": "LayoutModel",
            "_view_count": null,
            "_view_module": "@jupyter-widgets/base",
            "_view_module_version": "1.2.0",
            "_view_name": "LayoutView",
            "align_content": null,
            "align_items": null,
            "align_self": null,
            "border": null,
            "bottom": null,
            "display": null,
            "flex": null,
            "flex_flow": null,
            "grid_area": null,
            "grid_auto_columns": null,
            "grid_auto_flow": null,
            "grid_auto_rows": null,
            "grid_column": null,
            "grid_gap": null,
            "grid_row": null,
            "grid_template_areas": null,
            "grid_template_columns": null,
            "grid_template_rows": null,
            "height": null,
            "justify_content": null,
            "justify_items": null,
            "left": null,
            "margin": null,
            "max_height": null,
            "max_width": null,
            "min_height": null,
            "min_width": null,
            "object_fit": null,
            "object_position": null,
            "order": null,
            "overflow": null,
            "overflow_x": null,
            "overflow_y": null,
            "padding": null,
            "right": null,
            "top": null,
            "visibility": null,
            "width": null
          }
        },
        "777e99a24843484890264ff6769ec618": {
          "model_module": "@jupyter-widgets/base",
          "model_name": "LayoutModel",
          "model_module_version": "1.2.0",
          "state": {
            "_model_module": "@jupyter-widgets/base",
            "_model_module_version": "1.2.0",
            "_model_name": "LayoutModel",
            "_view_count": null,
            "_view_module": "@jupyter-widgets/base",
            "_view_module_version": "1.2.0",
            "_view_name": "LayoutView",
            "align_content": null,
            "align_items": null,
            "align_self": null,
            "border": null,
            "bottom": null,
            "display": null,
            "flex": null,
            "flex_flow": null,
            "grid_area": null,
            "grid_auto_columns": null,
            "grid_auto_flow": null,
            "grid_auto_rows": null,
            "grid_column": null,
            "grid_gap": null,
            "grid_row": null,
            "grid_template_areas": null,
            "grid_template_columns": null,
            "grid_template_rows": null,
            "height": null,
            "justify_content": null,
            "justify_items": null,
            "left": null,
            "margin": null,
            "max_height": null,
            "max_width": null,
            "min_height": null,
            "min_width": null,
            "object_fit": null,
            "object_position": null,
            "order": null,
            "overflow": null,
            "overflow_x": null,
            "overflow_y": null,
            "padding": null,
            "right": null,
            "top": null,
            "visibility": null,
            "width": null
          }
        },
        "b18b09c7567f47408054c292e58b69f1": {
          "model_module": "@jupyter-widgets/controls",
          "model_name": "DescriptionStyleModel",
          "model_module_version": "1.5.0",
          "state": {
            "_model_module": "@jupyter-widgets/controls",
            "_model_module_version": "1.5.0",
            "_model_name": "DescriptionStyleModel",
            "_view_count": null,
            "_view_module": "@jupyter-widgets/base",
            "_view_module_version": "1.2.0",
            "_view_name": "StyleView",
            "description_width": ""
          }
        },
        "5e69b926b1094091b05b93dfbe249e7e": {
          "model_module": "@jupyter-widgets/base",
          "model_name": "LayoutModel",
          "model_module_version": "1.2.0",
          "state": {
            "_model_module": "@jupyter-widgets/base",
            "_model_module_version": "1.2.0",
            "_model_name": "LayoutModel",
            "_view_count": null,
            "_view_module": "@jupyter-widgets/base",
            "_view_module_version": "1.2.0",
            "_view_name": "LayoutView",
            "align_content": null,
            "align_items": null,
            "align_self": null,
            "border": null,
            "bottom": null,
            "display": null,
            "flex": null,
            "flex_flow": null,
            "grid_area": null,
            "grid_auto_columns": null,
            "grid_auto_flow": null,
            "grid_auto_rows": null,
            "grid_column": null,
            "grid_gap": null,
            "grid_row": null,
            "grid_template_areas": null,
            "grid_template_columns": null,
            "grid_template_rows": null,
            "height": null,
            "justify_content": null,
            "justify_items": null,
            "left": null,
            "margin": null,
            "max_height": null,
            "max_width": null,
            "min_height": null,
            "min_width": null,
            "object_fit": null,
            "object_position": null,
            "order": null,
            "overflow": null,
            "overflow_x": null,
            "overflow_y": null,
            "padding": null,
            "right": null,
            "top": null,
            "visibility": null,
            "width": null
          }
        },
        "6fe9457b285440e982c217a474561d04": {
          "model_module": "@jupyter-widgets/controls",
          "model_name": "ProgressStyleModel",
          "model_module_version": "1.5.0",
          "state": {
            "_model_module": "@jupyter-widgets/controls",
            "_model_module_version": "1.5.0",
            "_model_name": "ProgressStyleModel",
            "_view_count": null,
            "_view_module": "@jupyter-widgets/base",
            "_view_module_version": "1.2.0",
            "_view_name": "StyleView",
            "bar_color": null,
            "description_width": ""
          }
        },
        "e2f05f25d264428fafec9605585b0bdf": {
          "model_module": "@jupyter-widgets/base",
          "model_name": "LayoutModel",
          "model_module_version": "1.2.0",
          "state": {
            "_model_module": "@jupyter-widgets/base",
            "_model_module_version": "1.2.0",
            "_model_name": "LayoutModel",
            "_view_count": null,
            "_view_module": "@jupyter-widgets/base",
            "_view_module_version": "1.2.0",
            "_view_name": "LayoutView",
            "align_content": null,
            "align_items": null,
            "align_self": null,
            "border": null,
            "bottom": null,
            "display": null,
            "flex": null,
            "flex_flow": null,
            "grid_area": null,
            "grid_auto_columns": null,
            "grid_auto_flow": null,
            "grid_auto_rows": null,
            "grid_column": null,
            "grid_gap": null,
            "grid_row": null,
            "grid_template_areas": null,
            "grid_template_columns": null,
            "grid_template_rows": null,
            "height": null,
            "justify_content": null,
            "justify_items": null,
            "left": null,
            "margin": null,
            "max_height": null,
            "max_width": null,
            "min_height": null,
            "min_width": null,
            "object_fit": null,
            "object_position": null,
            "order": null,
            "overflow": null,
            "overflow_x": null,
            "overflow_y": null,
            "padding": null,
            "right": null,
            "top": null,
            "visibility": null,
            "width": null
          }
        },
        "5c47667d213648e78b846abcbd69f22a": {
          "model_module": "@jupyter-widgets/controls",
          "model_name": "DescriptionStyleModel",
          "model_module_version": "1.5.0",
          "state": {
            "_model_module": "@jupyter-widgets/controls",
            "_model_module_version": "1.5.0",
            "_model_name": "DescriptionStyleModel",
            "_view_count": null,
            "_view_module": "@jupyter-widgets/base",
            "_view_module_version": "1.2.0",
            "_view_name": "StyleView",
            "description_width": ""
          }
        },
        "c9fb2963273a4bb38bac53260714b803": {
          "model_module": "@jupyter-widgets/controls",
          "model_name": "HBoxModel",
          "model_module_version": "1.5.0",
          "state": {
            "_dom_classes": [],
            "_model_module": "@jupyter-widgets/controls",
            "_model_module_version": "1.5.0",
            "_model_name": "HBoxModel",
            "_view_count": null,
            "_view_module": "@jupyter-widgets/controls",
            "_view_module_version": "1.5.0",
            "_view_name": "HBoxView",
            "box_style": "",
            "children": [
              "IPY_MODEL_910e36ddcdbc4ccba6bb8c111007677b",
              "IPY_MODEL_60667a97455a491cb4d3ce1297c9aaed",
              "IPY_MODEL_59d5bf87e9b245538f9428fc28ed667b"
            ],
            "layout": "IPY_MODEL_1a7d6fbb93e9434babd727399ae390b4"
          }
        },
        "910e36ddcdbc4ccba6bb8c111007677b": {
          "model_module": "@jupyter-widgets/controls",
          "model_name": "HTMLModel",
          "model_module_version": "1.5.0",
          "state": {
            "_dom_classes": [],
            "_model_module": "@jupyter-widgets/controls",
            "_model_module_version": "1.5.0",
            "_model_name": "HTMLModel",
            "_view_count": null,
            "_view_module": "@jupyter-widgets/controls",
            "_view_module_version": "1.5.0",
            "_view_name": "HTMLView",
            "description": "",
            "description_tooltip": null,
            "layout": "IPY_MODEL_1b6549bbd741409e8f447a0746bbb971",
            "placeholder": "​",
            "style": "IPY_MODEL_2b0bc722644d4803b6d6ff74f61b9275",
            "value": "100%"
          }
        },
        "60667a97455a491cb4d3ce1297c9aaed": {
          "model_module": "@jupyter-widgets/controls",
          "model_name": "FloatProgressModel",
          "model_module_version": "1.5.0",
          "state": {
            "_dom_classes": [],
            "_model_module": "@jupyter-widgets/controls",
            "_model_module_version": "1.5.0",
            "_model_name": "FloatProgressModel",
            "_view_count": null,
            "_view_module": "@jupyter-widgets/controls",
            "_view_module_version": "1.5.0",
            "_view_name": "ProgressView",
            "bar_style": "success",
            "description": "",
            "description_tooltip": null,
            "layout": "IPY_MODEL_8b6a3a68a6f842be90199e848138b157",
            "max": 100,
            "min": 0,
            "orientation": "horizontal",
            "style": "IPY_MODEL_1b565159a6e642828d4142b7cc2ff869",
            "value": 100
          }
        },
        "59d5bf87e9b245538f9428fc28ed667b": {
          "model_module": "@jupyter-widgets/controls",
          "model_name": "HTMLModel",
          "model_module_version": "1.5.0",
          "state": {
            "_dom_classes": [],
            "_model_module": "@jupyter-widgets/controls",
            "_model_module_version": "1.5.0",
            "_model_name": "HTMLModel",
            "_view_count": null,
            "_view_module": "@jupyter-widgets/controls",
            "_view_module_version": "1.5.0",
            "_view_name": "HTMLView",
            "description": "",
            "description_tooltip": null,
            "layout": "IPY_MODEL_0e43f1056b9a42998cfa9ab447a2a109",
            "placeholder": "​",
            "style": "IPY_MODEL_6d6ab38fe2b54e5e80248d2d5437c8a8",
            "value": " 100/100 [01:07&lt;00:00,  1.27it/s]"
          }
        },
        "1a7d6fbb93e9434babd727399ae390b4": {
          "model_module": "@jupyter-widgets/base",
          "model_name": "LayoutModel",
          "model_module_version": "1.2.0",
          "state": {
            "_model_module": "@jupyter-widgets/base",
            "_model_module_version": "1.2.0",
            "_model_name": "LayoutModel",
            "_view_count": null,
            "_view_module": "@jupyter-widgets/base",
            "_view_module_version": "1.2.0",
            "_view_name": "LayoutView",
            "align_content": null,
            "align_items": null,
            "align_self": null,
            "border": null,
            "bottom": null,
            "display": null,
            "flex": null,
            "flex_flow": null,
            "grid_area": null,
            "grid_auto_columns": null,
            "grid_auto_flow": null,
            "grid_auto_rows": null,
            "grid_column": null,
            "grid_gap": null,
            "grid_row": null,
            "grid_template_areas": null,
            "grid_template_columns": null,
            "grid_template_rows": null,
            "height": null,
            "justify_content": null,
            "justify_items": null,
            "left": null,
            "margin": null,
            "max_height": null,
            "max_width": null,
            "min_height": null,
            "min_width": null,
            "object_fit": null,
            "object_position": null,
            "order": null,
            "overflow": null,
            "overflow_x": null,
            "overflow_y": null,
            "padding": null,
            "right": null,
            "top": null,
            "visibility": null,
            "width": null
          }
        },
        "1b6549bbd741409e8f447a0746bbb971": {
          "model_module": "@jupyter-widgets/base",
          "model_name": "LayoutModel",
          "model_module_version": "1.2.0",
          "state": {
            "_model_module": "@jupyter-widgets/base",
            "_model_module_version": "1.2.0",
            "_model_name": "LayoutModel",
            "_view_count": null,
            "_view_module": "@jupyter-widgets/base",
            "_view_module_version": "1.2.0",
            "_view_name": "LayoutView",
            "align_content": null,
            "align_items": null,
            "align_self": null,
            "border": null,
            "bottom": null,
            "display": null,
            "flex": null,
            "flex_flow": null,
            "grid_area": null,
            "grid_auto_columns": null,
            "grid_auto_flow": null,
            "grid_auto_rows": null,
            "grid_column": null,
            "grid_gap": null,
            "grid_row": null,
            "grid_template_areas": null,
            "grid_template_columns": null,
            "grid_template_rows": null,
            "height": null,
            "justify_content": null,
            "justify_items": null,
            "left": null,
            "margin": null,
            "max_height": null,
            "max_width": null,
            "min_height": null,
            "min_width": null,
            "object_fit": null,
            "object_position": null,
            "order": null,
            "overflow": null,
            "overflow_x": null,
            "overflow_y": null,
            "padding": null,
            "right": null,
            "top": null,
            "visibility": null,
            "width": null
          }
        },
        "2b0bc722644d4803b6d6ff74f61b9275": {
          "model_module": "@jupyter-widgets/controls",
          "model_name": "DescriptionStyleModel",
          "model_module_version": "1.5.0",
          "state": {
            "_model_module": "@jupyter-widgets/controls",
            "_model_module_version": "1.5.0",
            "_model_name": "DescriptionStyleModel",
            "_view_count": null,
            "_view_module": "@jupyter-widgets/base",
            "_view_module_version": "1.2.0",
            "_view_name": "StyleView",
            "description_width": ""
          }
        },
        "8b6a3a68a6f842be90199e848138b157": {
          "model_module": "@jupyter-widgets/base",
          "model_name": "LayoutModel",
          "model_module_version": "1.2.0",
          "state": {
            "_model_module": "@jupyter-widgets/base",
            "_model_module_version": "1.2.0",
            "_model_name": "LayoutModel",
            "_view_count": null,
            "_view_module": "@jupyter-widgets/base",
            "_view_module_version": "1.2.0",
            "_view_name": "LayoutView",
            "align_content": null,
            "align_items": null,
            "align_self": null,
            "border": null,
            "bottom": null,
            "display": null,
            "flex": null,
            "flex_flow": null,
            "grid_area": null,
            "grid_auto_columns": null,
            "grid_auto_flow": null,
            "grid_auto_rows": null,
            "grid_column": null,
            "grid_gap": null,
            "grid_row": null,
            "grid_template_areas": null,
            "grid_template_columns": null,
            "grid_template_rows": null,
            "height": null,
            "justify_content": null,
            "justify_items": null,
            "left": null,
            "margin": null,
            "max_height": null,
            "max_width": null,
            "min_height": null,
            "min_width": null,
            "object_fit": null,
            "object_position": null,
            "order": null,
            "overflow": null,
            "overflow_x": null,
            "overflow_y": null,
            "padding": null,
            "right": null,
            "top": null,
            "visibility": null,
            "width": null
          }
        },
        "1b565159a6e642828d4142b7cc2ff869": {
          "model_module": "@jupyter-widgets/controls",
          "model_name": "ProgressStyleModel",
          "model_module_version": "1.5.0",
          "state": {
            "_model_module": "@jupyter-widgets/controls",
            "_model_module_version": "1.5.0",
            "_model_name": "ProgressStyleModel",
            "_view_count": null,
            "_view_module": "@jupyter-widgets/base",
            "_view_module_version": "1.2.0",
            "_view_name": "StyleView",
            "bar_color": null,
            "description_width": ""
          }
        },
        "0e43f1056b9a42998cfa9ab447a2a109": {
          "model_module": "@jupyter-widgets/base",
          "model_name": "LayoutModel",
          "model_module_version": "1.2.0",
          "state": {
            "_model_module": "@jupyter-widgets/base",
            "_model_module_version": "1.2.0",
            "_model_name": "LayoutModel",
            "_view_count": null,
            "_view_module": "@jupyter-widgets/base",
            "_view_module_version": "1.2.0",
            "_view_name": "LayoutView",
            "align_content": null,
            "align_items": null,
            "align_self": null,
            "border": null,
            "bottom": null,
            "display": null,
            "flex": null,
            "flex_flow": null,
            "grid_area": null,
            "grid_auto_columns": null,
            "grid_auto_flow": null,
            "grid_auto_rows": null,
            "grid_column": null,
            "grid_gap": null,
            "grid_row": null,
            "grid_template_areas": null,
            "grid_template_columns": null,
            "grid_template_rows": null,
            "height": null,
            "justify_content": null,
            "justify_items": null,
            "left": null,
            "margin": null,
            "max_height": null,
            "max_width": null,
            "min_height": null,
            "min_width": null,
            "object_fit": null,
            "object_position": null,
            "order": null,
            "overflow": null,
            "overflow_x": null,
            "overflow_y": null,
            "padding": null,
            "right": null,
            "top": null,
            "visibility": null,
            "width": null
          }
        },
        "6d6ab38fe2b54e5e80248d2d5437c8a8": {
          "model_module": "@jupyter-widgets/controls",
          "model_name": "DescriptionStyleModel",
          "model_module_version": "1.5.0",
          "state": {
            "_model_module": "@jupyter-widgets/controls",
            "_model_module_version": "1.5.0",
            "_model_name": "DescriptionStyleModel",
            "_view_count": null,
            "_view_module": "@jupyter-widgets/base",
            "_view_module_version": "1.2.0",
            "_view_name": "StyleView",
            "description_width": ""
          }
        },
        "0524a27eea7f486db909e90dd0167860": {
          "model_module": "@jupyter-widgets/controls",
          "model_name": "HBoxModel",
          "model_module_version": "1.5.0",
          "state": {
            "_dom_classes": [],
            "_model_module": "@jupyter-widgets/controls",
            "_model_module_version": "1.5.0",
            "_model_name": "HBoxModel",
            "_view_count": null,
            "_view_module": "@jupyter-widgets/controls",
            "_view_module_version": "1.5.0",
            "_view_name": "HBoxView",
            "box_style": "",
            "children": [
              "IPY_MODEL_69637a1736d44ba0b291a3d94b11c645",
              "IPY_MODEL_a5ebd0c854264df5be641b1e05a67fa3",
              "IPY_MODEL_a4608aa0111d4a889c9e2140c0700574"
            ],
            "layout": "IPY_MODEL_5e73ec9a02a14502b2ed096b8342ce15"
          }
        },
        "69637a1736d44ba0b291a3d94b11c645": {
          "model_module": "@jupyter-widgets/controls",
          "model_name": "HTMLModel",
          "model_module_version": "1.5.0",
          "state": {
            "_dom_classes": [],
            "_model_module": "@jupyter-widgets/controls",
            "_model_module_version": "1.5.0",
            "_model_name": "HTMLModel",
            "_view_count": null,
            "_view_module": "@jupyter-widgets/controls",
            "_view_module_version": "1.5.0",
            "_view_name": "HTMLView",
            "description": "",
            "description_tooltip": null,
            "layout": "IPY_MODEL_4c31ffc65a624d4884f968801202fb52",
            "placeholder": "​",
            "style": "IPY_MODEL_d2c5afac94e8424c90d9ffaae01ef462",
            "value": "100%"
          }
        },
        "a5ebd0c854264df5be641b1e05a67fa3": {
          "model_module": "@jupyter-widgets/controls",
          "model_name": "FloatProgressModel",
          "model_module_version": "1.5.0",
          "state": {
            "_dom_classes": [],
            "_model_module": "@jupyter-widgets/controls",
            "_model_module_version": "1.5.0",
            "_model_name": "FloatProgressModel",
            "_view_count": null,
            "_view_module": "@jupyter-widgets/controls",
            "_view_module_version": "1.5.0",
            "_view_name": "ProgressView",
            "bar_style": "success",
            "description": "",
            "description_tooltip": null,
            "layout": "IPY_MODEL_29b9c2e31a43406d9c3efedaa261b24d",
            "max": 100,
            "min": 0,
            "orientation": "horizontal",
            "style": "IPY_MODEL_c08686842dbe45a5a7ed0aaae87b0767",
            "value": 100
          }
        },
        "a4608aa0111d4a889c9e2140c0700574": {
          "model_module": "@jupyter-widgets/controls",
          "model_name": "HTMLModel",
          "model_module_version": "1.5.0",
          "state": {
            "_dom_classes": [],
            "_model_module": "@jupyter-widgets/controls",
            "_model_module_version": "1.5.0",
            "_model_name": "HTMLModel",
            "_view_count": null,
            "_view_module": "@jupyter-widgets/controls",
            "_view_module_version": "1.5.0",
            "_view_name": "HTMLView",
            "description": "",
            "description_tooltip": null,
            "layout": "IPY_MODEL_2dd2d98e88814301bfba2a1e8808e986",
            "placeholder": "​",
            "style": "IPY_MODEL_a0c746c9712b4a4abf0850f9f6fef06a",
            "value": " 100/100 [01:07&lt;00:00,  1.35it/s]"
          }
        },
        "5e73ec9a02a14502b2ed096b8342ce15": {
          "model_module": "@jupyter-widgets/base",
          "model_name": "LayoutModel",
          "model_module_version": "1.2.0",
          "state": {
            "_model_module": "@jupyter-widgets/base",
            "_model_module_version": "1.2.0",
            "_model_name": "LayoutModel",
            "_view_count": null,
            "_view_module": "@jupyter-widgets/base",
            "_view_module_version": "1.2.0",
            "_view_name": "LayoutView",
            "align_content": null,
            "align_items": null,
            "align_self": null,
            "border": null,
            "bottom": null,
            "display": null,
            "flex": null,
            "flex_flow": null,
            "grid_area": null,
            "grid_auto_columns": null,
            "grid_auto_flow": null,
            "grid_auto_rows": null,
            "grid_column": null,
            "grid_gap": null,
            "grid_row": null,
            "grid_template_areas": null,
            "grid_template_columns": null,
            "grid_template_rows": null,
            "height": null,
            "justify_content": null,
            "justify_items": null,
            "left": null,
            "margin": null,
            "max_height": null,
            "max_width": null,
            "min_height": null,
            "min_width": null,
            "object_fit": null,
            "object_position": null,
            "order": null,
            "overflow": null,
            "overflow_x": null,
            "overflow_y": null,
            "padding": null,
            "right": null,
            "top": null,
            "visibility": null,
            "width": null
          }
        },
        "4c31ffc65a624d4884f968801202fb52": {
          "model_module": "@jupyter-widgets/base",
          "model_name": "LayoutModel",
          "model_module_version": "1.2.0",
          "state": {
            "_model_module": "@jupyter-widgets/base",
            "_model_module_version": "1.2.0",
            "_model_name": "LayoutModel",
            "_view_count": null,
            "_view_module": "@jupyter-widgets/base",
            "_view_module_version": "1.2.0",
            "_view_name": "LayoutView",
            "align_content": null,
            "align_items": null,
            "align_self": null,
            "border": null,
            "bottom": null,
            "display": null,
            "flex": null,
            "flex_flow": null,
            "grid_area": null,
            "grid_auto_columns": null,
            "grid_auto_flow": null,
            "grid_auto_rows": null,
            "grid_column": null,
            "grid_gap": null,
            "grid_row": null,
            "grid_template_areas": null,
            "grid_template_columns": null,
            "grid_template_rows": null,
            "height": null,
            "justify_content": null,
            "justify_items": null,
            "left": null,
            "margin": null,
            "max_height": null,
            "max_width": null,
            "min_height": null,
            "min_width": null,
            "object_fit": null,
            "object_position": null,
            "order": null,
            "overflow": null,
            "overflow_x": null,
            "overflow_y": null,
            "padding": null,
            "right": null,
            "top": null,
            "visibility": null,
            "width": null
          }
        },
        "d2c5afac94e8424c90d9ffaae01ef462": {
          "model_module": "@jupyter-widgets/controls",
          "model_name": "DescriptionStyleModel",
          "model_module_version": "1.5.0",
          "state": {
            "_model_module": "@jupyter-widgets/controls",
            "_model_module_version": "1.5.0",
            "_model_name": "DescriptionStyleModel",
            "_view_count": null,
            "_view_module": "@jupyter-widgets/base",
            "_view_module_version": "1.2.0",
            "_view_name": "StyleView",
            "description_width": ""
          }
        },
        "29b9c2e31a43406d9c3efedaa261b24d": {
          "model_module": "@jupyter-widgets/base",
          "model_name": "LayoutModel",
          "model_module_version": "1.2.0",
          "state": {
            "_model_module": "@jupyter-widgets/base",
            "_model_module_version": "1.2.0",
            "_model_name": "LayoutModel",
            "_view_count": null,
            "_view_module": "@jupyter-widgets/base",
            "_view_module_version": "1.2.0",
            "_view_name": "LayoutView",
            "align_content": null,
            "align_items": null,
            "align_self": null,
            "border": null,
            "bottom": null,
            "display": null,
            "flex": null,
            "flex_flow": null,
            "grid_area": null,
            "grid_auto_columns": null,
            "grid_auto_flow": null,
            "grid_auto_rows": null,
            "grid_column": null,
            "grid_gap": null,
            "grid_row": null,
            "grid_template_areas": null,
            "grid_template_columns": null,
            "grid_template_rows": null,
            "height": null,
            "justify_content": null,
            "justify_items": null,
            "left": null,
            "margin": null,
            "max_height": null,
            "max_width": null,
            "min_height": null,
            "min_width": null,
            "object_fit": null,
            "object_position": null,
            "order": null,
            "overflow": null,
            "overflow_x": null,
            "overflow_y": null,
            "padding": null,
            "right": null,
            "top": null,
            "visibility": null,
            "width": null
          }
        },
        "c08686842dbe45a5a7ed0aaae87b0767": {
          "model_module": "@jupyter-widgets/controls",
          "model_name": "ProgressStyleModel",
          "model_module_version": "1.5.0",
          "state": {
            "_model_module": "@jupyter-widgets/controls",
            "_model_module_version": "1.5.0",
            "_model_name": "ProgressStyleModel",
            "_view_count": null,
            "_view_module": "@jupyter-widgets/base",
            "_view_module_version": "1.2.0",
            "_view_name": "StyleView",
            "bar_color": null,
            "description_width": ""
          }
        },
        "2dd2d98e88814301bfba2a1e8808e986": {
          "model_module": "@jupyter-widgets/base",
          "model_name": "LayoutModel",
          "model_module_version": "1.2.0",
          "state": {
            "_model_module": "@jupyter-widgets/base",
            "_model_module_version": "1.2.0",
            "_model_name": "LayoutModel",
            "_view_count": null,
            "_view_module": "@jupyter-widgets/base",
            "_view_module_version": "1.2.0",
            "_view_name": "LayoutView",
            "align_content": null,
            "align_items": null,
            "align_self": null,
            "border": null,
            "bottom": null,
            "display": null,
            "flex": null,
            "flex_flow": null,
            "grid_area": null,
            "grid_auto_columns": null,
            "grid_auto_flow": null,
            "grid_auto_rows": null,
            "grid_column": null,
            "grid_gap": null,
            "grid_row": null,
            "grid_template_areas": null,
            "grid_template_columns": null,
            "grid_template_rows": null,
            "height": null,
            "justify_content": null,
            "justify_items": null,
            "left": null,
            "margin": null,
            "max_height": null,
            "max_width": null,
            "min_height": null,
            "min_width": null,
            "object_fit": null,
            "object_position": null,
            "order": null,
            "overflow": null,
            "overflow_x": null,
            "overflow_y": null,
            "padding": null,
            "right": null,
            "top": null,
            "visibility": null,
            "width": null
          }
        },
        "a0c746c9712b4a4abf0850f9f6fef06a": {
          "model_module": "@jupyter-widgets/controls",
          "model_name": "DescriptionStyleModel",
          "model_module_version": "1.5.0",
          "state": {
            "_model_module": "@jupyter-widgets/controls",
            "_model_module_version": "1.5.0",
            "_model_name": "DescriptionStyleModel",
            "_view_count": null,
            "_view_module": "@jupyter-widgets/base",
            "_view_module_version": "1.2.0",
            "_view_name": "StyleView",
            "description_width": ""
          }
        },
        "b7fc14a605594319845e64f92afb4511": {
          "model_module": "@jupyter-widgets/controls",
          "model_name": "HBoxModel",
          "model_module_version": "1.5.0",
          "state": {
            "_dom_classes": [],
            "_model_module": "@jupyter-widgets/controls",
            "_model_module_version": "1.5.0",
            "_model_name": "HBoxModel",
            "_view_count": null,
            "_view_module": "@jupyter-widgets/controls",
            "_view_module_version": "1.5.0",
            "_view_name": "HBoxView",
            "box_style": "",
            "children": [
              "IPY_MODEL_313ef269aa3d4115bb339701e29c1120",
              "IPY_MODEL_a0dc13d0b6d846ed9eb5a956c957ce25",
              "IPY_MODEL_2e46e0a974c54b7d97249b1aa79b2951"
            ],
            "layout": "IPY_MODEL_014b4705c0f2473da069812b4485acd4"
          }
        },
        "313ef269aa3d4115bb339701e29c1120": {
          "model_module": "@jupyter-widgets/controls",
          "model_name": "HTMLModel",
          "model_module_version": "1.5.0",
          "state": {
            "_dom_classes": [],
            "_model_module": "@jupyter-widgets/controls",
            "_model_module_version": "1.5.0",
            "_model_name": "HTMLModel",
            "_view_count": null,
            "_view_module": "@jupyter-widgets/controls",
            "_view_module_version": "1.5.0",
            "_view_name": "HTMLView",
            "description": "",
            "description_tooltip": null,
            "layout": "IPY_MODEL_86888c1cb73a4a7b83a1502035602c63",
            "placeholder": "​",
            "style": "IPY_MODEL_3edafb7911844157b94e0cda2969e351",
            "value": "100%"
          }
        },
        "a0dc13d0b6d846ed9eb5a956c957ce25": {
          "model_module": "@jupyter-widgets/controls",
          "model_name": "FloatProgressModel",
          "model_module_version": "1.5.0",
          "state": {
            "_dom_classes": [],
            "_model_module": "@jupyter-widgets/controls",
            "_model_module_version": "1.5.0",
            "_model_name": "FloatProgressModel",
            "_view_count": null,
            "_view_module": "@jupyter-widgets/controls",
            "_view_module_version": "1.5.0",
            "_view_name": "ProgressView",
            "bar_style": "success",
            "description": "",
            "description_tooltip": null,
            "layout": "IPY_MODEL_08cba7a44c5f4632beffe4efb4db2b67",
            "max": 100,
            "min": 0,
            "orientation": "horizontal",
            "style": "IPY_MODEL_6e7d28ac831643c1a8167d4e88010b6f",
            "value": 100
          }
        },
        "2e46e0a974c54b7d97249b1aa79b2951": {
          "model_module": "@jupyter-widgets/controls",
          "model_name": "HTMLModel",
          "model_module_version": "1.5.0",
          "state": {
            "_dom_classes": [],
            "_model_module": "@jupyter-widgets/controls",
            "_model_module_version": "1.5.0",
            "_model_name": "HTMLModel",
            "_view_count": null,
            "_view_module": "@jupyter-widgets/controls",
            "_view_module_version": "1.5.0",
            "_view_name": "HTMLView",
            "description": "",
            "description_tooltip": null,
            "layout": "IPY_MODEL_ee53028710af4bab86354295062a61f7",
            "placeholder": "​",
            "style": "IPY_MODEL_3d3ba1a873c043bd8a7f265d593916a8",
            "value": " 100/100 [01:06&lt;00:00,  1.25it/s]"
          }
        },
        "014b4705c0f2473da069812b4485acd4": {
          "model_module": "@jupyter-widgets/base",
          "model_name": "LayoutModel",
          "model_module_version": "1.2.0",
          "state": {
            "_model_module": "@jupyter-widgets/base",
            "_model_module_version": "1.2.0",
            "_model_name": "LayoutModel",
            "_view_count": null,
            "_view_module": "@jupyter-widgets/base",
            "_view_module_version": "1.2.0",
            "_view_name": "LayoutView",
            "align_content": null,
            "align_items": null,
            "align_self": null,
            "border": null,
            "bottom": null,
            "display": null,
            "flex": null,
            "flex_flow": null,
            "grid_area": null,
            "grid_auto_columns": null,
            "grid_auto_flow": null,
            "grid_auto_rows": null,
            "grid_column": null,
            "grid_gap": null,
            "grid_row": null,
            "grid_template_areas": null,
            "grid_template_columns": null,
            "grid_template_rows": null,
            "height": null,
            "justify_content": null,
            "justify_items": null,
            "left": null,
            "margin": null,
            "max_height": null,
            "max_width": null,
            "min_height": null,
            "min_width": null,
            "object_fit": null,
            "object_position": null,
            "order": null,
            "overflow": null,
            "overflow_x": null,
            "overflow_y": null,
            "padding": null,
            "right": null,
            "top": null,
            "visibility": null,
            "width": null
          }
        },
        "86888c1cb73a4a7b83a1502035602c63": {
          "model_module": "@jupyter-widgets/base",
          "model_name": "LayoutModel",
          "model_module_version": "1.2.0",
          "state": {
            "_model_module": "@jupyter-widgets/base",
            "_model_module_version": "1.2.0",
            "_model_name": "LayoutModel",
            "_view_count": null,
            "_view_module": "@jupyter-widgets/base",
            "_view_module_version": "1.2.0",
            "_view_name": "LayoutView",
            "align_content": null,
            "align_items": null,
            "align_self": null,
            "border": null,
            "bottom": null,
            "display": null,
            "flex": null,
            "flex_flow": null,
            "grid_area": null,
            "grid_auto_columns": null,
            "grid_auto_flow": null,
            "grid_auto_rows": null,
            "grid_column": null,
            "grid_gap": null,
            "grid_row": null,
            "grid_template_areas": null,
            "grid_template_columns": null,
            "grid_template_rows": null,
            "height": null,
            "justify_content": null,
            "justify_items": null,
            "left": null,
            "margin": null,
            "max_height": null,
            "max_width": null,
            "min_height": null,
            "min_width": null,
            "object_fit": null,
            "object_position": null,
            "order": null,
            "overflow": null,
            "overflow_x": null,
            "overflow_y": null,
            "padding": null,
            "right": null,
            "top": null,
            "visibility": null,
            "width": null
          }
        },
        "3edafb7911844157b94e0cda2969e351": {
          "model_module": "@jupyter-widgets/controls",
          "model_name": "DescriptionStyleModel",
          "model_module_version": "1.5.0",
          "state": {
            "_model_module": "@jupyter-widgets/controls",
            "_model_module_version": "1.5.0",
            "_model_name": "DescriptionStyleModel",
            "_view_count": null,
            "_view_module": "@jupyter-widgets/base",
            "_view_module_version": "1.2.0",
            "_view_name": "StyleView",
            "description_width": ""
          }
        },
        "08cba7a44c5f4632beffe4efb4db2b67": {
          "model_module": "@jupyter-widgets/base",
          "model_name": "LayoutModel",
          "model_module_version": "1.2.0",
          "state": {
            "_model_module": "@jupyter-widgets/base",
            "_model_module_version": "1.2.0",
            "_model_name": "LayoutModel",
            "_view_count": null,
            "_view_module": "@jupyter-widgets/base",
            "_view_module_version": "1.2.0",
            "_view_name": "LayoutView",
            "align_content": null,
            "align_items": null,
            "align_self": null,
            "border": null,
            "bottom": null,
            "display": null,
            "flex": null,
            "flex_flow": null,
            "grid_area": null,
            "grid_auto_columns": null,
            "grid_auto_flow": null,
            "grid_auto_rows": null,
            "grid_column": null,
            "grid_gap": null,
            "grid_row": null,
            "grid_template_areas": null,
            "grid_template_columns": null,
            "grid_template_rows": null,
            "height": null,
            "justify_content": null,
            "justify_items": null,
            "left": null,
            "margin": null,
            "max_height": null,
            "max_width": null,
            "min_height": null,
            "min_width": null,
            "object_fit": null,
            "object_position": null,
            "order": null,
            "overflow": null,
            "overflow_x": null,
            "overflow_y": null,
            "padding": null,
            "right": null,
            "top": null,
            "visibility": null,
            "width": null
          }
        },
        "6e7d28ac831643c1a8167d4e88010b6f": {
          "model_module": "@jupyter-widgets/controls",
          "model_name": "ProgressStyleModel",
          "model_module_version": "1.5.0",
          "state": {
            "_model_module": "@jupyter-widgets/controls",
            "_model_module_version": "1.5.0",
            "_model_name": "ProgressStyleModel",
            "_view_count": null,
            "_view_module": "@jupyter-widgets/base",
            "_view_module_version": "1.2.0",
            "_view_name": "StyleView",
            "bar_color": null,
            "description_width": ""
          }
        },
        "ee53028710af4bab86354295062a61f7": {
          "model_module": "@jupyter-widgets/base",
          "model_name": "LayoutModel",
          "model_module_version": "1.2.0",
          "state": {
            "_model_module": "@jupyter-widgets/base",
            "_model_module_version": "1.2.0",
            "_model_name": "LayoutModel",
            "_view_count": null,
            "_view_module": "@jupyter-widgets/base",
            "_view_module_version": "1.2.0",
            "_view_name": "LayoutView",
            "align_content": null,
            "align_items": null,
            "align_self": null,
            "border": null,
            "bottom": null,
            "display": null,
            "flex": null,
            "flex_flow": null,
            "grid_area": null,
            "grid_auto_columns": null,
            "grid_auto_flow": null,
            "grid_auto_rows": null,
            "grid_column": null,
            "grid_gap": null,
            "grid_row": null,
            "grid_template_areas": null,
            "grid_template_columns": null,
            "grid_template_rows": null,
            "height": null,
            "justify_content": null,
            "justify_items": null,
            "left": null,
            "margin": null,
            "max_height": null,
            "max_width": null,
            "min_height": null,
            "min_width": null,
            "object_fit": null,
            "object_position": null,
            "order": null,
            "overflow": null,
            "overflow_x": null,
            "overflow_y": null,
            "padding": null,
            "right": null,
            "top": null,
            "visibility": null,
            "width": null
          }
        },
        "3d3ba1a873c043bd8a7f265d593916a8": {
          "model_module": "@jupyter-widgets/controls",
          "model_name": "DescriptionStyleModel",
          "model_module_version": "1.5.0",
          "state": {
            "_model_module": "@jupyter-widgets/controls",
            "_model_module_version": "1.5.0",
            "_model_name": "DescriptionStyleModel",
            "_view_count": null,
            "_view_module": "@jupyter-widgets/base",
            "_view_module_version": "1.2.0",
            "_view_name": "StyleView",
            "description_width": ""
          }
        },
        "7babb29194ab4f178d283e008555d46a": {
          "model_module": "@jupyter-widgets/controls",
          "model_name": "HBoxModel",
          "model_module_version": "1.5.0",
          "state": {
            "_dom_classes": [],
            "_model_module": "@jupyter-widgets/controls",
            "_model_module_version": "1.5.0",
            "_model_name": "HBoxModel",
            "_view_count": null,
            "_view_module": "@jupyter-widgets/controls",
            "_view_module_version": "1.5.0",
            "_view_name": "HBoxView",
            "box_style": "",
            "children": [
              "IPY_MODEL_7e6190998e9e437eaeccf322c17f47c6",
              "IPY_MODEL_4fe418e6bba04867b4abe75a55dc700a",
              "IPY_MODEL_ca7a71ab867b450f8572edf6c98a374a"
            ],
            "layout": "IPY_MODEL_a0dc73d0c03041429a11a78646d727d0"
          }
        },
        "7e6190998e9e437eaeccf322c17f47c6": {
          "model_module": "@jupyter-widgets/controls",
          "model_name": "HTMLModel",
          "model_module_version": "1.5.0",
          "state": {
            "_dom_classes": [],
            "_model_module": "@jupyter-widgets/controls",
            "_model_module_version": "1.5.0",
            "_model_name": "HTMLModel",
            "_view_count": null,
            "_view_module": "@jupyter-widgets/controls",
            "_view_module_version": "1.5.0",
            "_view_name": "HTMLView",
            "description": "",
            "description_tooltip": null,
            "layout": "IPY_MODEL_cb0db395be07494c9537f05307f965a9",
            "placeholder": "​",
            "style": "IPY_MODEL_bde87597e1eb45e08cc135864ff0979b",
            "value": "100%"
          }
        },
        "4fe418e6bba04867b4abe75a55dc700a": {
          "model_module": "@jupyter-widgets/controls",
          "model_name": "FloatProgressModel",
          "model_module_version": "1.5.0",
          "state": {
            "_dom_classes": [],
            "_model_module": "@jupyter-widgets/controls",
            "_model_module_version": "1.5.0",
            "_model_name": "FloatProgressModel",
            "_view_count": null,
            "_view_module": "@jupyter-widgets/controls",
            "_view_module_version": "1.5.0",
            "_view_name": "ProgressView",
            "bar_style": "success",
            "description": "",
            "description_tooltip": null,
            "layout": "IPY_MODEL_b8f02eb35f374fd685572293ec839db9",
            "max": 100,
            "min": 0,
            "orientation": "horizontal",
            "style": "IPY_MODEL_8c80db56c3054833be0c5c30b8e5d4b2",
            "value": 100
          }
        },
        "ca7a71ab867b450f8572edf6c98a374a": {
          "model_module": "@jupyter-widgets/controls",
          "model_name": "HTMLModel",
          "model_module_version": "1.5.0",
          "state": {
            "_dom_classes": [],
            "_model_module": "@jupyter-widgets/controls",
            "_model_module_version": "1.5.0",
            "_model_name": "HTMLModel",
            "_view_count": null,
            "_view_module": "@jupyter-widgets/controls",
            "_view_module_version": "1.5.0",
            "_view_name": "HTMLView",
            "description": "",
            "description_tooltip": null,
            "layout": "IPY_MODEL_b912da3b7eb84289806e7f12047bc90d",
            "placeholder": "​",
            "style": "IPY_MODEL_7a25a290b83a4ace8c6674cfc4b7ff5a",
            "value": " 100/100 [01:06&lt;00:00,  1.34it/s]"
          }
        },
        "a0dc73d0c03041429a11a78646d727d0": {
          "model_module": "@jupyter-widgets/base",
          "model_name": "LayoutModel",
          "model_module_version": "1.2.0",
          "state": {
            "_model_module": "@jupyter-widgets/base",
            "_model_module_version": "1.2.0",
            "_model_name": "LayoutModel",
            "_view_count": null,
            "_view_module": "@jupyter-widgets/base",
            "_view_module_version": "1.2.0",
            "_view_name": "LayoutView",
            "align_content": null,
            "align_items": null,
            "align_self": null,
            "border": null,
            "bottom": null,
            "display": null,
            "flex": null,
            "flex_flow": null,
            "grid_area": null,
            "grid_auto_columns": null,
            "grid_auto_flow": null,
            "grid_auto_rows": null,
            "grid_column": null,
            "grid_gap": null,
            "grid_row": null,
            "grid_template_areas": null,
            "grid_template_columns": null,
            "grid_template_rows": null,
            "height": null,
            "justify_content": null,
            "justify_items": null,
            "left": null,
            "margin": null,
            "max_height": null,
            "max_width": null,
            "min_height": null,
            "min_width": null,
            "object_fit": null,
            "object_position": null,
            "order": null,
            "overflow": null,
            "overflow_x": null,
            "overflow_y": null,
            "padding": null,
            "right": null,
            "top": null,
            "visibility": null,
            "width": null
          }
        },
        "cb0db395be07494c9537f05307f965a9": {
          "model_module": "@jupyter-widgets/base",
          "model_name": "LayoutModel",
          "model_module_version": "1.2.0",
          "state": {
            "_model_module": "@jupyter-widgets/base",
            "_model_module_version": "1.2.0",
            "_model_name": "LayoutModel",
            "_view_count": null,
            "_view_module": "@jupyter-widgets/base",
            "_view_module_version": "1.2.0",
            "_view_name": "LayoutView",
            "align_content": null,
            "align_items": null,
            "align_self": null,
            "border": null,
            "bottom": null,
            "display": null,
            "flex": null,
            "flex_flow": null,
            "grid_area": null,
            "grid_auto_columns": null,
            "grid_auto_flow": null,
            "grid_auto_rows": null,
            "grid_column": null,
            "grid_gap": null,
            "grid_row": null,
            "grid_template_areas": null,
            "grid_template_columns": null,
            "grid_template_rows": null,
            "height": null,
            "justify_content": null,
            "justify_items": null,
            "left": null,
            "margin": null,
            "max_height": null,
            "max_width": null,
            "min_height": null,
            "min_width": null,
            "object_fit": null,
            "object_position": null,
            "order": null,
            "overflow": null,
            "overflow_x": null,
            "overflow_y": null,
            "padding": null,
            "right": null,
            "top": null,
            "visibility": null,
            "width": null
          }
        },
        "bde87597e1eb45e08cc135864ff0979b": {
          "model_module": "@jupyter-widgets/controls",
          "model_name": "DescriptionStyleModel",
          "model_module_version": "1.5.0",
          "state": {
            "_model_module": "@jupyter-widgets/controls",
            "_model_module_version": "1.5.0",
            "_model_name": "DescriptionStyleModel",
            "_view_count": null,
            "_view_module": "@jupyter-widgets/base",
            "_view_module_version": "1.2.0",
            "_view_name": "StyleView",
            "description_width": ""
          }
        },
        "b8f02eb35f374fd685572293ec839db9": {
          "model_module": "@jupyter-widgets/base",
          "model_name": "LayoutModel",
          "model_module_version": "1.2.0",
          "state": {
            "_model_module": "@jupyter-widgets/base",
            "_model_module_version": "1.2.0",
            "_model_name": "LayoutModel",
            "_view_count": null,
            "_view_module": "@jupyter-widgets/base",
            "_view_module_version": "1.2.0",
            "_view_name": "LayoutView",
            "align_content": null,
            "align_items": null,
            "align_self": null,
            "border": null,
            "bottom": null,
            "display": null,
            "flex": null,
            "flex_flow": null,
            "grid_area": null,
            "grid_auto_columns": null,
            "grid_auto_flow": null,
            "grid_auto_rows": null,
            "grid_column": null,
            "grid_gap": null,
            "grid_row": null,
            "grid_template_areas": null,
            "grid_template_columns": null,
            "grid_template_rows": null,
            "height": null,
            "justify_content": null,
            "justify_items": null,
            "left": null,
            "margin": null,
            "max_height": null,
            "max_width": null,
            "min_height": null,
            "min_width": null,
            "object_fit": null,
            "object_position": null,
            "order": null,
            "overflow": null,
            "overflow_x": null,
            "overflow_y": null,
            "padding": null,
            "right": null,
            "top": null,
            "visibility": null,
            "width": null
          }
        },
        "8c80db56c3054833be0c5c30b8e5d4b2": {
          "model_module": "@jupyter-widgets/controls",
          "model_name": "ProgressStyleModel",
          "model_module_version": "1.5.0",
          "state": {
            "_model_module": "@jupyter-widgets/controls",
            "_model_module_version": "1.5.0",
            "_model_name": "ProgressStyleModel",
            "_view_count": null,
            "_view_module": "@jupyter-widgets/base",
            "_view_module_version": "1.2.0",
            "_view_name": "StyleView",
            "bar_color": null,
            "description_width": ""
          }
        },
        "b912da3b7eb84289806e7f12047bc90d": {
          "model_module": "@jupyter-widgets/base",
          "model_name": "LayoutModel",
          "model_module_version": "1.2.0",
          "state": {
            "_model_module": "@jupyter-widgets/base",
            "_model_module_version": "1.2.0",
            "_model_name": "LayoutModel",
            "_view_count": null,
            "_view_module": "@jupyter-widgets/base",
            "_view_module_version": "1.2.0",
            "_view_name": "LayoutView",
            "align_content": null,
            "align_items": null,
            "align_self": null,
            "border": null,
            "bottom": null,
            "display": null,
            "flex": null,
            "flex_flow": null,
            "grid_area": null,
            "grid_auto_columns": null,
            "grid_auto_flow": null,
            "grid_auto_rows": null,
            "grid_column": null,
            "grid_gap": null,
            "grid_row": null,
            "grid_template_areas": null,
            "grid_template_columns": null,
            "grid_template_rows": null,
            "height": null,
            "justify_content": null,
            "justify_items": null,
            "left": null,
            "margin": null,
            "max_height": null,
            "max_width": null,
            "min_height": null,
            "min_width": null,
            "object_fit": null,
            "object_position": null,
            "order": null,
            "overflow": null,
            "overflow_x": null,
            "overflow_y": null,
            "padding": null,
            "right": null,
            "top": null,
            "visibility": null,
            "width": null
          }
        },
        "7a25a290b83a4ace8c6674cfc4b7ff5a": {
          "model_module": "@jupyter-widgets/controls",
          "model_name": "DescriptionStyleModel",
          "model_module_version": "1.5.0",
          "state": {
            "_model_module": "@jupyter-widgets/controls",
            "_model_module_version": "1.5.0",
            "_model_name": "DescriptionStyleModel",
            "_view_count": null,
            "_view_module": "@jupyter-widgets/base",
            "_view_module_version": "1.2.0",
            "_view_name": "StyleView",
            "description_width": ""
          }
        },
        "b3da3381da5d4e1f9faa9576c225a4f8": {
          "model_module": "@jupyter-widgets/controls",
          "model_name": "HBoxModel",
          "model_module_version": "1.5.0",
          "state": {
            "_dom_classes": [],
            "_model_module": "@jupyter-widgets/controls",
            "_model_module_version": "1.5.0",
            "_model_name": "HBoxModel",
            "_view_count": null,
            "_view_module": "@jupyter-widgets/controls",
            "_view_module_version": "1.5.0",
            "_view_name": "HBoxView",
            "box_style": "",
            "children": [
              "IPY_MODEL_b282fcc6b47d4c7481150efc6a763364",
              "IPY_MODEL_090ce6fbf1b5447ea2c415ee6135531a",
              "IPY_MODEL_5215be79812d4c0aa293b37e50fc11ba"
            ],
            "layout": "IPY_MODEL_d6c6a2b1537f4d31b1d08994453fa561"
          }
        },
        "b282fcc6b47d4c7481150efc6a763364": {
          "model_module": "@jupyter-widgets/controls",
          "model_name": "HTMLModel",
          "model_module_version": "1.5.0",
          "state": {
            "_dom_classes": [],
            "_model_module": "@jupyter-widgets/controls",
            "_model_module_version": "1.5.0",
            "_model_name": "HTMLModel",
            "_view_count": null,
            "_view_module": "@jupyter-widgets/controls",
            "_view_module_version": "1.5.0",
            "_view_name": "HTMLView",
            "description": "",
            "description_tooltip": null,
            "layout": "IPY_MODEL_935c0062da6e4186ae60b43d7aea1449",
            "placeholder": "​",
            "style": "IPY_MODEL_122ebed8e34a4f69bbec7284d9360650",
            "value": "100%"
          }
        },
        "090ce6fbf1b5447ea2c415ee6135531a": {
          "model_module": "@jupyter-widgets/controls",
          "model_name": "FloatProgressModel",
          "model_module_version": "1.5.0",
          "state": {
            "_dom_classes": [],
            "_model_module": "@jupyter-widgets/controls",
            "_model_module_version": "1.5.0",
            "_model_name": "FloatProgressModel",
            "_view_count": null,
            "_view_module": "@jupyter-widgets/controls",
            "_view_module_version": "1.5.0",
            "_view_name": "ProgressView",
            "bar_style": "success",
            "description": "",
            "description_tooltip": null,
            "layout": "IPY_MODEL_5acda5ce8de24c0a992ec39c1abb60d0",
            "max": 100,
            "min": 0,
            "orientation": "horizontal",
            "style": "IPY_MODEL_8f030e4951b44602b8a15f662007b049",
            "value": 100
          }
        },
        "5215be79812d4c0aa293b37e50fc11ba": {
          "model_module": "@jupyter-widgets/controls",
          "model_name": "HTMLModel",
          "model_module_version": "1.5.0",
          "state": {
            "_dom_classes": [],
            "_model_module": "@jupyter-widgets/controls",
            "_model_module_version": "1.5.0",
            "_model_name": "HTMLModel",
            "_view_count": null,
            "_view_module": "@jupyter-widgets/controls",
            "_view_module_version": "1.5.0",
            "_view_name": "HTMLView",
            "description": "",
            "description_tooltip": null,
            "layout": "IPY_MODEL_8430c1e4c3084750af90b0a74916cac0",
            "placeholder": "​",
            "style": "IPY_MODEL_995cd2609fa84d37be3745559a002b7d",
            "value": " 100/100 [00:00&lt;00:00, 2513.82it/s]"
          }
        },
        "d6c6a2b1537f4d31b1d08994453fa561": {
          "model_module": "@jupyter-widgets/base",
          "model_name": "LayoutModel",
          "model_module_version": "1.2.0",
          "state": {
            "_model_module": "@jupyter-widgets/base",
            "_model_module_version": "1.2.0",
            "_model_name": "LayoutModel",
            "_view_count": null,
            "_view_module": "@jupyter-widgets/base",
            "_view_module_version": "1.2.0",
            "_view_name": "LayoutView",
            "align_content": null,
            "align_items": null,
            "align_self": null,
            "border": null,
            "bottom": null,
            "display": null,
            "flex": null,
            "flex_flow": null,
            "grid_area": null,
            "grid_auto_columns": null,
            "grid_auto_flow": null,
            "grid_auto_rows": null,
            "grid_column": null,
            "grid_gap": null,
            "grid_row": null,
            "grid_template_areas": null,
            "grid_template_columns": null,
            "grid_template_rows": null,
            "height": null,
            "justify_content": null,
            "justify_items": null,
            "left": null,
            "margin": null,
            "max_height": null,
            "max_width": null,
            "min_height": null,
            "min_width": null,
            "object_fit": null,
            "object_position": null,
            "order": null,
            "overflow": null,
            "overflow_x": null,
            "overflow_y": null,
            "padding": null,
            "right": null,
            "top": null,
            "visibility": null,
            "width": null
          }
        },
        "935c0062da6e4186ae60b43d7aea1449": {
          "model_module": "@jupyter-widgets/base",
          "model_name": "LayoutModel",
          "model_module_version": "1.2.0",
          "state": {
            "_model_module": "@jupyter-widgets/base",
            "_model_module_version": "1.2.0",
            "_model_name": "LayoutModel",
            "_view_count": null,
            "_view_module": "@jupyter-widgets/base",
            "_view_module_version": "1.2.0",
            "_view_name": "LayoutView",
            "align_content": null,
            "align_items": null,
            "align_self": null,
            "border": null,
            "bottom": null,
            "display": null,
            "flex": null,
            "flex_flow": null,
            "grid_area": null,
            "grid_auto_columns": null,
            "grid_auto_flow": null,
            "grid_auto_rows": null,
            "grid_column": null,
            "grid_gap": null,
            "grid_row": null,
            "grid_template_areas": null,
            "grid_template_columns": null,
            "grid_template_rows": null,
            "height": null,
            "justify_content": null,
            "justify_items": null,
            "left": null,
            "margin": null,
            "max_height": null,
            "max_width": null,
            "min_height": null,
            "min_width": null,
            "object_fit": null,
            "object_position": null,
            "order": null,
            "overflow": null,
            "overflow_x": null,
            "overflow_y": null,
            "padding": null,
            "right": null,
            "top": null,
            "visibility": null,
            "width": null
          }
        },
        "122ebed8e34a4f69bbec7284d9360650": {
          "model_module": "@jupyter-widgets/controls",
          "model_name": "DescriptionStyleModel",
          "model_module_version": "1.5.0",
          "state": {
            "_model_module": "@jupyter-widgets/controls",
            "_model_module_version": "1.5.0",
            "_model_name": "DescriptionStyleModel",
            "_view_count": null,
            "_view_module": "@jupyter-widgets/base",
            "_view_module_version": "1.2.0",
            "_view_name": "StyleView",
            "description_width": ""
          }
        },
        "5acda5ce8de24c0a992ec39c1abb60d0": {
          "model_module": "@jupyter-widgets/base",
          "model_name": "LayoutModel",
          "model_module_version": "1.2.0",
          "state": {
            "_model_module": "@jupyter-widgets/base",
            "_model_module_version": "1.2.0",
            "_model_name": "LayoutModel",
            "_view_count": null,
            "_view_module": "@jupyter-widgets/base",
            "_view_module_version": "1.2.0",
            "_view_name": "LayoutView",
            "align_content": null,
            "align_items": null,
            "align_self": null,
            "border": null,
            "bottom": null,
            "display": null,
            "flex": null,
            "flex_flow": null,
            "grid_area": null,
            "grid_auto_columns": null,
            "grid_auto_flow": null,
            "grid_auto_rows": null,
            "grid_column": null,
            "grid_gap": null,
            "grid_row": null,
            "grid_template_areas": null,
            "grid_template_columns": null,
            "grid_template_rows": null,
            "height": null,
            "justify_content": null,
            "justify_items": null,
            "left": null,
            "margin": null,
            "max_height": null,
            "max_width": null,
            "min_height": null,
            "min_width": null,
            "object_fit": null,
            "object_position": null,
            "order": null,
            "overflow": null,
            "overflow_x": null,
            "overflow_y": null,
            "padding": null,
            "right": null,
            "top": null,
            "visibility": null,
            "width": null
          }
        },
        "8f030e4951b44602b8a15f662007b049": {
          "model_module": "@jupyter-widgets/controls",
          "model_name": "ProgressStyleModel",
          "model_module_version": "1.5.0",
          "state": {
            "_model_module": "@jupyter-widgets/controls",
            "_model_module_version": "1.5.0",
            "_model_name": "ProgressStyleModel",
            "_view_count": null,
            "_view_module": "@jupyter-widgets/base",
            "_view_module_version": "1.2.0",
            "_view_name": "StyleView",
            "bar_color": null,
            "description_width": ""
          }
        },
        "8430c1e4c3084750af90b0a74916cac0": {
          "model_module": "@jupyter-widgets/base",
          "model_name": "LayoutModel",
          "model_module_version": "1.2.0",
          "state": {
            "_model_module": "@jupyter-widgets/base",
            "_model_module_version": "1.2.0",
            "_model_name": "LayoutModel",
            "_view_count": null,
            "_view_module": "@jupyter-widgets/base",
            "_view_module_version": "1.2.0",
            "_view_name": "LayoutView",
            "align_content": null,
            "align_items": null,
            "align_self": null,
            "border": null,
            "bottom": null,
            "display": null,
            "flex": null,
            "flex_flow": null,
            "grid_area": null,
            "grid_auto_columns": null,
            "grid_auto_flow": null,
            "grid_auto_rows": null,
            "grid_column": null,
            "grid_gap": null,
            "grid_row": null,
            "grid_template_areas": null,
            "grid_template_columns": null,
            "grid_template_rows": null,
            "height": null,
            "justify_content": null,
            "justify_items": null,
            "left": null,
            "margin": null,
            "max_height": null,
            "max_width": null,
            "min_height": null,
            "min_width": null,
            "object_fit": null,
            "object_position": null,
            "order": null,
            "overflow": null,
            "overflow_x": null,
            "overflow_y": null,
            "padding": null,
            "right": null,
            "top": null,
            "visibility": null,
            "width": null
          }
        },
        "995cd2609fa84d37be3745559a002b7d": {
          "model_module": "@jupyter-widgets/controls",
          "model_name": "DescriptionStyleModel",
          "model_module_version": "1.5.0",
          "state": {
            "_model_module": "@jupyter-widgets/controls",
            "_model_module_version": "1.5.0",
            "_model_name": "DescriptionStyleModel",
            "_view_count": null,
            "_view_module": "@jupyter-widgets/base",
            "_view_module_version": "1.2.0",
            "_view_name": "StyleView",
            "description_width": ""
          }
        }
      }
    }
  },
  "nbformat_minor": 5,
  "nbformat": 4,
  "cells": [
    {
      "cell_type": "markdown",
      "metadata": {
        "id": "view-in-github",
        "colab_type": "text"
      },
      "source": [
        "<a href=\"https://colab.research.google.com/github/hammaad2002/PerturbationAnalysis/blob/main/Stage_1_(Data_Generation).ipynb\" target=\"_parent\"><img src=\"https://colab.research.google.com/assets/colab-badge.svg\" alt=\"Open In Colab\"/></a>"
      ]
    },
    {
      "cell_type": "markdown",
      "source": [
        "**Disclaimer:**"
      ],
      "metadata": {
        "id": "JFYLOky91dst"
      },
      "id": "JFYLOky91dst"
    },
    {
      "cell_type": "markdown",
      "source": [
        "This notebook is for data generation purpose only. Long story short, this notebook performs attacks and stores all the metadata/information such as clean transcription, ground truth, perturbed transcription ,WER etc. in a google sheet [automatically, no need to manually copy and paste stuff now :) ]. And in the end it will also store the generated perturbed audios in google drive so that those audios can be accessed for further perturbation analysis and defense testing purpose also.\n",
        "\n",
        "Following is the pipeline describing how the data flows."
      ],
      "metadata": {
        "id": "ZqDwqopa0hTH"
      },
      "id": "ZqDwqopa0hTH"
    },
    {
      "cell_type": "markdown",
      "source": [
        "![Latest stage 1.png](data:image/png;base64,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)"
      ],
      "metadata": {
        "id": "3h3xYMbc0c9v"
      },
      "id": "3h3xYMbc0c9v"
    },
    {
      "cell_type": "code",
      "source": [
        "%%capture\n",
        "!pip install datasets==1.18.3\n",
        "!git clone https://github.com/hammaad2002/PerturbationAnalysis.git\n",
        "!git clone https://github.com/hammaad2002/ASRAdversarialAttacks.git\n",
        "!pip install gspread==5.9.0\n",
        "!pip install oauth2client\n",
        "!pip install gspread-formatting"
      ],
      "metadata": {
        "id": "ec924aba",
        "execution": {
          "iopub.status.busy": "2023-06-11T09:32:12.517336Z",
          "iopub.execute_input": "2023-06-11T09:32:12.517719Z",
          "iopub.status.idle": "2023-06-11T09:33:03.441449Z",
          "shell.execute_reply.started": "2023-06-11T09:32:12.517677Z",
          "shell.execute_reply": "2023-06-11T09:33:03.439641Z"
        },
        "trusted": true
      },
      "execution_count": null,
      "outputs": [],
      "id": "ec924aba"
    },
    {
      "cell_type": "code",
      "source": [
        "from typing import Tuple, List\n",
        "import random\n",
        "import h5py\n",
        "import io\n",
        "import torch\n",
        "import torchaudio\n",
        "import numpy as np\n",
        "import pandas as pd\n",
        "from tqdm.auto import tqdm\n",
        "from datasets import load_dataset\n",
        "from ASRAdversarialAttacks.AdversarialAttacks import ASRAttacks\n",
        "from PerturbationAnalysis.DataPipeline import DataTransform\n",
        "import gspread\n",
        "from google.oauth2.service_account import Credentials\n",
        "from gspread_formatting import *\n",
        "from googleapiclient.discovery import build\n",
        "from googleapiclient.errors import HttpError\n",
        "from googleapiclient.http import MediaFileUpload\n",
        "from googleapiclient.http import MediaIoBaseDownload\n",
        "import warnings\n",
        "\n",
        "warnings.filterwarnings(\"ignore\")"
      ],
      "metadata": {
        "id": "6Hf8uasT8MPo",
        "execution": {
          "iopub.status.busy": "2023-06-11T09:33:03.444120Z",
          "iopub.execute_input": "2023-06-11T09:33:03.444531Z",
          "iopub.status.idle": "2023-06-11T09:33:08.711699Z",
          "shell.execute_reply.started": "2023-06-11T09:33:03.444489Z",
          "shell.execute_reply": "2023-06-11T09:33:08.710749Z"
        },
        "trusted": true
      },
      "execution_count": null,
      "outputs": [],
      "id": "6Hf8uasT8MPo"
    },
    {
      "cell_type": "code",
      "source": [
        "# seeding to get same transcription\n",
        "np.random.seed(170)\n",
        "random.seed(170)\n",
        "torch.manual_seed(170)"
      ],
      "metadata": {
        "id": "9-C47hf58KvP",
        "outputId": "cf673dd4-1ec8-4919-e9dd-49c4625faf08",
        "colab": {
          "base_uri": "https://localhost:8080/"
        },
        "execution": {
          "iopub.status.busy": "2023-06-11T09:33:08.713367Z",
          "iopub.execute_input": "2023-06-11T09:33:08.714276Z",
          "iopub.status.idle": "2023-06-11T09:33:08.726000Z",
          "shell.execute_reply.started": "2023-06-11T09:33:08.714241Z",
          "shell.execute_reply": "2023-06-11T09:33:08.724967Z"
        },
        "trusted": true
      },
      "execution_count": null,
      "outputs": [
        {
          "execution_count": 3,
          "output_type": "execute_result",
          "data": {
            "text/plain": "<torch._C.Generator at 0x7ce365000290>"
          },
          "metadata": {}
        }
      ],
      "id": "9-C47hf58KvP"
    },
    {
      "cell_type": "code",
      "source": [
        "%%capture\n",
        "# downloading TIMIT dataset from datasets library\n",
        "timit = load_dataset(\"timit_asr\")"
      ],
      "metadata": {
        "id": "f74df096",
        "execution": {
          "iopub.status.busy": "2023-06-11T09:33:08.728867Z",
          "iopub.execute_input": "2023-06-11T09:33:08.729212Z",
          "iopub.status.idle": "2023-06-11T09:34:31.837898Z",
          "shell.execute_reply.started": "2023-06-11T09:33:08.729181Z",
          "shell.execute_reply": "2023-06-11T09:34:31.836642Z"
        },
        "trusted": true
      },
      "execution_count": null,
      "outputs": [],
      "id": "f74df096"
    },
    {
      "cell_type": "code",
      "source": [
        "# Loading the model from torchaudio model hub\n",
        "bundle = torchaudio.pipelines.WAV2VEC2_ASR_BASE_960H\n",
        "model = bundle.get_model()\n",
        "\n",
        "# Checking the device available during the current environment (CUDA is recommended!)\n",
        "device = torch.device(\"cuda\" if torch.cuda.is_available() else \"cpu\")\n",
        "model = model.to(device)\n",
        "\n",
        "# Initializing attack class\n",
        "attack = ASRAttacks(model, device, bundle.get_labels())\n",
        "\n",
        "# Initializing dataTransform class\n",
        "dataTransformer = DataTransform(model, attack, device)\n",
        "\n",
        "# Specifying the type of attack and the max number of audios on which to perform attack on\n",
        "max_aud = 100 # number of example (audios) you want to work with\n",
        "create_sentences = max_aud # number of audios should be equal to the number of random targeted sentences\n",
        "sentences_for_random_transcription_vocab = 100 # number of sentences for creating dictionary for creating random transcriptions"
      ],
      "metadata": {
        "id": "097e43af",
        "execution": {
          "iopub.status.busy": "2023-06-11T09:34:31.841748Z",
          "iopub.execute_input": "2023-06-11T09:34:31.842783Z",
          "iopub.status.idle": "2023-06-11T09:34:38.363845Z",
          "shell.execute_reply.started": "2023-06-11T09:34:31.842489Z",
          "shell.execute_reply": "2023-06-11T09:34:38.362765Z"
        },
        "trusted": true,
        "outputId": "b575eedd-24cf-44aa-b1e9-fe3ebec4e09d"
      },
      "execution_count": null,
      "outputs": [
        {
          "name": "stderr",
          "text": "Downloading: \"https://download.pytorch.org/torchaudio/models/wav2vec2_fairseq_base_ls960_asr_ls960.pth\" to /root/.cache/torch/hub/checkpoints/wav2vec2_fairseq_base_ls960_asr_ls960.pth\n100%|██████████| 360M/360M [00:02<00:00, 183MB/s] \n",
          "output_type": "stream"
        }
      ],
      "id": "097e43af"
    },
    {
      "cell_type": "code",
      "source": [
        "# removing irrelevant columns from TIMIT dataset which we don't need\n",
        "test_split = timit['test'].remove_columns([\"phonetic_detail\", \"word_detail\", \"dialect_region\", \"id\", \"sentence_type\", \"speaker_id\"])"
      ],
      "metadata": {
        "id": "f676e13d",
        "execution": {
          "iopub.status.busy": "2023-06-11T09:34:38.365370Z",
          "iopub.execute_input": "2023-06-11T09:34:38.365732Z",
          "iopub.status.idle": "2023-06-11T09:34:38.372911Z",
          "shell.execute_reply.started": "2023-06-11T09:34:38.365698Z",
          "shell.execute_reply": "2023-06-11T09:34:38.371889Z"
        },
        "trusted": true
      },
      "execution_count": null,
      "outputs": [],
      "id": "f676e13d"
    },
    {
      "cell_type": "markdown",
      "source": [
        "**For generating random target whose number of words is equal to that of ground truth in batch**"
      ],
      "metadata": {
        "id": "881b56ce"
      },
      "id": "881b56ce"
    },
    {
      "cell_type": "code",
      "source": [
        "# generating random target transcription\n",
        "data = test_split['text']\n",
        "orig, rand = dataTransformer.random_transcription_generator(data, sentences_for_dict = sentences_for_random_transcription_vocab,\n",
        "                                                            create_sentences = create_sentences)"
      ],
      "metadata": {
        "id": "c7d63388",
        "execution": {
          "iopub.status.busy": "2023-06-11T09:34:38.374433Z",
          "iopub.execute_input": "2023-06-11T09:34:38.375048Z",
          "iopub.status.idle": "2023-06-11T09:34:39.797617Z",
          "shell.execute_reply.started": "2023-06-11T09:34:38.375012Z",
          "shell.execute_reply": "2023-06-11T09:34:39.796143Z"
        },
        "trusted": true
      },
      "execution_count": null,
      "outputs": [],
      "id": "c7d63388"
    },
    {
      "cell_type": "code",
      "source": [
        "# total number of examples\n",
        "number_of_examples = max_aud"
      ],
      "metadata": {
        "id": "R4-eP6M7OfbL",
        "execution": {
          "iopub.status.busy": "2023-06-11T09:34:39.798943Z",
          "iopub.execute_input": "2023-06-11T09:34:39.799627Z",
          "iopub.status.idle": "2023-06-11T09:34:39.808996Z",
          "shell.execute_reply.started": "2023-06-11T09:34:39.799589Z",
          "shell.execute_reply": "2023-06-11T09:34:39.808015Z"
        },
        "trusted": true
      },
      "execution_count": null,
      "outputs": [],
      "id": "R4-eP6M7OfbL"
    },
    {
      "cell_type": "markdown",
      "source": [
        "# Clean Transcription (Ground Truth)"
      ],
      "metadata": {
        "id": "f_YtbOrX41eo"
      },
      "id": "f_YtbOrX41eo"
    },
    {
      "cell_type": "code",
      "source": [
        "# displaying top 10 clean sample\n",
        "for i in range(10):\n",
        "    print(orig[i])"
      ],
      "metadata": {
        "colab": {
          "base_uri": "https://localhost:8080/"
        },
        "id": "IbZPjN4T4AxO",
        "outputId": "2e295a11-2915-4c2a-96fa-e29899ff16ff",
        "execution": {
          "iopub.status.busy": "2023-06-11T09:34:39.812291Z",
          "iopub.execute_input": "2023-06-11T09:34:39.812613Z",
          "iopub.status.idle": "2023-06-11T09:34:39.821244Z",
          "shell.execute_reply.started": "2023-06-11T09:34:39.812588Z",
          "shell.execute_reply": "2023-06-11T09:34:39.820032Z"
        },
        "trusted": true
      },
      "execution_count": null,
      "outputs": [
        {
          "name": "stdout",
          "text": "THE BUNGALOW WAS PLEASANTLY SITUATED NEAR THE SHORE\nDON'T ASK ME TO CARRY AN OILY RAG LIKE THAT\nARE YOU LOOKING FOR EMPLOYMENT\nSHE HAD YOUR DARK SUIT IN GREASY WASH WATER ALL YEAR\nAT TWILIGHT ON THE TWELFTH DAY WE'LL HAVE CHABLIS\nEATING SPINACH NIGHTLY INCREASES STRENGTH MIRACULOUSLY\nGOT A HECK OF A BUY ON THIS DIRT CHEAP\nTHE SCALLOPED EDGE IS PARTICULARLY APPEALING\nA BIG GOAT IDLY AMBLED THROUGH THE FARMYARD\nTHIS GROUP IS SECULARIST AND THEIR PROGRAM TENDS TO BE TECHNOLOGICAL\n",
          "output_type": "stream"
        }
      ],
      "id": "IbZPjN4T4AxO"
    },
    {
      "cell_type": "markdown",
      "source": [
        "# Target Transcription"
      ],
      "metadata": {
        "id": "Qhro0tHb48f7"
      },
      "id": "Qhro0tHb48f7"
    },
    {
      "cell_type": "code",
      "source": [
        "# displaying top 10 target sample\n",
        "for i in range(10):\n",
        "    print(rand[i])"
      ],
      "metadata": {
        "colab": {
          "base_uri": "https://localhost:8080/"
        },
        "id": "R1Z29jPUnOmv",
        "outputId": "5d0eca05-4a8d-45a5-b110-8369005cca67",
        "execution": {
          "iopub.status.busy": "2023-06-11T09:34:39.826631Z",
          "iopub.execute_input": "2023-06-11T09:34:39.826905Z",
          "iopub.status.idle": "2023-06-11T09:34:39.832299Z",
          "shell.execute_reply.started": "2023-06-11T09:34:39.826882Z",
          "shell.execute_reply": "2023-06-11T09:34:39.831364Z"
        },
        "trusted": true
      },
      "execution_count": null,
      "outputs": [
        {
          "name": "stdout",
          "text": "WHAT FLEECY YOUR RAG ENORMOUS EMPLOYMENT THEY CAME\nEXCESS CLAY PUNCTURING ABOVE BORING WILL WHAT BRING HE NICELY\nDOES PROTECTION NEEDED ABOUT NUTRITION\nFROM PROSPECTIVE CAN ARE ASSEMBLING MAN EMPLOYMENT AS ME PRESTIGE AS\nSPORT AROUND ENTITY ALL WAS LEAVES OVERALLS BRING THEY\nMAN TROPICAL PAPER PROSPECTIVE WHO FURTHER\nPROVIDE GUESS BUY ON UNLIMITED BRING EXPOSURE HIGH GOVERNING PLANNED\nTHINNER FIRECRACKERS NIGHTLY EYES SOME FALLOUT\nTECHNOLOGICAL DO ASSISTANCE OFTEN ELEGANT PHONY OVERALLS NICELY\nALSO AND EXTRA HIM BURNED APPEALING BREATHED AROUND DEFENDED TRIM NIGHTLY\n",
          "output_type": "stream"
        }
      ],
      "id": "R1Z29jPUnOmv"
    },
    {
      "cell_type": "markdown",
      "source": [
        "# FGSM targeted:\n",
        "\n",
        "adv_attack = \"FGSM\"\n",
        "\n",
        "aud = test_split['audio'][:max_aud]\n",
        "\n",
        "target = rand\n",
        "\n",
        "clean, pert = dataTransformer.apply_attack(adv_attack, aud, target = target, epsilon = 0.0065, targeted = True)\n",
        "\n",
        "# FGSM untargeted:\n",
        "\n",
        "adv_attack = \"FGSM\"\n",
        "\n",
        "aud = test_split['audio'][:max_aud]\n",
        "\n",
        "clean, pert = dataTransformer.apply_attack(adv_attack, aud, epsilon = 0.0065, targeted = False)\n",
        "\n",
        "# BIM targeted:\n",
        "\n",
        "adv_attack = \"BIM\"\n",
        "\n",
        "aud = test_split['audio'][:max_aud]\n",
        "\n",
        "target = rand\n",
        "\n",
        "clean, pert = dataTransformer.apply_attack(adv_attack, aud, target = target, epsilon = 0.0015, alpha = 0.00009,\n",
        "                                           num_iter = 3000, targeted = True, early_stop = False)\n",
        "                   \n",
        "# BIM untargeted:\n",
        "\n",
        "adv_attack = \"BIM\"\n",
        "\n",
        "aud = test_split['audio'][:max_aud]\n",
        "\n",
        "clean, pert = dataTransformer.apply_attack(adv_attack, aud, epsilon = 0.0015, alpha = 0.00009,\n",
        "                                           num_iter = 3000, targeted = False, early_stop = False)\n",
        "                   \n",
        "# PGD targeted:\n",
        "\n",
        "adv_attack = \"PGD\"\n",
        "\n",
        "aud = test_split['audio'][:max_aud]\n",
        "\n",
        "target = rand\n",
        "\n",
        "clean, pert = dataTransformer.apply_attack(adv_attack, aud, target = target, epsilon = 0.0015, alpha = 0.00009,\n",
        "                                           num_iter = 3000, targeted = True, early_stop = False)\n",
        "\n",
        "                   \n",
        "# PGD untargeted:\n",
        "\n",
        "adv_attack = \"PGD\"\n",
        "\n",
        "aud = test_split['audio'][:max_aud]\n",
        "\n",
        "clean, pert = dataTransformer.apply_attack(adv_attack, aud, epsilon = 0.0015, alpha = 0.00009,\n",
        "                                           num_iter = 3000, targeted = False, early_stop = False)\n",
        "\n",
        "\n",
        "# CW targeted:\n",
        "\n",
        "adv_attack = \"CW\"\n",
        "\n",
        "aud = test_split['audio'][:max_aud]\n",
        "\n",
        "target = rand\n",
        "\n",
        "clean, pert = dataTransformer.apply_attack(adv_attack, aud, target = target, epsilon = 0.0015, c = 10,\n",
        "                                          learning_rate = 0.00001, num_iter = 3000, decrease_factor_eps = 1,\n",
        "                                          num_iter_decrease_eps = 10, optimizer = None, nested = True, \n",
        "                                          early_stop = False, search_eps = False, targeted = True)\n",
        "\n",
        "                   \n",
        "# CW untargeted:\n",
        "\n",
        "adv_attack = \"CW\"\n",
        "\n",
        "aud = test_split['audio'][:max_aud]\n",
        "\n",
        "clean, pert = dataTransformer.apply_attack(adv_attack, aud, epsilon = 0.0015, c = 10,\n",
        "                                          learning_rate = 0.00001, num_iter = 3000, decrease_factor_eps = 1,\n",
        "                                          num_iter_decrease_eps = 10, optimizer = None, nested = True, \n",
        "                                          early_stop = False, search_eps = False, targeted = False)\n",
        "         \n",
        "# IMP_CW:\n",
        "\n",
        "adv_attack = \"IMP_CW\"\n",
        "\n",
        "aud = test_split['audio'][:max_aud]\n",
        "\n",
        "target = rand\n",
        "\n",
        "clean, pert = dataTransformer.apply_attack(adv_attack, aud, target = target, epsilon = 0.015, c = 10, learning_rate1 = 0.001, \n",
        "                                    learning_rate2 = 0.0001, num_iter1 = 100, num_iter2 = 1500, decrease_factor_eps = 1, \n",
        "                                    num_iter_decrease_eps = 10, optimizer1 = None, optimizer2 = \"Adam\",nested = True, \n",
        "                                    early_stop_cw = False, search_eps_cw = False, alpha = 0.05)"
      ],
      "metadata": {
        "id": "e7ab5903"
      },
      "id": "e7ab5903"
    },
    {
      "cell_type": "markdown",
      "source": [
        "**Here we are performing targeted FGSM attack but for other attacks the codes are given above.**\n",
        "\n",
        "**If you want to perform other attack just copy the code from above and paste it in the cell below.**"
      ],
      "metadata": {
        "id": "be8a6081"
      },
      "id": "be8a6081"
    },
    {
      "cell_type": "code",
      "source": [
        "#performing attack on our audios in a single line\n",
        "adv_attack = \"FGSM\"\n",
        "aud = test_split['audio'][:max_aud]\n",
        "target = rand\n",
        "clean, pert = dataTransformer.apply_attack(adv_attack, aud, target = target, epsilon = 0.0065, targeted = True)"
      ],
      "metadata": {
        "colab": {
          "base_uri": "https://localhost:8080/",
          "height": 49,
          "referenced_widgets": [
            "a1094dccb2364b2789e307d8ddfc56c8",
            "4ce476bbf7424b1c8aa19326e6c7aba3",
            "981a78c6d06045848ae28fa7c92c7d59",
            "921dcc18c007430f95eec45abf1a5808",
            "704ca4b1af5d468fa39c67eadaf12a53",
            "8cac883adac34d508ebcae3ea8802a80",
            "0de30380094a450f93b6163f014d1256",
            "712e6dca1e674ae8a5909025ba6e78d1",
            "6e34c2220ac34ad6983e306fd239ccdb",
            "92cd19bae99b426aade137496157f63f",
            "d95137a261c6423694b0c3ed6177d676",
            "38ac5378272c485e9d19fc13df859206"
          ]
        },
        "id": "1cd39e9d",
        "outputId": "28ffe31d-c8f4-43bf-bab8-e02959a834d6",
        "execution": {
          "iopub.status.busy": "2023-06-11T09:34:39.833773Z",
          "iopub.execute_input": "2023-06-11T09:34:39.834469Z",
          "iopub.status.idle": "2023-06-11T09:35:01.307097Z",
          "shell.execute_reply.started": "2023-06-11T09:34:39.834436Z",
          "shell.execute_reply": "2023-06-11T09:35:01.306158Z"
        },
        "trusted": true
      },
      "execution_count": null,
      "outputs": [
        {
          "output_type": "display_data",
          "data": {
            "text/plain": "  0%|          | 0/100 [00:00<?, ?it/s]",
            "application/vnd.jupyter.widget-view+json": {
              "version_major": 2,
              "version_minor": 0,
              "model_id": "38ac5378272c485e9d19fc13df859206"
            }
          },
          "metadata": {}
        }
      ],
      "id": "1cd39e9d"
    },
    {
      "cell_type": "code",
      "source": [
        "# storing all model's clean transcription in separate list\n",
        "clean_transcriptions = []\n",
        "for i in tqdm(range(number_of_examples)):\n",
        "    clean_transcriptions.append(attack.INFER(clean[i]).replace(\"|\",\" \"))"
      ],
      "metadata": {
        "colab": {
          "base_uri": "https://localhost:8080/",
          "height": 49,
          "referenced_widgets": [
            "86bd48aa8d494a16b30a0db3742ffcf9",
            "ff18d6c76d8949ce9588edca69fbfa34",
            "953d2ac1d8584774b62b3b998f26e9a1",
            "dc7bcd51e17b45a5af61915b84409bd2",
            "0b130f11b9324cc2a4fc486a51e06366",
            "777e99a24843484890264ff6769ec618",
            "b18b09c7567f47408054c292e58b69f1",
            "5e69b926b1094091b05b93dfbe249e7e",
            "6fe9457b285440e982c217a474561d04",
            "e2f05f25d264428fafec9605585b0bdf",
            "5c47667d213648e78b846abcbd69f22a",
            "8d279dc118bb4445a0eaf05bbe0bf19a"
          ]
        },
        "id": "zEvulSDHRScF",
        "outputId": "99495d5e-0842-448b-efea-7d0239fb73a0",
        "execution": {
          "iopub.status.busy": "2023-06-11T09:35:01.308777Z",
          "iopub.execute_input": "2023-06-11T09:35:01.309904Z",
          "iopub.status.idle": "2023-06-11T09:35:03.317044Z",
          "shell.execute_reply.started": "2023-06-11T09:35:01.309867Z",
          "shell.execute_reply": "2023-06-11T09:35:03.315955Z"
        },
        "trusted": true
      },
      "execution_count": null,
      "outputs": [
        {
          "output_type": "display_data",
          "data": {
            "text/plain": "  0%|          | 0/100 [00:00<?, ?it/s]",
            "application/vnd.jupyter.widget-view+json": {
              "version_major": 2,
              "version_minor": 0,
              "model_id": "8d279dc118bb4445a0eaf05bbe0bf19a"
            }
          },
          "metadata": {}
        }
      ],
      "id": "zEvulSDHRScF"
    },
    {
      "cell_type": "code",
      "source": [
        "# storing all model's perturbed transcription in separate list\n",
        "perturb_transcriptions = []\n",
        "for i in tqdm(range(number_of_examples)):\n",
        "    perturb_transcriptions.append(attack.INFER(pert[i]).replace(\"|\",\" \"))"
      ],
      "metadata": {
        "colab": {
          "base_uri": "https://localhost:8080/",
          "height": 49,
          "referenced_widgets": [
            "c9fb2963273a4bb38bac53260714b803",
            "910e36ddcdbc4ccba6bb8c111007677b",
            "60667a97455a491cb4d3ce1297c9aaed",
            "59d5bf87e9b245538f9428fc28ed667b",
            "1a7d6fbb93e9434babd727399ae390b4",
            "1b6549bbd741409e8f447a0746bbb971",
            "2b0bc722644d4803b6d6ff74f61b9275",
            "8b6a3a68a6f842be90199e848138b157",
            "1b565159a6e642828d4142b7cc2ff869",
            "0e43f1056b9a42998cfa9ab447a2a109",
            "6d6ab38fe2b54e5e80248d2d5437c8a8",
            "f25b85f6a25a492983d0c43f127b16e9"
          ]
        },
        "id": "S-CKVoac7V9O",
        "outputId": "fa1c29c8-23a8-4821-f7a4-e60b314a94ed",
        "execution": {
          "iopub.status.busy": "2023-06-11T09:35:03.318542Z",
          "iopub.execute_input": "2023-06-11T09:35:03.319575Z",
          "iopub.status.idle": "2023-06-11T09:35:05.326573Z",
          "shell.execute_reply.started": "2023-06-11T09:35:03.319536Z",
          "shell.execute_reply": "2023-06-11T09:35:05.325645Z"
        },
        "trusted": true
      },
      "execution_count": null,
      "outputs": [
        {
          "output_type": "display_data",
          "data": {
            "text/plain": "  0%|          | 0/100 [00:00<?, ?it/s]",
            "application/vnd.jupyter.widget-view+json": {
              "version_major": 2,
              "version_minor": 0,
              "model_id": "f25b85f6a25a492983d0c43f127b16e9"
            }
          },
          "metadata": {}
        }
      ],
      "id": "S-CKVoac7V9O"
    },
    {
      "cell_type": "code",
      "source": [
        "# Let's see top 10 clean and perturbed examples\n",
        "for i in range(10):\n",
        "    print(\"Clean: \", clean_transcriptions[i])\n",
        "    print(\"Perturbed: \",perturb_transcriptions[i])"
      ],
      "metadata": {
        "colab": {
          "base_uri": "https://localhost:8080/"
        },
        "id": "Cq4LqlkC7wgw",
        "outputId": "4b545764-dbb2-4317-b622-0a0760632cbe",
        "execution": {
          "iopub.status.busy": "2023-06-11T09:35:05.328053Z",
          "iopub.execute_input": "2023-06-11T09:35:05.328945Z",
          "iopub.status.idle": "2023-06-11T09:35:05.335266Z",
          "shell.execute_reply.started": "2023-06-11T09:35:05.328910Z",
          "shell.execute_reply": "2023-06-11T09:35:05.334372Z"
        },
        "trusted": true
      },
      "execution_count": null,
      "outputs": [
        {
          "name": "stdout",
          "text": "Clean:  THE BUNGALOW WAS PLEASANTLY SITUATED NEAR THE SHORE \nPerturbed:  IPONGALO WITH LUT QUIT TET WAY TO TO EGAL \nClean:  DON'T ASK ME TO CARRY AN OILY RAG LIKE THAT \nPerturbed:  DON'T IAT VERYN EAR TY DRAG LIKE TAT \nClean:  ARE YOU LOOKING FOR EMPLOYMENT \nPerturbed:  ARE YOU LOOKING FOR FORTHEM \nClean:  SHE HAD YOUR DARK SUIT AND GREASY WASHWATER ALL YEAR \nPerturbed:  YOU HAD YOUR DARK SUI TREUT YOU WONT FATHER ALL YEAR \nClean:  AT TWILIGHT ON THE TWELFTH DAY WE'LL HAVE SHIBLI \nPerturbed:  AT TWILIGHT ON THE TWELFTH DAY YOU'LL TAK I TI \nClean:  EATING SPINACH NIGHTLY INCREASES STRENGTH MIRACULOUSLY \nPerturbed:  YOU EXPENDIT FITLY FREEOFRIFOR I \nClean:  GOT A HECK OF A BY ON THIS DIRT CHEAP \nPerturbed:  GOT A HECK OF A BYE ON HIS  HERD CHEEK \nClean:  THE SCALLOPED EDGE IS PARTICULARLY APPEALING \nPerturbed:  DELFETIC \nClean:  A BIG GOAT IDLY AMBLED THROUGH THE FARMYARD \nPerturbed:  A PIG GOAT QIETLY AMPLED THROUGH THE PARMYELD \nClean:  THIS GROUP IS SECULARIST AND THEIR PROGRAMM TENDS TO BE TECHNILOGICAL \nPerturbed:  THIS GRUPED SECOND VIRTH AND THE FERGRANTENO BE ECLAUGICL \n",
          "output_type": "stream"
        }
      ],
      "id": "Cq4LqlkC7wgw"
    },
    {
      "cell_type": "code",
      "source": [
        "# storing WER (between ground truth and perturbed audio's transcription) in a separate list\n",
        "WER_untargeted = []\n",
        "for i in tqdm(range(number_of_examples)):\n",
        "    WER_untargeted.append(100*attack.wer_compute([orig[i]], [pert[i].numpy()], targeted= False)[0])"
      ],
      "metadata": {
        "id": "kXC_9ADl5wWl",
        "colab": {
          "base_uri": "https://localhost:8080/",
          "height": 49,
          "referenced_widgets": [
            "0524a27eea7f486db909e90dd0167860",
            "69637a1736d44ba0b291a3d94b11c645",
            "a5ebd0c854264df5be641b1e05a67fa3",
            "a4608aa0111d4a889c9e2140c0700574",
            "5e73ec9a02a14502b2ed096b8342ce15",
            "4c31ffc65a624d4884f968801202fb52",
            "d2c5afac94e8424c90d9ffaae01ef462",
            "29b9c2e31a43406d9c3efedaa261b24d",
            "c08686842dbe45a5a7ed0aaae87b0767",
            "2dd2d98e88814301bfba2a1e8808e986",
            "a0c746c9712b4a4abf0850f9f6fef06a",
            "6796836e189c4702b04b9ce5640960b5"
          ]
        },
        "outputId": "2e297834-3169-4f45-cfa3-0ae6b612d898",
        "execution": {
          "iopub.status.busy": "2023-06-11T09:35:05.336624Z",
          "iopub.execute_input": "2023-06-11T09:35:05.337574Z",
          "iopub.status.idle": "2023-06-11T09:35:07.371838Z",
          "shell.execute_reply.started": "2023-06-11T09:35:05.337540Z",
          "shell.execute_reply": "2023-06-11T09:35:07.370927Z"
        },
        "trusted": true
      },
      "execution_count": null,
      "outputs": [
        {
          "output_type": "display_data",
          "data": {
            "text/plain": "  0%|          | 0/100 [00:00<?, ?it/s]",
            "application/vnd.jupyter.widget-view+json": {
              "version_major": 2,
              "version_minor": 0,
              "model_id": "6796836e189c4702b04b9ce5640960b5"
            }
          },
          "metadata": {}
        }
      ],
      "id": "kXC_9ADl5wWl"
    },
    {
      "cell_type": "code",
      "source": [
        "print([WER_untargeted[i] for i in range(10)])"
      ],
      "metadata": {
        "colab": {
          "base_uri": "https://localhost:8080/"
        },
        "id": "H-uW_U1H9mTm",
        "outputId": "da15cc81-821a-4d68-c428-f1a4a96e5553",
        "execution": {
          "iopub.status.busy": "2023-06-11T09:35:07.373396Z",
          "iopub.execute_input": "2023-06-11T09:35:07.373991Z",
          "iopub.status.idle": "2023-06-11T09:35:07.380336Z",
          "shell.execute_reply.started": "2023-06-11T09:35:07.373941Z",
          "shell.execute_reply": "2023-06-11T09:35:07.379186Z"
        },
        "trusted": true
      },
      "execution_count": null,
      "outputs": [
        {
          "name": "stdout",
          "text": "[100.0, 90.0, 20.0, 54.54545454545454, 40.0, 100.0, 40.0, 100.0, 50.0, 81.81818181818183]\n",
          "output_type": "stream"
        }
      ],
      "id": "H-uW_U1H9mTm"
    },
    {
      "cell_type": "code",
      "source": [
        "# storing WER (between our set target and perturbed audio's transcription) in a separate list [This is basically TMR in a nutsell]\n",
        "WER_targeted = []\n",
        "for i in tqdm(range(number_of_examples)):\n",
        "    WER_targeted.append(100*attack.wer_compute([rand[i]], [pert[i].numpy()], targeted= True)[0])"
      ],
      "metadata": {
        "colab": {
          "base_uri": "https://localhost:8080/",
          "height": 49,
          "referenced_widgets": [
            "b7fc14a605594319845e64f92afb4511",
            "313ef269aa3d4115bb339701e29c1120",
            "a0dc13d0b6d846ed9eb5a956c957ce25",
            "2e46e0a974c54b7d97249b1aa79b2951",
            "014b4705c0f2473da069812b4485acd4",
            "86888c1cb73a4a7b83a1502035602c63",
            "3edafb7911844157b94e0cda2969e351",
            "08cba7a44c5f4632beffe4efb4db2b67",
            "6e7d28ac831643c1a8167d4e88010b6f",
            "ee53028710af4bab86354295062a61f7",
            "3d3ba1a873c043bd8a7f265d593916a8",
            "64d2449e4e8f440cac9f2963d64760b2"
          ]
        },
        "id": "79XRc4no9gnO",
        "outputId": "435d29c9-35d7-42e3-ec08-b0621a829510",
        "execution": {
          "iopub.status.busy": "2023-06-11T09:35:07.382071Z",
          "iopub.execute_input": "2023-06-11T09:35:07.382718Z",
          "iopub.status.idle": "2023-06-11T09:35:09.349719Z",
          "shell.execute_reply.started": "2023-06-11T09:35:07.382687Z",
          "shell.execute_reply": "2023-06-11T09:35:09.348597Z"
        },
        "trusted": true
      },
      "execution_count": null,
      "outputs": [
        {
          "output_type": "display_data",
          "data": {
            "text/plain": "  0%|          | 0/100 [00:00<?, ?it/s]",
            "application/vnd.jupyter.widget-view+json": {
              "version_major": 2,
              "version_minor": 0,
              "model_id": "64d2449e4e8f440cac9f2963d64760b2"
            }
          },
          "metadata": {}
        }
      ],
      "id": "79XRc4no9gnO"
    },
    {
      "cell_type": "code",
      "source": [
        "print([WER_targeted[i] for i in range(10)])"
      ],
      "metadata": {
        "colab": {
          "base_uri": "https://localhost:8080/"
        },
        "id": "8LtAw_Cg91E3",
        "outputId": "a503a605-5eed-49eb-c3fa-fd5a7a827bb1",
        "execution": {
          "iopub.status.busy": "2023-06-11T09:35:09.351325Z",
          "iopub.execute_input": "2023-06-11T09:35:09.351766Z",
          "iopub.status.idle": "2023-06-11T09:35:09.358089Z",
          "shell.execute_reply.started": "2023-06-11T09:35:09.351732Z",
          "shell.execute_reply": "2023-06-11T09:35:09.356907Z"
        },
        "trusted": true
      },
      "execution_count": null,
      "outputs": [
        {
          "name": "stdout",
          "text": "[0.0, 0.0, 0.0, 0.0, 0.0, 0.0, 0.0, 0.0, 0.0, 0.0]\n",
          "output_type": "stream"
        }
      ],
      "id": "8LtAw_Cg91E3"
    },
    {
      "cell_type": "code",
      "source": [
        "# storing insertions, substitutions, and deletions in all in their separate lists\n",
        "insertions = []\n",
        "substitutions = []\n",
        "deletions = []\n",
        "for i in tqdm(range(number_of_examples)):\n",
        "    info = attack.wer_compute([orig[i]], [pert[i].numpy()], targeted= False)[1]\n",
        "    insertions.append(info[0][1])\n",
        "    substitutions.append(info[0][0])\n",
        "    deletions.append(info[0][2])"
      ],
      "metadata": {
        "id": "mmtATrZSoybW",
        "colab": {
          "base_uri": "https://localhost:8080/",
          "height": 49,
          "referenced_widgets": [
            "7babb29194ab4f178d283e008555d46a",
            "7e6190998e9e437eaeccf322c17f47c6",
            "4fe418e6bba04867b4abe75a55dc700a",
            "ca7a71ab867b450f8572edf6c98a374a",
            "a0dc73d0c03041429a11a78646d727d0",
            "cb0db395be07494c9537f05307f965a9",
            "bde87597e1eb45e08cc135864ff0979b",
            "b8f02eb35f374fd685572293ec839db9",
            "8c80db56c3054833be0c5c30b8e5d4b2",
            "b912da3b7eb84289806e7f12047bc90d",
            "7a25a290b83a4ace8c6674cfc4b7ff5a",
            "ea480367785e4dd29c01c276807e1b67"
          ]
        },
        "outputId": "c5fc0668-94f3-4b55-9b4b-157ee32f4e61",
        "execution": {
          "iopub.status.busy": "2023-06-11T09:35:09.359745Z",
          "iopub.execute_input": "2023-06-11T09:35:09.360643Z",
          "iopub.status.idle": "2023-06-11T09:35:11.344433Z",
          "shell.execute_reply.started": "2023-06-11T09:35:09.360604Z",
          "shell.execute_reply": "2023-06-11T09:35:11.343449Z"
        },
        "trusted": true
      },
      "execution_count": null,
      "outputs": [
        {
          "output_type": "display_data",
          "data": {
            "text/plain": "  0%|          | 0/100 [00:00<?, ?it/s]",
            "application/vnd.jupyter.widget-view+json": {
              "version_major": 2,
              "version_minor": 0,
              "model_id": "ea480367785e4dd29c01c276807e1b67"
            }
          },
          "metadata": {}
        }
      ],
      "id": "mmtATrZSoybW"
    },
    {
      "cell_type": "code",
      "source": [
        "print([insertions[i] for i in range(10)])"
      ],
      "metadata": {
        "colab": {
          "base_uri": "https://localhost:8080/"
        },
        "id": "KCpDZ3iB-37q",
        "outputId": "967eb1f9-3e9e-4e21-9cf3-ee2f37990c7d",
        "execution": {
          "iopub.status.busy": "2023-06-11T09:35:11.346081Z",
          "iopub.execute_input": "2023-06-11T09:35:11.346730Z",
          "iopub.status.idle": "2023-06-11T09:35:11.353095Z",
          "shell.execute_reply.started": "2023-06-11T09:35:11.346695Z",
          "shell.execute_reply": "2023-06-11T09:35:11.351983Z"
        },
        "trusted": true
      },
      "execution_count": null,
      "outputs": [
        {
          "name": "stdout",
          "text": "[1, 0, 0, 0, 1, 0, 0, 0, 0, 0]\n",
          "output_type": "stream"
        }
      ],
      "id": "KCpDZ3iB-37q"
    },
    {
      "cell_type": "code",
      "source": [
        "print([substitutions[i] for i in range(10)])"
      ],
      "metadata": {
        "colab": {
          "base_uri": "https://localhost:8080/"
        },
        "id": "cuFmoo-R_9Hl",
        "outputId": "f28f247e-7e2d-4a4f-d7e3-0a06f61d73ea",
        "execution": {
          "iopub.status.busy": "2023-06-11T09:35:11.354953Z",
          "iopub.execute_input": "2023-06-11T09:35:11.355397Z",
          "iopub.status.idle": "2023-06-11T09:35:11.362858Z",
          "shell.execute_reply.started": "2023-06-11T09:35:11.355362Z",
          "shell.execute_reply": "2023-06-11T09:35:11.361899Z"
        },
        "trusted": true
      },
      "execution_count": null,
      "outputs": [
        {
          "name": "stdout",
          "text": "[8, 7, 1, 6, 3, 5, 4, 1, 4, 7]\n",
          "output_type": "stream"
        }
      ],
      "id": "cuFmoo-R_9Hl"
    },
    {
      "cell_type": "code",
      "source": [
        "print([deletions[i] for i in range(10)])"
      ],
      "metadata": {
        "colab": {
          "base_uri": "https://localhost:8080/"
        },
        "id": "eYbTdpyV_keq",
        "outputId": "00e1d99e-aa76-4d8b-9327-e39fc1b3c83c",
        "execution": {
          "iopub.status.busy": "2023-06-11T09:35:11.364473Z",
          "iopub.execute_input": "2023-06-11T09:35:11.365126Z",
          "iopub.status.idle": "2023-06-11T09:35:11.372078Z",
          "shell.execute_reply.started": "2023-06-11T09:35:11.365095Z",
          "shell.execute_reply": "2023-06-11T09:35:11.371072Z"
        },
        "trusted": true
      },
      "execution_count": null,
      "outputs": [
        {
          "name": "stdout",
          "text": "[0, 2, 0, 0, 0, 1, 0, 5, 0, 2]\n",
          "output_type": "stream"
        }
      ],
      "id": "eYbTdpyV_keq"
    },
    {
      "cell_type": "code",
      "source": [
        "# signal to noise ratio function for computing SNR (it really is noise to signal ratio the way it is computed)\n",
        "def Metricsnr(original, noisy):\n",
        "    original_power = 20 * np.log10(np.mean(original ** 2))\n",
        "    noise_power = 20 * np.log10(np.mean((original - noisy) ** 2))\n",
        "    snr = noise_power - original_power\n",
        "    return snr"
      ],
      "metadata": {
        "id": "Jd8fccXz9hOQ",
        "execution": {
          "iopub.status.busy": "2023-06-11T09:35:11.373671Z",
          "iopub.execute_input": "2023-06-11T09:35:11.374302Z",
          "iopub.status.idle": "2023-06-11T09:35:11.381703Z",
          "shell.execute_reply.started": "2023-06-11T09:35:11.374272Z",
          "shell.execute_reply": "2023-06-11T09:35:11.380730Z"
        },
        "trusted": true
      },
      "execution_count": null,
      "outputs": [],
      "id": "Jd8fccXz9hOQ"
    },
    {
      "cell_type": "code",
      "source": [
        "# storing SNR information in a separate list\n",
        "snr = []\n",
        "for i in tqdm(range(number_of_examples)):\n",
        "    temp1=clean[i].numpy()\n",
        "    temp2=pert[i].numpy()\n",
        "    snr.append(Metricsnr(temp1,temp2))"
      ],
      "metadata": {
        "id": "8bExsrbF9hG-",
        "colab": {
          "base_uri": "https://localhost:8080/",
          "height": 49,
          "referenced_widgets": [
            "b3da3381da5d4e1f9faa9576c225a4f8",
            "b282fcc6b47d4c7481150efc6a763364",
            "090ce6fbf1b5447ea2c415ee6135531a",
            "5215be79812d4c0aa293b37e50fc11ba",
            "d6c6a2b1537f4d31b1d08994453fa561",
            "935c0062da6e4186ae60b43d7aea1449",
            "122ebed8e34a4f69bbec7284d9360650",
            "5acda5ce8de24c0a992ec39c1abb60d0",
            "8f030e4951b44602b8a15f662007b049",
            "8430c1e4c3084750af90b0a74916cac0",
            "995cd2609fa84d37be3745559a002b7d",
            "2950e3d357f24cf9866131eeae0c44c1"
          ]
        },
        "outputId": "d09b258d-b5b6-460b-8a42-e875595380da",
        "execution": {
          "iopub.status.busy": "2023-06-11T09:35:11.383249Z",
          "iopub.execute_input": "2023-06-11T09:35:11.383875Z",
          "iopub.status.idle": "2023-06-11T09:35:11.441383Z",
          "shell.execute_reply.started": "2023-06-11T09:35:11.383844Z",
          "shell.execute_reply": "2023-06-11T09:35:11.440471Z"
        },
        "trusted": true
      },
      "execution_count": null,
      "outputs": [
        {
          "output_type": "display_data",
          "data": {
            "text/plain": "  0%|          | 0/100 [00:00<?, ?it/s]",
            "application/vnd.jupyter.widget-view+json": {
              "version_major": 2,
              "version_minor": 0,
              "model_id": "2950e3d357f24cf9866131eeae0c44c1"
            }
          },
          "metadata": {}
        }
      ],
      "id": "8bExsrbF9hG-"
    },
    {
      "cell_type": "code",
      "source": [
        "print([snr[i] for i in range(10)])"
      ],
      "metadata": {
        "colab": {
          "base_uri": "https://localhost:8080/"
        },
        "id": "Svbn2QGEAxXn",
        "outputId": "b8e5606a-4091-462f-bb18-f150d3198766",
        "execution": {
          "iopub.status.busy": "2023-06-11T09:35:11.442904Z",
          "iopub.execute_input": "2023-06-11T09:35:11.443548Z",
          "iopub.status.idle": "2023-06-11T09:35:11.449148Z",
          "shell.execute_reply.started": "2023-06-11T09:35:11.443516Z",
          "shell.execute_reply": "2023-06-11T09:35:11.448222Z"
        },
        "trusted": true
      },
      "execution_count": null,
      "outputs": [
        {
          "name": "stdout",
          "text": "[-11.378765106201172, -0.38451194763183594, -8.605523109436035, -12.846879959106445, -7.567400932312012, -2.2128868103027344, -17.3106050491333, -2.9803943634033203, -10.404829978942871, -9.792618751525879]\n",
          "output_type": "stream"
        }
      ],
      "id": "Svbn2QGEAxXn"
    },
    {
      "cell_type": "code",
      "source": [
        "# This be used to allocate a separate sheet according to the attack\n",
        "if adv_attack == \"FGSM\":\n",
        "    workingSheetName = 'FGSMTargeted'\n",
        "elif adv_attack == \"BIM\":\n",
        "    workingSheetName = 'BIMTargeted'\n",
        "elif adv_attack == \"PGD\":\n",
        "    workingSheetName = 'PGDTargeted'\n",
        "elif adv_attack == \"CW\":\n",
        "    workingSheetName = 'CWTargeted'\n",
        "elif adv_attack == \"IMP_CW\":\n",
        "    workingSheetName = 'IMP_CWTargeted'"
      ],
      "metadata": {
        "id": "4_Pi_AYqvBvG",
        "execution": {
          "iopub.status.busy": "2023-06-11T09:35:11.450444Z",
          "iopub.execute_input": "2023-06-11T09:35:11.451093Z",
          "iopub.status.idle": "2023-06-11T09:35:11.458710Z",
          "shell.execute_reply.started": "2023-06-11T09:35:11.451061Z",
          "shell.execute_reply": "2023-06-11T09:35:11.457951Z"
        },
        "trusted": true
      },
      "execution_count": null,
      "outputs": [],
      "id": "4_Pi_AYqvBvG"
    },
    {
      "cell_type": "code",
      "source": [
        "# All lengths should be equal for storing data\n",
        "print(len([i for i in range(1,101)]))\n",
        "print(len(orig))\n",
        "print(len(rand))\n",
        "print(len(clean_transcriptions))\n",
        "print(len(perturb_transcriptions))\n",
        "print(len(WER_untargeted))\n",
        "print(len(WER_targeted))\n",
        "print(len(snr))\n",
        "print(len(insertions))\n",
        "print(len(substitutions))\n",
        "print(len(deletions))"
      ],
      "metadata": {
        "colab": {
          "base_uri": "https://localhost:8080/"
        },
        "id": "9RcwXLAtBuw-",
        "outputId": "0cdfce77-bfde-4bf2-8ed7-b742956532cb",
        "execution": {
          "iopub.status.busy": "2023-06-11T09:35:11.459876Z",
          "iopub.execute_input": "2023-06-11T09:35:11.460580Z",
          "iopub.status.idle": "2023-06-11T09:35:11.470657Z",
          "shell.execute_reply.started": "2023-06-11T09:35:11.460547Z",
          "shell.execute_reply": "2023-06-11T09:35:11.469640Z"
        },
        "trusted": true
      },
      "execution_count": null,
      "outputs": [
        {
          "name": "stdout",
          "text": "100\n100\n100\n100\n100\n100\n100\n100\n100\n100\n100\n",
          "output_type": "stream"
        }
      ],
      "id": "9RcwXLAtBuw-"
    },
    {
      "cell_type": "markdown",
      "source": [
        "# Code for storing data directly or automatically in Google Sheet using google-sheet-api without having to manually copy paste all the stuff the old school way"
      ],
      "metadata": {
        "id": "tdm2zUyP0Iuv"
      },
      "id": "tdm2zUyP0Iuv"
    },
    {
      "cell_type": "code",
      "source": [
        "# Define the scope of API access\n",
        "scope = [\n",
        "    'https://www.googleapis.com/auth/spreadsheets',\n",
        "    'https://www.googleapis.com/auth/drive'\n",
        "]\n",
        "\n",
        "# Load credentials from JSON key file\n",
        "creds = Credentials.from_service_account_file(\n",
        "    '/kaggle/working/PerturbationAnalysis/Credentials/skilled-bonus-389413-02121e893823.json', scopes=scope)\n",
        "\n",
        "# Authorize client using credentials\n",
        "client = gspread.authorize(creds)\n",
        "\n",
        "# Open the existing Google Sheet by name \n",
        "sheet_name = 'Results (For comparative analysis)'\n",
        "worksheet_name = workingSheetName\n",
        "sh = client.open(sheet_name)\n",
        "try:\n",
        "    worksheet = sh.worksheet(worksheet_name)\n",
        "except gspread.exceptions.WorksheetNotFound:\n",
        "    worksheet = sh.add_worksheet(title=worksheet_name, rows=\"100\", cols=\"20\")\n",
        "\n",
        "# Clear the existing content of the worksheet\n",
        "worksheet.clear()\n",
        "\n",
        "# Create small Pandas DataFrame (your data may vary)\n",
        "data = {\n",
        "    'Index'                                                    : [i for i in range(1,101)],\n",
        "    'Ground Truth'                                             : orig,\n",
        "    'Target Transcription'                                     : rand,\n",
        "    'Transcription of Clean Audio'                             : clean_transcriptions,\n",
        "    'Transcription of Adversarial Example'                     : perturb_transcriptions,\n",
        "    'WER (GT vs Adversarial Example)'                          : WER_untargeted,\n",
        "    'WER (Target Transcription vs Adversarial Examples) [TMR]' : WER_targeted,\n",
        "    'SNR'                                                      : snr,\n",
        "    'INSERTION'                                                : insertions,\n",
        "    'SUBSTITUTION'                                             : substitutions,\n",
        "    'DELETION'                                                 : deletions\n",
        "}\n",
        "\n",
        "df = pd.DataFrame(data)\n",
        "\n",
        "number_of_columns_to_merge=len(df.columns) # Adding one since we have no index column \n",
        "\n",
        "header_label = adv_attack\n",
        "range_str = \"A1:{}1\".format(chr(ord('A') + number_of_columns_to_merge - 1))\n",
        "worksheet.merge_cells(range_str) \n",
        "worksheet.update_cell(1, 1, header_label)\n",
        "\n",
        "# Center align the header\n",
        "header_format = CellFormat(horizontalAlignment='CENTER')\n",
        "format_cell_range(worksheet, range_str, header_format)\n",
        "\n",
        "data=df.values.tolist()\n",
        "headers=list(df.columns.values)\n",
        "data.insert(0,[i for i in headers])\n",
        "worksheet.append_rows(data)\n",
        "\n",
        "# Find the last row with data\n",
        "last_row = len(data) + 2\n",
        "\n",
        "# Add a blank row after the last row with data\n",
        "blank_row = ['' for _ in range(len(headers))]\n",
        "worksheet.insert_rows([blank_row], last_row)\n",
        "\n",
        "# Add new columns with data\n",
        "new_columns_data = [\n",
        "    ['AVG OF WER (GT vs Adversarial Example)', 'AVG OF WER (Target Transcription vs Adversarial Examples) [TMR]', 'AVG OF SNR', 'AVG INSERTIONS', 'G SUBSTITUTIONS', 'AVG DELETIONS'],\n",
        "    [sum(WER_untargeted)/len(WER_untargeted), sum(WER_targeted)/len(WER_targeted), sum(snr)/len(snr), round(sum(insertions)/len(insertions)), round(sum(substitutions)/len(substitutions)), round(sum(deletions)/len(deletions))]]\n",
        "\n",
        "# Find the last column with data\n",
        "last_col = len(headers)\n",
        "\n",
        "# Append new columns data below the first table\n",
        "for row_idx, row in enumerate(new_columns_data):\n",
        "    for col_idx, cell_value in enumerate(row):\n",
        "        worksheet.update_cell(last_row + 1 + row_idx, col_idx + 6, cell_value)"
      ],
      "metadata": {
        "id": "rgeHzNdNKzOu",
        "execution": {
          "iopub.status.busy": "2023-06-11T09:35:11.476462Z",
          "iopub.execute_input": "2023-06-11T09:35:11.477149Z",
          "iopub.status.idle": "2023-06-11T09:35:14.998992Z",
          "shell.execute_reply.started": "2023-06-11T09:35:11.477118Z",
          "shell.execute_reply": "2023-06-11T09:35:14.998112Z"
        },
        "trusted": true
      },
      "execution_count": null,
      "outputs": [],
      "id": "rgeHzNdNKzOu"
    },
    {
      "cell_type": "markdown",
      "source": [
        "# Storing all the audios in hdf5 extention which does not compress data which could lead to data loss"
      ],
      "metadata": {
        "id": "Uq4QeOPA0Iuw"
      },
      "id": "Uq4QeOPA0Iuw"
    },
    {
      "cell_type": "code",
      "source": [
        "filename = '/kaggle/working/' + workingSheetName + '.hdf5'\n",
        "with h5py.File(filename, 'w') as f:\n",
        "    for i, audio in enumerate(pert):\n",
        "        audioName = f\"audio{i}\"\n",
        "        f.create_dataset(audioName, data = audio)"
      ],
      "metadata": {
        "execution": {
          "iopub.status.busy": "2023-06-11T09:35:15.000371Z",
          "iopub.execute_input": "2023-06-11T09:35:15.000810Z",
          "iopub.status.idle": "2023-06-11T09:35:15.050950Z",
          "shell.execute_reply.started": "2023-06-11T09:35:15.000776Z",
          "shell.execute_reply": "2023-06-11T09:35:15.050085Z"
        },
        "trusted": true,
        "id": "3AYV5HGB0Iuw"
      },
      "execution_count": null,
      "outputs": [],
      "id": "3AYV5HGB0Iuw"
    },
    {
      "cell_type": "markdown",
      "source": [
        "# Class that include methods to save and download files from google drive"
      ],
      "metadata": {
        "id": "76_Bre8G0Iux"
      },
      "id": "76_Bre8G0Iux"
    },
    {
      "cell_type": "code",
      "source": [
        "class DriveAccess(object):\n",
        "    def __init__(self, scope, creds):\n",
        "        scope = scope                                            # Define the scope of API access\n",
        "        creds = creds                                            # Load credentials from JSON key file\n",
        "        self.drive_service = build('drive', 'v3', credentials=creds)  # Authorize client using credentials\n",
        "    \n",
        "    def _search_file_by_name(self, file_name, folder_id):\n",
        "        query = f\"name='{file_name}' and mimeType!='application/vnd.google-apps.folder' and '{folder_id}' in parents and trashed = false\"\n",
        "        results = self.drive_service.files().list(q=query, fields=\"nextPageToken, files(id, name)\").execute()\n",
        "        items = results.get('files', [])\n",
        "        return items\n",
        "\n",
        "    def _delete_file(self, file_id):\n",
        "        try:\n",
        "            self.drive_service.files().delete(fileId=file_id).execute()\n",
        "            print(f'File with ID \"{file_id}\" has been deleted.')\n",
        "        except HttpError as error:\n",
        "            print(f'An error occurred: {error}')\n",
        "\n",
        "    # Function to create and upload a file to Google Drive\n",
        "    def upload_to_drive(self, file_path, file_name, mime_type, folder_id):\n",
        "        # Check if the file already exists in the folder\n",
        "        existing_files = self._search_file_by_name(file_name, folder_id)\n",
        "        if existing_files:\n",
        "            for file in existing_files:\n",
        "                self._delete_file(file['id'])\n",
        "\n",
        "        try:\n",
        "            file_metadata = {\n",
        "                'name': file_name,\n",
        "                'parents': [folder_id]\n",
        "            }\n",
        "            media = MediaFileUpload(file_path, mimetype=mime_type)\n",
        "            file = self.drive_service.files().create(body=file_metadata, media_body=media, fields='id').execute()\n",
        "            print(f'File ID: \"{file.get(\"id\")}\".')\n",
        "        except HttpError as error:\n",
        "            print(f'An error occurred: {error}')\n",
        "            file = None\n",
        "\n",
        "        return file.get(\"id\")\n",
        "\n",
        "    # Function to download a file from Google Drive\n",
        "    def download_file(self, file_id, destination):\n",
        "        try:\n",
        "            request = self.drive_service.files().get_media(fileId=file_id)\n",
        "            fh = io.BytesIO()\n",
        "            downloader = MediaIoBaseDownload(fh, request)\n",
        "            done = False\n",
        "            while done is False:\n",
        "                status, done = downloader.next_chunk()\n",
        "                print(\"Download %d%%.\" % int(status.progress() * 100))\n",
        "\n",
        "            fh.seek(0)\n",
        "            with open(destination, 'wb') as f:\n",
        "                f.write(fh.read())\n",
        "                f.close()\n",
        "            print(f'Successfully downloaded the file to {destination}')\n",
        "        except HttpError as error:\n",
        "            print(f'An error occurred: {error}')\n",
        "\n",
        "    # Function to list all the files stored in my Google Drive's folder\n",
        "    def list_files_in_folder(self, folder_id):\n",
        "        query = f\"'{folder_id}' in parents and trashed = false\"\n",
        "        results = self.drive_service.files().list(q=query, fields=\"nextPageToken, files(id, name)\").execute()\n",
        "        items = results.get('files', [])\n",
        "        return items"
      ],
      "metadata": {
        "execution": {
          "iopub.status.busy": "2023-06-11T09:35:15.052284Z",
          "iopub.execute_input": "2023-06-11T09:35:15.052874Z",
          "iopub.status.idle": "2023-06-11T09:35:15.068283Z",
          "shell.execute_reply.started": "2023-06-11T09:35:15.052828Z",
          "shell.execute_reply": "2023-06-11T09:35:15.067225Z"
        },
        "trusted": true,
        "id": "K1sRU86Z0Iux"
      },
      "execution_count": null,
      "outputs": [],
      "id": "K1sRU86Z0Iux"
    },
    {
      "cell_type": "code",
      "source": [
        "# initializing DriveAccess class\n",
        "driveScope = [scope[1]]\n",
        "drive = DriveAccess(scope, creds)"
      ],
      "metadata": {
        "execution": {
          "iopub.status.busy": "2023-06-11T09:35:15.069761Z",
          "iopub.execute_input": "2023-06-11T09:35:15.070164Z",
          "iopub.status.idle": "2023-06-11T09:35:15.090953Z",
          "shell.execute_reply.started": "2023-06-11T09:35:15.070133Z",
          "shell.execute_reply": "2023-06-11T09:35:15.090015Z"
        },
        "trusted": true,
        "id": "faKslb0_0Iuy"
      },
      "execution_count": null,
      "outputs": [],
      "id": "faKslb0_0Iuy"
    },
    {
      "cell_type": "code",
      "source": [
        "# Upload the .hdf5 file to Google Drive [basically the perturbed audios are being stored in drive :) ]\n",
        "file_path = filename\n",
        "file_name = workingSheetName + '.hdf5'\n",
        "mime_type = 'application/octet-stream'\n",
        "folder_id = '1NI0ZylqR35rDNJkUpERJTnBX86MSLFhP'\n",
        "file = drive.upload_to_drive(file_path, file_name, mime_type, folder_id)"
      ],
      "metadata": {
        "execution": {
          "iopub.status.busy": "2023-06-11T09:35:15.092636Z",
          "iopub.execute_input": "2023-06-11T09:35:15.093015Z",
          "iopub.status.idle": "2023-06-11T09:35:17.917132Z",
          "shell.execute_reply.started": "2023-06-11T09:35:15.092983Z",
          "shell.execute_reply": "2023-06-11T09:35:17.916109Z"
        },
        "trusted": true,
        "id": "iEUKc0AH0Iuz",
        "outputId": "2f9f6f5b-0211-40e9-91e8-ae933a6e8b93"
      },
      "execution_count": null,
      "outputs": [
        {
          "name": "stdout",
          "text": "File with ID \"1Zz8g6OmSgVezVaBpW5RyO3AQuNuf5JRm\" has been deleted.\nFile ID: \"1F8mLD7dIm8hzNFcjBJsZRvejbZ3J25oj\".\n",
          "output_type": "stream"
        }
      ],
      "id": "iEUKc0AH0Iuz"
    },
    {
      "cell_type": "markdown",
      "source": [
        "**Check if the dataset has been stored in the drive's folder or not by printing all the file names stored in it**"
      ],
      "metadata": {
        "id": "YVm9KlVx0Iuz"
      },
      "id": "YVm9KlVx0Iuz"
    },
    {
      "cell_type": "code",
      "source": [
        "# this cell basically prints all the datasets according to the attack type stored in my google drive\n",
        "files = drive.list_files_in_folder(folder_id)\n",
        "\n",
        "# storing files names stored in google drive with their corresponding file id in the form of a dictionary\n",
        "files_dict = {}\n",
        "for file in files:\n",
        "    files_dict[file['name']] = file['id']\n",
        "    print(f\"File Name: {file['name']}, File ID: {file['id']}\")"
      ],
      "metadata": {
        "execution": {
          "iopub.status.busy": "2023-06-11T09:35:17.918498Z",
          "iopub.execute_input": "2023-06-11T09:35:17.919307Z",
          "iopub.status.idle": "2023-06-11T09:35:18.085633Z",
          "shell.execute_reply.started": "2023-06-11T09:35:17.919270Z",
          "shell.execute_reply": "2023-06-11T09:35:18.084663Z"
        },
        "trusted": true,
        "id": "AYYOhHhC0Iu0",
        "outputId": "258ff6ab-7852-4b71-e458-b0c227c650d0"
      },
      "execution_count": null,
      "outputs": [
        {
          "name": "stdout",
          "text": "File Name: clean.hdf5, File ID: 1LLaiLRaxIk2nQhEBuF0HWmOUyOaI_zPx\n",
          "output_type": "stream"
        }
      ],
      "id": "AYYOhHhC0Iu0"
    },
    {
      "cell_type": "markdown",
      "source": [
        "These should be the file names if the notebook convention is followed:\n",
        "1) FGSM   = 'FGSMTargeted.hdf5'\n",
        "\n",
        "2) BIM    = 'BIMTargeted.hdf5'\n",
        "\n",
        "3) PGD    = 'PGDTargeted.hdf5'\n",
        "\n",
        "4) CW     = 'CWTargeted.hdf5'\n",
        "\n",
        "5) IMP_CW = 'IMP_CWTargeted.hdf5'"
      ],
      "metadata": {
        "id": "ACUA79Ra0Iu0"
      },
      "id": "ACUA79Ra0Iu0"
    },
    {
      "cell_type": "markdown",
      "source": [
        "**End of data generation. All the information/meta data is saved in google sheet and the audios are also stored in google drive.**"
      ],
      "metadata": {
        "id": "Zb7OAGim0Iu0"
      },
      "id": "Zb7OAGim0Iu0"
    },
    {
      "cell_type": "markdown",
      "source": [
        "# <center> ******--------******"
      ],
      "metadata": {
        "id": "mHJCiGFX0Iu1"
      },
      "id": "mHJCiGFX0Iu1"
    }
  ]
}